{
 "cells": [
  {
   "cell_type": "markdown",
   "id": "5763f02f-60fc-4a71-9d2f-294be676bb5f",
   "metadata": {},
   "source": [
    "# Подготовка, импорты библиотек"
   ]
  },
  {
   "cell_type": "code",
   "execution_count": 40,
   "id": "58dbf931-3b09-4b06-83dc-7918321a9645",
   "metadata": {},
   "outputs": [],
   "source": [
    "import os\n",
    "import numpy as np\n",
    "import pandas as pd\n",
    "\n",
    "import torch\n",
    "import torch.nn as nn\n",
    "import torch.optim as optim\n",
    "import torch.nn.functional as F\n",
    "import matplotlib.pyplot as plt\n",
    "\n",
    "\n",
    "import torchvision\n",
    "import torch.utils.data as data\n",
    "import torchvision.models as models\n",
    "import torchvision.transforms as transforms\n",
    "from torch.optim.lr_scheduler import CosineAnnealingLR\n",
    "\n",
    "import PIL\n",
    "from PIL import Image\n",
    "from torch.utils.data import DataLoader\n",
    "from sklearn.model_selection import train_test_split\n",
    "\n",
    "from tqdm.notebook import tqdm\n",
    "\n",
    "import warnings\n",
    "warnings.filterwarnings('ignore')"
   ]
  },
  {
   "cell_type": "code",
   "execution_count": 24,
   "id": "4d3e3b83-2054-4eb4-8a16-779f7ccc2988",
   "metadata": {},
   "outputs": [],
   "source": [
    "# Hyperparameters\n",
    "NUM_CLASSES = 67\n",
    "LEARNING_RATE = 1e-4\n",
    "BATCH_SIZE = 64\n",
    "NUM_EPOCHS = 20\n",
    "RANDOM_SEED = 42\n",
    "\n",
    "np.random.seed(RANDOM_SEED)\n",
    "torch.manual_seed(RANDOM_SEED)\n",
    "torch.cuda.manual_seed(RANDOM_SEED)"
   ]
  },
  {
   "cell_type": "code",
   "execution_count": 3,
   "id": "f24218cb-77c0-4bf4-9f7f-c854021dfd36",
   "metadata": {},
   "outputs": [],
   "source": [
    "if torch.backends.mps.is_available():\n",
    "    DEVICE = torch.device(\"mps\")\n",
    "elif torch.cuda.is_available():\n",
    "    DEVICE = torch.device('cuda')\n",
    "else:\n",
    "    DEVICE = torch.device('cpu')"
   ]
  },
  {
   "cell_type": "markdown",
   "id": "6cd74bbd-1ea6-4bf0-805b-5818b069713a",
   "metadata": {},
   "source": [
    "# Сбор датасетов для обучения, валидации и теста"
   ]
  },
  {
   "cell_type": "code",
   "execution_count": 18,
   "id": "19946b48-fe0f-4f88-a1c2-76d5a64016a3",
   "metadata": {},
   "outputs": [
    {
     "name": "stdout",
     "output_type": "stream",
     "text": [
      "     filename  class_number\n",
      "0  000000.png            18\n",
      "1  000001.png            18\n"
     ]
    }
   ],
   "source": [
    "#указываем путь к данным\n",
    "DATA_PATH = \"./data/\"\n",
    "TRAIN_ANN_PATH = DATA_PATH + 'train.csv'\n",
    "\n",
    "#читаем аннотацию\n",
    "train_df = pd.read_csv(TRAIN_ANN_PATH)\n",
    "print(train_df.head(2))"
   ]
  },
  {
   "cell_type": "code",
   "execution_count": 19,
   "id": "336b0933-25bc-480d-b7e1-913ab14e84ea",
   "metadata": {},
   "outputs": [],
   "source": [
    "class RoadSignDataset(data.Dataset):\n",
    "  \"\"\"Road Signs dataset class.\n",
    "\n",
    "    Arguments:\n",
    "        root (str): path to images\n",
    "        imlist - pandas DataFrame with columns file_name, class\n",
    "        transform - torchvision transform applied to every image\n",
    "    \"\"\"\n",
    "  def __init__(self, root, flist, transform=None):\n",
    "        self.root   = root\n",
    "        self.imlist = flist \n",
    "        self.transform = transform\n",
    "\n",
    "  def __getitem__(self, index):\n",
    "        #берем строку из пришедшего df по index\n",
    "        impath, target = self.imlist.loc[index]\n",
    "\n",
    "        #собираем полное имя картинки\n",
    "        full_imname = os.path.join(self.root, impath)\n",
    "\n",
    "        if not os.path.exists(full_imname):\n",
    "            print('No file ', full_imname)\n",
    "            pass\n",
    "\n",
    "        img = Image.open(full_imname).convert('RGB')\n",
    "\n",
    "        #применяем к изображению выбранное преобразование (аугментацию)\n",
    "        img = self.transform(img)\n",
    "\n",
    "        #на выход отдаём img, target - нужны для обучения и валидации\n",
    "        return img, target, impath\n",
    "\n",
    "  #метод возвращает длину датасета - просто как длину подаваемого dataframe\n",
    "  def __len__(self):\n",
    "        return len(self.imlist)"
   ]
  },
  {
   "cell_type": "code",
   "execution_count": 20,
   "id": "6f19a6e9-a3d3-4d9d-8745-5bc8dfa69066",
   "metadata": {},
   "outputs": [],
   "source": [
    "class RoadSignTestDataset(data.Dataset):\n",
    "  \"\"\"Road Signs Test dataset class.\n",
    "\n",
    "    Arguments:\n",
    "        root (str): path to images\n",
    "        imlist - list of file_name\n",
    "        transform - torchvision transform applied to every image\n",
    "    \"\"\"\n",
    "  def __init__(self, root, flist=None, transform=None):\n",
    "        self.root   = root\n",
    "        \n",
    "        if flist is not None:\n",
    "            self.imlist = flist\n",
    "        else:\n",
    "            self.imlist = []\n",
    "            for filename in os.listdir(self.root):\n",
    "                if filename[filename.rfind(\".\") + 1:] in ['jpg', 'jpeg', 'png']:\n",
    "                    self.imlist.append(filename)\n",
    "        \n",
    "        self.transform = transform\n",
    "\n",
    "  def __getitem__(self, index):\n",
    "\n",
    "        impath = self.imlist[index]\n",
    "\n",
    "        #собираем полное имя картинки\n",
    "        full_imname = os.path.join(self.root, impath)\n",
    "\n",
    "        if not os.path.exists(full_imname): #если нет такой, ругаемся\n",
    "            print('No file ', full_imname)\n",
    "            pass\n",
    "\n",
    "        #Сразу используем PIL тк torchvision.transforms работает с PIL Image (https://pytorch.org/docs/stable/torchvision/transforms.html)\n",
    "        img = Image.open(full_imname).convert('RGB')\n",
    "\n",
    "        #применяем к изображению выбранное преобразование (аугментацию)\n",
    "        img = self.transform(img)\n",
    "\n",
    "        #на выход отдаём img - нужны для обучения и валидации\n",
    "        return img, impath\n",
    "\n",
    "  #метод возвращает длину датасета - просто как длину подаваемого dataframe\n",
    "  def __len__(self):\n",
    "        return len(self.imlist)"
   ]
  },
  {
   "cell_type": "code",
   "execution_count": 21,
   "id": "83978f9d-0a3c-4121-90ed-0219ab3780b9",
   "metadata": {},
   "outputs": [],
   "source": [
    "#преобразования для train и val\n",
    "transform_for_train_and_val = transforms.Compose([\n",
    "        transforms.ToTensor(),\n",
    "        transforms.Normalize([0.5, 0.5, 0.5], [0.5, 0.5, 0.5])\n",
    "        ])\n",
    "\n",
    "#преобразования для test, для старта те же\n",
    "transform_for_test = transforms.Compose([\n",
    "        transforms.ToTensor(),\n",
    "        transforms.Normalize([0.5, 0.5, 0.5], [0.5, 0.5, 0.5])\n",
    "        ])\n",
    "\n",
    "#датафреймы\n",
    "train, val = train_test_split(train_df, test_size=0.1, random_state=42)\n",
    "\n",
    "#нам нужно будет обращаться по индексу, так что делаем reset\n",
    "train.reset_index(inplace=True, drop=True)\n",
    "val.reset_index(inplace=True, drop=True)\n",
    "\n",
    "batch_size=64"
   ]
  },
  {
   "cell_type": "code",
   "execution_count": 22,
   "id": "20c3629b-73a2-439b-a81c-55395bf9e556",
   "metadata": {},
   "outputs": [],
   "source": [
    "trainset = RoadSignDataset(root='./data/train', flist=train, transform=transform_for_train_and_val)\n",
    "valset = RoadSignDataset(root='./data/train', flist=val, transform=transform_for_train_and_val)\n",
    "testset = RoadSignTestDataset(root='./data/test', flist=None, transform=transform_for_train_and_val)\n",
    "\n",
    "trainloader = torch.utils.data.DataLoader(trainset, batch_size=batch_size, shuffle=True, pin_memory=True)\n",
    "valloader = torch.utils.data.DataLoader(valset, batch_size=batch_size, pin_memory=True)\n",
    "testloader = torch.utils.data.DataLoader(testset, batch_size=batch_size, pin_memory=True)"
   ]
  },
  {
   "cell_type": "code",
   "execution_count": 29,
   "id": "43b33454-09db-4cab-8b3c-c66d3daebf4b",
   "metadata": {},
   "outputs": [],
   "source": [
    "def run_epoch(epoch, is_train):\n",
    "  \"\"\"\n",
    "  Training and evaluaton loop over samples\n",
    "  Args:\n",
    "      train_mode (bool): True for train mode\n",
    "  \"\"\"\n",
    "  if is_train:\n",
    "      net.train()\n",
    "      loader = trainloader\n",
    "      print(\"Training epoch: \", epoch + 1, \"/\", num_epochs)\n",
    "  else:\n",
    "      net.eval()\n",
    "      loader = valloader\n",
    "      print('Validation')\n",
    "\n",
    "  running_loss = 0.0\n",
    "  correct = 0.0\n",
    "  total = 0.0\n",
    "\n",
    "  for i, data in enumerate(tqdm(loader)):\n",
    "      # берем батч, кладем на GPU\n",
    "      images, labels, _= data\n",
    "      images, labels = images.cuda(), labels.cuda()\n",
    "\n",
    "      #мы всегда прогоняем батч через сеть и считаем loss\n",
    "      outputs = net(images)\n",
    "      loss = criterion(outputs, labels)\n",
    "\n",
    "      #занулять градиенты, считать новые, обновлять веса - всё нужно только на обучении\n",
    "      if is_train:\n",
    "          optimizer.zero_grad()\n",
    "          loss.backward()\n",
    "          optimizer.step()\n",
    "\n",
    "      #пополняем логи\n",
    "      running_loss += loss.item()\n",
    "      total += images.data.size(0)\n",
    "\n",
    "      _, predicted = torch.max(outputs.data, 1)\n",
    "      correct += (predicted == labels.data).sum()\n",
    "\n",
    "  #после эпохи или валидации логируем\n",
    "  print('Loss: {:.3f}, accuracy: {:.3f}'.format(running_loss / (i + 1), correct / total * 100.0))"
   ]
  },
  {
   "cell_type": "markdown",
   "id": "795e2c6f-c37b-4690-a3e3-e7975720e71d",
   "metadata": {
    "jp-MarkdownHeadingCollapsed": true
   },
   "source": [
    "# Базовый эксперимент - ResNet18, без аугментаций, Adam, BatchSize 64"
   ]
  },
  {
   "cell_type": "code",
   "execution_count": 31,
   "id": "a3792d6d-4c2b-4a63-b550-42bd4f7947ba",
   "metadata": {},
   "outputs": [],
   "source": [
    "experiment = 'ResNet18_AugNone_Adam_LR3e4_BS64'"
   ]
  },
  {
   "cell_type": "code",
   "execution_count": 27,
   "id": "9d07c68d-55c6-4190-a303-95776e972454",
   "metadata": {},
   "outputs": [],
   "source": [
    "net = models.resnet18(pretrained=True).to(DEVICE)\n",
    "lr = 3e-4 \n",
    "num_epochs = 10 \n",
    "\n",
    "criterion = nn.CrossEntropyLoss()\n",
    "optimizer = torch.optim.Adam(net.parameters(), lr)"
   ]
  },
  {
   "cell_type": "code",
   "execution_count": 30,
   "id": "fa5588a0-56da-4d99-8a8a-4a41b998f74e",
   "metadata": {},
   "outputs": [
    {
     "data": {
      "application/vnd.jupyter.widget-view+json": {
       "model_id": "3938301445c546518e12f8c44f62735d",
       "version_major": 2,
       "version_minor": 0
      },
      "text/plain": [
       "  0%|          | 0/10 [00:00<?, ?it/s]"
      ]
     },
     "metadata": {},
     "output_type": "display_data"
    },
    {
     "name": "stdout",
     "output_type": "stream",
     "text": [
      "Training epoch:  1 / 10\n"
     ]
    },
    {
     "data": {
      "application/vnd.jupyter.widget-view+json": {
       "model_id": "c8f75bafc87a4d3caf5873add7ecaa6e",
       "version_major": 2,
       "version_minor": 0
      },
      "text/plain": [
       "  0%|          | 0/358 [00:00<?, ?it/s]"
      ]
     },
     "metadata": {},
     "output_type": "display_data"
    },
    {
     "name": "stdout",
     "output_type": "stream",
     "text": [
      "Loss: 0.701, accuracy: 84.830\n",
      "Validation\n"
     ]
    },
    {
     "data": {
      "application/vnd.jupyter.widget-view+json": {
       "model_id": "35815844c10d45d0bd0f58403eb09a56",
       "version_major": 2,
       "version_minor": 0
      },
      "text/plain": [
       "  0%|          | 0/40 [00:00<?, ?it/s]"
      ]
     },
     "metadata": {},
     "output_type": "display_data"
    },
    {
     "name": "stdout",
     "output_type": "stream",
     "text": [
      "Loss: 0.174, accuracy: 94.851\n",
      "----------------------\n",
      "Training epoch:  2 / 10\n"
     ]
    },
    {
     "data": {
      "application/vnd.jupyter.widget-view+json": {
       "model_id": "6773992eedd54dbab2c90afe87a7e4d8",
       "version_major": 2,
       "version_minor": 0
      },
      "text/plain": [
       "  0%|          | 0/358 [00:00<?, ?it/s]"
      ]
     },
     "metadata": {},
     "output_type": "display_data"
    },
    {
     "name": "stdout",
     "output_type": "stream",
     "text": [
      "Loss: 0.122, accuracy: 96.479\n",
      "Validation\n"
     ]
    },
    {
     "data": {
      "application/vnd.jupyter.widget-view+json": {
       "model_id": "05ee9e1ce0984c1ea5fc764a599a19c8",
       "version_major": 2,
       "version_minor": 0
      },
      "text/plain": [
       "  0%|          | 0/40 [00:00<?, ?it/s]"
      ]
     },
     "metadata": {},
     "output_type": "display_data"
    },
    {
     "name": "stdout",
     "output_type": "stream",
     "text": [
      "Loss: 0.109, accuracy: 96.973\n",
      "----------------------\n",
      "Training epoch:  3 / 10\n"
     ]
    },
    {
     "data": {
      "application/vnd.jupyter.widget-view+json": {
       "model_id": "cbc5c49aa24447ee89af3f8bfca426ed",
       "version_major": 2,
       "version_minor": 0
      },
      "text/plain": [
       "  0%|          | 0/358 [00:00<?, ?it/s]"
      ]
     },
     "metadata": {},
     "output_type": "display_data"
    },
    {
     "name": "stdout",
     "output_type": "stream",
     "text": [
      "Loss: 0.073, accuracy: 97.837\n",
      "Validation\n"
     ]
    },
    {
     "data": {
      "application/vnd.jupyter.widget-view+json": {
       "model_id": "c27cc83012b848e8aad5bbea88ec87f1",
       "version_major": 2,
       "version_minor": 0
      },
      "text/plain": [
       "  0%|          | 0/40 [00:00<?, ?it/s]"
      ]
     },
     "metadata": {},
     "output_type": "display_data"
    },
    {
     "name": "stdout",
     "output_type": "stream",
     "text": [
      "Loss: 0.071, accuracy: 97.759\n",
      "----------------------\n",
      "Training epoch:  4 / 10\n"
     ]
    },
    {
     "data": {
      "application/vnd.jupyter.widget-view+json": {
       "model_id": "99a59a3d43f840d592b387253a1799fe",
       "version_major": 2,
       "version_minor": 0
      },
      "text/plain": [
       "  0%|          | 0/358 [00:00<?, ?it/s]"
      ]
     },
     "metadata": {},
     "output_type": "display_data"
    },
    {
     "name": "stdout",
     "output_type": "stream",
     "text": [
      "Loss: 0.054, accuracy: 98.418\n",
      "Validation\n"
     ]
    },
    {
     "data": {
      "application/vnd.jupyter.widget-view+json": {
       "model_id": "22fecb3a73e345378f3af88ba197613b",
       "version_major": 2,
       "version_minor": 0
      },
      "text/plain": [
       "  0%|          | 0/40 [00:00<?, ?it/s]"
      ]
     },
     "metadata": {},
     "output_type": "display_data"
    },
    {
     "name": "stdout",
     "output_type": "stream",
     "text": [
      "Loss: 0.085, accuracy: 97.720\n",
      "----------------------\n",
      "Training epoch:  5 / 10\n"
     ]
    },
    {
     "data": {
      "application/vnd.jupyter.widget-view+json": {
       "model_id": "e5162caa639741338f3010cd27ee347c",
       "version_major": 2,
       "version_minor": 0
      },
      "text/plain": [
       "  0%|          | 0/358 [00:00<?, ?it/s]"
      ]
     },
     "metadata": {},
     "output_type": "display_data"
    },
    {
     "name": "stdout",
     "output_type": "stream",
     "text": [
      "Loss: 0.040, accuracy: 98.916\n",
      "Validation\n"
     ]
    },
    {
     "data": {
      "application/vnd.jupyter.widget-view+json": {
       "model_id": "43d9fd34d9974569818e43940c5a8c9d",
       "version_major": 2,
       "version_minor": 0
      },
      "text/plain": [
       "  0%|          | 0/40 [00:00<?, ?it/s]"
      ]
     },
     "metadata": {},
     "output_type": "display_data"
    },
    {
     "name": "stdout",
     "output_type": "stream",
     "text": [
      "Loss: 0.068, accuracy: 98.585\n",
      "----------------------\n",
      "Training epoch:  6 / 10\n"
     ]
    },
    {
     "data": {
      "application/vnd.jupyter.widget-view+json": {
       "model_id": "8c19b7b1cd95492395e4e63bcd848b1e",
       "version_major": 2,
       "version_minor": 0
      },
      "text/plain": [
       "  0%|          | 0/358 [00:00<?, ?it/s]"
      ]
     },
     "metadata": {},
     "output_type": "display_data"
    },
    {
     "name": "stdout",
     "output_type": "stream",
     "text": [
      "Loss: 0.043, accuracy: 98.803\n",
      "Validation\n"
     ]
    },
    {
     "data": {
      "application/vnd.jupyter.widget-view+json": {
       "model_id": "cb36ae974c2f48e9a335c77ecf232f2a",
       "version_major": 2,
       "version_minor": 0
      },
      "text/plain": [
       "  0%|          | 0/40 [00:00<?, ?it/s]"
      ]
     },
     "metadata": {},
     "output_type": "display_data"
    },
    {
     "name": "stdout",
     "output_type": "stream",
     "text": [
      "Loss: 0.058, accuracy: 98.428\n",
      "----------------------\n",
      "Training epoch:  7 / 10\n"
     ]
    },
    {
     "data": {
      "application/vnd.jupyter.widget-view+json": {
       "model_id": "7197292f79574f62b051e303b83e6a9a",
       "version_major": 2,
       "version_minor": 0
      },
      "text/plain": [
       "  0%|          | 0/358 [00:00<?, ?it/s]"
      ]
     },
     "metadata": {},
     "output_type": "display_data"
    },
    {
     "name": "stdout",
     "output_type": "stream",
     "text": [
      "Loss: 0.037, accuracy: 98.925\n",
      "Validation\n"
     ]
    },
    {
     "data": {
      "application/vnd.jupyter.widget-view+json": {
       "model_id": "010b9473042d4117a2275f96ef0fa8a6",
       "version_major": 2,
       "version_minor": 0
      },
      "text/plain": [
       "  0%|          | 0/40 [00:00<?, ?it/s]"
      ]
     },
     "metadata": {},
     "output_type": "display_data"
    },
    {
     "name": "stdout",
     "output_type": "stream",
     "text": [
      "Loss: 0.050, accuracy: 98.467\n",
      "----------------------\n",
      "Training epoch:  8 / 10\n"
     ]
    },
    {
     "data": {
      "application/vnd.jupyter.widget-view+json": {
       "model_id": "99cb12108a594929af116db5aca4efc1",
       "version_major": 2,
       "version_minor": 0
      },
      "text/plain": [
       "  0%|          | 0/358 [00:00<?, ?it/s]"
      ]
     },
     "metadata": {},
     "output_type": "display_data"
    },
    {
     "name": "stdout",
     "output_type": "stream",
     "text": [
      "Loss: 0.034, accuracy: 99.069\n",
      "Validation\n"
     ]
    },
    {
     "data": {
      "application/vnd.jupyter.widget-view+json": {
       "model_id": "1c43c5d4a6fa4fe49ea09a2f914fad4c",
       "version_major": 2,
       "version_minor": 0
      },
      "text/plain": [
       "  0%|          | 0/40 [00:00<?, ?it/s]"
      ]
     },
     "metadata": {},
     "output_type": "display_data"
    },
    {
     "name": "stdout",
     "output_type": "stream",
     "text": [
      "Loss: 0.054, accuracy: 98.703\n",
      "----------------------\n",
      "Training epoch:  9 / 10\n"
     ]
    },
    {
     "data": {
      "application/vnd.jupyter.widget-view+json": {
       "model_id": "ad9ad0fd2e4140298d9a8fc60ce35fcd",
       "version_major": 2,
       "version_minor": 0
      },
      "text/plain": [
       "  0%|          | 0/358 [00:00<?, ?it/s]"
      ]
     },
     "metadata": {},
     "output_type": "display_data"
    },
    {
     "name": "stdout",
     "output_type": "stream",
     "text": [
      "Loss: 0.029, accuracy: 99.222\n",
      "Validation\n"
     ]
    },
    {
     "data": {
      "application/vnd.jupyter.widget-view+json": {
       "model_id": "257f5e10d2b440f89d00541b484b0227",
       "version_major": 2,
       "version_minor": 0
      },
      "text/plain": [
       "  0%|          | 0/40 [00:00<?, ?it/s]"
      ]
     },
     "metadata": {},
     "output_type": "display_data"
    },
    {
     "name": "stdout",
     "output_type": "stream",
     "text": [
      "Loss: 0.045, accuracy: 98.939\n",
      "----------------------\n",
      "Training epoch:  10 / 10\n"
     ]
    },
    {
     "data": {
      "application/vnd.jupyter.widget-view+json": {
       "model_id": "4a13dbbb0bb44bdf877409668bb53e47",
       "version_major": 2,
       "version_minor": 0
      },
      "text/plain": [
       "  0%|          | 0/358 [00:00<?, ?it/s]"
      ]
     },
     "metadata": {},
     "output_type": "display_data"
    },
    {
     "name": "stdout",
     "output_type": "stream",
     "text": [
      "Loss: 0.028, accuracy: 99.292\n",
      "Validation\n"
     ]
    },
    {
     "data": {
      "application/vnd.jupyter.widget-view+json": {
       "model_id": "c116f876302c44dc8e118c5e8e8cf9dc",
       "version_major": 2,
       "version_minor": 0
      },
      "text/plain": [
       "  0%|          | 0/40 [00:00<?, ?it/s]"
      ]
     },
     "metadata": {},
     "output_type": "display_data"
    },
    {
     "name": "stdout",
     "output_type": "stream",
     "text": [
      "Loss: 0.082, accuracy: 98.506\n",
      "----------------------\n",
      "Finished training! Enjoy your results!\n",
      "CPU times: total: 10min 16s\n",
      "Wall time: 3min 16s\n"
     ]
    }
   ],
   "source": [
    "%%time\n",
    "#а теперь просто запускаем функцию с разными значениями is_train для каждой эпохи\n",
    "for epoch in tqdm(range(num_epochs)):\n",
    "  #training\n",
    "  run_epoch(epoch, is_train=True)\n",
    "\n",
    "  #validation\n",
    "  with torch.no_grad():\n",
    "      run_epoch(epoch, is_train=False)\n",
    "\n",
    "  print('----------------------')\n",
    "\n",
    "print('Finished training! Enjoy your results!')"
   ]
  },
  {
   "cell_type": "code",
   "execution_count": 33,
   "id": "9be90732-9def-4892-8322-6e32d5e30cca",
   "metadata": {},
   "outputs": [
    {
     "data": {
      "application/vnd.jupyter.widget-view+json": {
       "model_id": "03ad04cfe2fd4ba4aec6853f6135e93b",
       "version_major": 2,
       "version_minor": 0
      },
      "text/plain": [
       "  0%|          | 0/118 [00:00<?, ?it/s]"
      ]
     },
     "metadata": {},
     "output_type": "display_data"
    }
   ],
   "source": [
    "predictions = {}\n",
    "for batch_idx, (data, filenames) in enumerate(tqdm(testloader)):\n",
    "    # Get data to Cuda/MPS\n",
    "    data = data.to(device=device)\n",
    "    scores = net(data)\n",
    "\n",
    "    for filename, score in zip(filenames, scores):\n",
    "        predictions[filename] = score.argmax().item()\n",
    "preds_df = pd.DataFrame(predictions.items(), columns=['filename', 'class_number'])\n",
    "preds_df.to_csv(f'./outputs/predictions_{experiment}.csv', index=False)"
   ]
  },
  {
   "cell_type": "markdown",
   "id": "f88d81c3-cfe4-4395-bea2-777ddc91102c",
   "metadata": {},
   "source": [
    "# Эксперимент 2 - ResNet50, без аугментаций, Adam, BatchSize 64"
   ]
  },
  {
   "cell_type": "code",
   "execution_count": 34,
   "id": "8e793de4-3c41-4a67-b024-12b6c8b487c6",
   "metadata": {},
   "outputs": [],
   "source": [
    "experiment = 'ResNet50_AugNone_Adam_LR3e4_BS64'"
   ]
  },
  {
   "cell_type": "code",
   "execution_count": 35,
   "id": "288fd589-b4ac-4b69-8d29-fbbb31b5c5b2",
   "metadata": {},
   "outputs": [
    {
     "name": "stderr",
     "output_type": "stream",
     "text": [
      "Downloading: \"https://download.pytorch.org/models/resnet50-0676ba61.pth\" to C:\\Users\\lakeo/.cache\\torch\\hub\\checkpoints\\resnet50-0676ba61.pth\n",
      "100%|█████████████████████████████████████████████████████████████████████████████| 97.8M/97.8M [00:09<00:00, 11.1MB/s]\n"
     ]
    }
   ],
   "source": [
    "net = models.resnet50(pretrained=True).to(DEVICE)\n",
    "lr = 3e-4 \n",
    "num_epochs = 10 \n",
    "\n",
    "criterion = nn.CrossEntropyLoss()\n",
    "optimizer = torch.optim.Adam(net.parameters(), lr)"
   ]
  },
  {
   "cell_type": "code",
   "execution_count": 36,
   "id": "5bfcee14-7ed3-41c7-be2c-0f83914fb433",
   "metadata": {
    "scrolled": true
   },
   "outputs": [
    {
     "data": {
      "application/vnd.jupyter.widget-view+json": {
       "model_id": "dd0eb6e64d384878b201110273c0dd13",
       "version_major": 2,
       "version_minor": 0
      },
      "text/plain": [
       "  0%|          | 0/10 [00:00<?, ?it/s]"
      ]
     },
     "metadata": {},
     "output_type": "display_data"
    },
    {
     "name": "stdout",
     "output_type": "stream",
     "text": [
      "Training epoch:  1 / 10\n"
     ]
    },
    {
     "data": {
      "application/vnd.jupyter.widget-view+json": {
       "model_id": "c9cee7718533440884303e0539b69803",
       "version_major": 2,
       "version_minor": 0
      },
      "text/plain": [
       "  0%|          | 0/358 [00:00<?, ?it/s]"
      ]
     },
     "metadata": {},
     "output_type": "display_data"
    },
    {
     "name": "stdout",
     "output_type": "stream",
     "text": [
      "Loss: 0.639, accuracy: 86.430\n",
      "Validation\n"
     ]
    },
    {
     "data": {
      "application/vnd.jupyter.widget-view+json": {
       "model_id": "01508d3338f746dbae0e1f8126f433ce",
       "version_major": 2,
       "version_minor": 0
      },
      "text/plain": [
       "  0%|          | 0/40 [00:00<?, ?it/s]"
      ]
     },
     "metadata": {},
     "output_type": "display_data"
    },
    {
     "name": "stdout",
     "output_type": "stream",
     "text": [
      "Loss: 0.093, accuracy: 97.209\n",
      "----------------------\n",
      "Training epoch:  2 / 10\n"
     ]
    },
    {
     "data": {
      "application/vnd.jupyter.widget-view+json": {
       "model_id": "cebfb47c2cd74c8b8c7b8946b201f4a2",
       "version_major": 2,
       "version_minor": 0
      },
      "text/plain": [
       "  0%|          | 0/358 [00:00<?, ?it/s]"
      ]
     },
     "metadata": {},
     "output_type": "display_data"
    },
    {
     "name": "stdout",
     "output_type": "stream",
     "text": [
      "Loss: 0.094, accuracy: 97.409\n",
      "Validation\n"
     ]
    },
    {
     "data": {
      "application/vnd.jupyter.widget-view+json": {
       "model_id": "af01cb7f6d204e57835f7d862d776269",
       "version_major": 2,
       "version_minor": 0
      },
      "text/plain": [
       "  0%|          | 0/40 [00:00<?, ?it/s]"
      ]
     },
     "metadata": {},
     "output_type": "display_data"
    },
    {
     "name": "stdout",
     "output_type": "stream",
     "text": [
      "Loss: 0.072, accuracy: 98.349\n",
      "----------------------\n",
      "Training epoch:  3 / 10\n"
     ]
    },
    {
     "data": {
      "application/vnd.jupyter.widget-view+json": {
       "model_id": "e02ee087f61248239f2080f2e79e6730",
       "version_major": 2,
       "version_minor": 0
      },
      "text/plain": [
       "  0%|          | 0/358 [00:00<?, ?it/s]"
      ]
     },
     "metadata": {},
     "output_type": "display_data"
    },
    {
     "name": "stdout",
     "output_type": "stream",
     "text": [
      "Loss: 0.055, accuracy: 98.606\n",
      "Validation\n"
     ]
    },
    {
     "data": {
      "application/vnd.jupyter.widget-view+json": {
       "model_id": "c34d447b0f3b4153b8e4c7686a5704d5",
       "version_major": 2,
       "version_minor": 0
      },
      "text/plain": [
       "  0%|          | 0/40 [00:00<?, ?it/s]"
      ]
     },
     "metadata": {},
     "output_type": "display_data"
    },
    {
     "name": "stdout",
     "output_type": "stream",
     "text": [
      "Loss: 0.071, accuracy: 98.349\n",
      "----------------------\n",
      "Training epoch:  4 / 10\n"
     ]
    },
    {
     "data": {
      "application/vnd.jupyter.widget-view+json": {
       "model_id": "d77c8cf932dc47e0823b112c2e62751d",
       "version_major": 2,
       "version_minor": 0
      },
      "text/plain": [
       "  0%|          | 0/358 [00:00<?, ?it/s]"
      ]
     },
     "metadata": {},
     "output_type": "display_data"
    },
    {
     "name": "stdout",
     "output_type": "stream",
     "text": [
      "Loss: 0.039, accuracy: 98.969\n",
      "Validation\n"
     ]
    },
    {
     "data": {
      "application/vnd.jupyter.widget-view+json": {
       "model_id": "7d4b55f0a12348fb9160d462252a924d",
       "version_major": 2,
       "version_minor": 0
      },
      "text/plain": [
       "  0%|          | 0/40 [00:00<?, ?it/s]"
      ]
     },
     "metadata": {},
     "output_type": "display_data"
    },
    {
     "name": "stdout",
     "output_type": "stream",
     "text": [
      "Loss: 0.073, accuracy: 98.310\n",
      "----------------------\n",
      "Training epoch:  5 / 10\n"
     ]
    },
    {
     "data": {
      "application/vnd.jupyter.widget-view+json": {
       "model_id": "08927f437b744329bd8152587c152a85",
       "version_major": 2,
       "version_minor": 0
      },
      "text/plain": [
       "  0%|          | 0/358 [00:00<?, ?it/s]"
      ]
     },
     "metadata": {},
     "output_type": "display_data"
    },
    {
     "name": "stdout",
     "output_type": "stream",
     "text": [
      "Loss: 0.048, accuracy: 98.768\n",
      "Validation\n"
     ]
    },
    {
     "data": {
      "application/vnd.jupyter.widget-view+json": {
       "model_id": "446e3c63263b4b68a846bdb5a9a4e62e",
       "version_major": 2,
       "version_minor": 0
      },
      "text/plain": [
       "  0%|          | 0/40 [00:00<?, ?it/s]"
      ]
     },
     "metadata": {},
     "output_type": "display_data"
    },
    {
     "name": "stdout",
     "output_type": "stream",
     "text": [
      "Loss: 0.097, accuracy: 97.877\n",
      "----------------------\n",
      "Training epoch:  6 / 10\n"
     ]
    },
    {
     "data": {
      "application/vnd.jupyter.widget-view+json": {
       "model_id": "a603e1eb78624d55830ecd50e443e0ce",
       "version_major": 2,
       "version_minor": 0
      },
      "text/plain": [
       "  0%|          | 0/358 [00:00<?, ?it/s]"
      ]
     },
     "metadata": {},
     "output_type": "display_data"
    },
    {
     "name": "stdout",
     "output_type": "stream",
     "text": [
      "Loss: 0.044, accuracy: 98.873\n",
      "Validation\n"
     ]
    },
    {
     "data": {
      "application/vnd.jupyter.widget-view+json": {
       "model_id": "850344d0cbc84e1da96ba7e659fdabd2",
       "version_major": 2,
       "version_minor": 0
      },
      "text/plain": [
       "  0%|          | 0/40 [00:00<?, ?it/s]"
      ]
     },
     "metadata": {},
     "output_type": "display_data"
    },
    {
     "name": "stdout",
     "output_type": "stream",
     "text": [
      "Loss: 0.065, accuracy: 98.428\n",
      "----------------------\n",
      "Training epoch:  7 / 10\n"
     ]
    },
    {
     "data": {
      "application/vnd.jupyter.widget-view+json": {
       "model_id": "038537c5a5684e7ea35eafc079011990",
       "version_major": 2,
       "version_minor": 0
      },
      "text/plain": [
       "  0%|          | 0/358 [00:00<?, ?it/s]"
      ]
     },
     "metadata": {},
     "output_type": "display_data"
    },
    {
     "name": "stdout",
     "output_type": "stream",
     "text": [
      "Loss: 0.025, accuracy: 99.318\n",
      "Validation\n"
     ]
    },
    {
     "data": {
      "application/vnd.jupyter.widget-view+json": {
       "model_id": "c662eb653078426e9468e91892bb87fb",
       "version_major": 2,
       "version_minor": 0
      },
      "text/plain": [
       "  0%|          | 0/40 [00:00<?, ?it/s]"
      ]
     },
     "metadata": {},
     "output_type": "display_data"
    },
    {
     "name": "stdout",
     "output_type": "stream",
     "text": [
      "Loss: 0.050, accuracy: 98.664\n",
      "----------------------\n",
      "Training epoch:  8 / 10\n"
     ]
    },
    {
     "data": {
      "application/vnd.jupyter.widget-view+json": {
       "model_id": "4767b00d08554791b68a6f3809eb3eaf",
       "version_major": 2,
       "version_minor": 0
      },
      "text/plain": [
       "  0%|          | 0/358 [00:00<?, ?it/s]"
      ]
     },
     "metadata": {},
     "output_type": "display_data"
    },
    {
     "name": "stdout",
     "output_type": "stream",
     "text": [
      "Loss: 0.019, accuracy: 99.428\n",
      "Validation\n"
     ]
    },
    {
     "data": {
      "application/vnd.jupyter.widget-view+json": {
       "model_id": "e45b46c3d7bb413fafdd2deb65b037b5",
       "version_major": 2,
       "version_minor": 0
      },
      "text/plain": [
       "  0%|          | 0/40 [00:00<?, ?it/s]"
      ]
     },
     "metadata": {},
     "output_type": "display_data"
    },
    {
     "name": "stdout",
     "output_type": "stream",
     "text": [
      "Loss: 0.063, accuracy: 98.192\n",
      "----------------------\n",
      "Training epoch:  9 / 10\n"
     ]
    },
    {
     "data": {
      "application/vnd.jupyter.widget-view+json": {
       "model_id": "bedc6c25791e4df5855bc96cdd9651ee",
       "version_major": 2,
       "version_minor": 0
      },
      "text/plain": [
       "  0%|          | 0/358 [00:00<?, ?it/s]"
      ]
     },
     "metadata": {},
     "output_type": "display_data"
    },
    {
     "name": "stdout",
     "output_type": "stream",
     "text": [
      "Loss: 0.037, accuracy: 99.026\n",
      "Validation\n"
     ]
    },
    {
     "data": {
      "application/vnd.jupyter.widget-view+json": {
       "model_id": "183f02e57d9c44f685e2b72ffd4c6478",
       "version_major": 2,
       "version_minor": 0
      },
      "text/plain": [
       "  0%|          | 0/40 [00:00<?, ?it/s]"
      ]
     },
     "metadata": {},
     "output_type": "display_data"
    },
    {
     "name": "stdout",
     "output_type": "stream",
     "text": [
      "Loss: 0.069, accuracy: 98.428\n",
      "----------------------\n",
      "Training epoch:  10 / 10\n"
     ]
    },
    {
     "data": {
      "application/vnd.jupyter.widget-view+json": {
       "model_id": "467d9b8306b64d37a0cdbab82f6a1727",
       "version_major": 2,
       "version_minor": 0
      },
      "text/plain": [
       "  0%|          | 0/358 [00:00<?, ?it/s]"
      ]
     },
     "metadata": {},
     "output_type": "display_data"
    },
    {
     "name": "stdout",
     "output_type": "stream",
     "text": [
      "Loss: 0.024, accuracy: 99.489\n",
      "Validation\n"
     ]
    },
    {
     "data": {
      "application/vnd.jupyter.widget-view+json": {
       "model_id": "e49105613dae4ad5bcfd06ce7bbfbad1",
       "version_major": 2,
       "version_minor": 0
      },
      "text/plain": [
       "  0%|          | 0/40 [00:00<?, ?it/s]"
      ]
     },
     "metadata": {},
     "output_type": "display_data"
    },
    {
     "name": "stdout",
     "output_type": "stream",
     "text": [
      "Loss: 0.061, accuracy: 98.506\n",
      "----------------------\n",
      "Finished training! Enjoy your results!\n",
      "CPU times: total: 12min 59s\n",
      "Wall time: 4min 7s\n"
     ]
    }
   ],
   "source": [
    "%%time\n",
    "#а теперь просто запускаем функцию с разными значениями is_train для каждой эпохи\n",
    "for epoch in tqdm(range(num_epochs)):\n",
    "  #training\n",
    "  run_epoch(epoch, is_train=True)\n",
    "\n",
    "  #validation\n",
    "  with torch.no_grad():\n",
    "      run_epoch(epoch, is_train=False)\n",
    "\n",
    "  print('----------------------')\n",
    "\n",
    "print('Finished training! Enjoy your results!')"
   ]
  },
  {
   "cell_type": "code",
   "execution_count": 37,
   "id": "201ed6e9-cc41-4843-84c0-63f7c866aeb0",
   "metadata": {},
   "outputs": [
    {
     "data": {
      "application/vnd.jupyter.widget-view+json": {
       "model_id": "a2a124175a20431099d36c180d89efde",
       "version_major": 2,
       "version_minor": 0
      },
      "text/plain": [
       "  0%|          | 0/118 [00:00<?, ?it/s]"
      ]
     },
     "metadata": {},
     "output_type": "display_data"
    }
   ],
   "source": [
    "predictions = {}\n",
    "for batch_idx, (data, filenames) in enumerate(tqdm(testloader)):\n",
    "    # Get data to Cuda/MPS\n",
    "    data = data.to(device=device)\n",
    "    scores = net(data)\n",
    "\n",
    "    for filename, score in zip(filenames, scores):\n",
    "        predictions[filename] = score.argmax().item()\n",
    "preds_df = pd.DataFrame(predictions.items(), columns=['filename', 'class_number'])\n",
    "preds_df.to_csv(f'./outputs/predictions_{experiment}.csv', index=False)"
   ]
  },
  {
   "cell_type": "markdown",
   "id": "18e3a897-255d-4aeb-a1a0-d89a17e4e220",
   "metadata": {},
   "source": [
    "# Эксперимент 3 - ResNet50, без аугментаций, Adam, BatchSize 64, CosineLR"
   ]
  },
  {
   "cell_type": "code",
   "execution_count": 42,
   "id": "4eebe4ac-f1dd-4b53-840a-0ed3a17cc9f2",
   "metadata": {},
   "outputs": [],
   "source": [
    "experiment = 'ResNet50_AugNo_Adam_CosineLR01_BS64'"
   ]
  },
  {
   "cell_type": "code",
   "execution_count": 46,
   "id": "55afdcac-af28-43d0-8d93-1b2ead197fdc",
   "metadata": {},
   "outputs": [],
   "source": [
    "net = models.resnet50(pretrained=True).to(DEVICE)\n",
    "\n",
    "lr = 0.01\n",
    "num_epochs = 20\n",
    "\n",
    "optimizer = optim.Adam(net.parameters(), lr)\n",
    "criterion = nn.CrossEntropyLoss()\n",
    "scheduler = CosineAnnealingLR(optimizer, T_max=int(len(trainset)/batch_size + 1)*num_epochs)"
   ]
  },
  {
   "cell_type": "code",
   "execution_count": 47,
   "id": "9b666efb-f74f-4b77-9830-a815f98f4d12",
   "metadata": {},
   "outputs": [],
   "source": [
    "#впишем CosineLR в процесс обучения\n",
    "def run_epoch(epoch, is_train):\n",
    "  \"\"\"\n",
    "  Training and evaluaton loop over samples\n",
    "  Args:\n",
    "      train_mode (bool): True for train mode\n",
    "  \"\"\"\n",
    "  if is_train:\n",
    "      net.train()\n",
    "      loader = trainloader\n",
    "      print(\"Training epoch: \", epoch + 1, \"/\", num_epochs)\n",
    "  else:\n",
    "      net.eval()\n",
    "      loader = valloader\n",
    "      print('Validation')\n",
    "\n",
    "  running_loss = 0.0\n",
    "  correct = 0.0\n",
    "  total = 0.0\n",
    "\n",
    "  for i, data in enumerate(tqdm(loader)):\n",
    "      images, labels, _= data\n",
    "      images, labels = images.cuda(), labels.cuda()\n",
    "      outputs = net(images)\n",
    "      loss = criterion(outputs, labels)\n",
    "\n",
    "      if is_train:\n",
    "          optimizer.zero_grad()\n",
    "          loss.backward()\n",
    "          optimizer.step()\n",
    "          scheduler.step()\n",
    "\n",
    "      running_loss += loss.item()\n",
    "      total += images.data.size(0)\n",
    "\n",
    "      _, predicted = torch.max(outputs.data, 1)\n",
    "      correct += (predicted == labels.data).sum()\n",
    "\n",
    "  lr = scheduler.optimizer.param_groups[0]['lr']\n",
    "  print('Loss: {:.3f}, accuracy: {:.3f}, lr: {}'.format(running_loss / (i + 1), correct / total * 100.0, lr))"
   ]
  },
  {
   "cell_type": "code",
   "execution_count": 48,
   "id": "552b0d09-9f75-455c-8af3-c8e787f61852",
   "metadata": {
    "scrolled": true
   },
   "outputs": [
    {
     "data": {
      "application/vnd.jupyter.widget-view+json": {
       "model_id": "2c0f30cbea9c4256976fed1aecbecd3f",
       "version_major": 2,
       "version_minor": 0
      },
      "text/plain": [
       "  0%|          | 0/20 [00:00<?, ?it/s]"
      ]
     },
     "metadata": {},
     "output_type": "display_data"
    },
    {
     "name": "stdout",
     "output_type": "stream",
     "text": [
      "Training epoch:  1 / 20\n"
     ]
    },
    {
     "data": {
      "application/vnd.jupyter.widget-view+json": {
       "model_id": "d7c57050da7e475587076af998bcfac9",
       "version_major": 2,
       "version_minor": 0
      },
      "text/plain": [
       "  0%|          | 0/358 [00:00<?, ?it/s]"
      ]
     },
     "metadata": {},
     "output_type": "display_data"
    },
    {
     "name": "stdout",
     "output_type": "stream",
     "text": [
      "Loss: 2.329, accuracy: 45.723, lr: 0.009938441702975682\n",
      "Validation\n"
     ]
    },
    {
     "data": {
      "application/vnd.jupyter.widget-view+json": {
       "model_id": "9a316e46154a47d1b1b4fd98c3b0a1b3",
       "version_major": 2,
       "version_minor": 0
      },
      "text/plain": [
       "  0%|          | 0/40 [00:00<?, ?it/s]"
      ]
     },
     "metadata": {},
     "output_type": "display_data"
    },
    {
     "name": "stdout",
     "output_type": "stream",
     "text": [
      "Loss: 0.866, accuracy: 75.118, lr: 0.009938441702975682\n",
      "----------------------\n",
      "Training epoch:  2 / 20\n"
     ]
    },
    {
     "data": {
      "application/vnd.jupyter.widget-view+json": {
       "model_id": "d8945025a487400190a0275a06173cf6",
       "version_major": 2,
       "version_minor": 0
      },
      "text/plain": [
       "  0%|          | 0/358 [00:00<?, ?it/s]"
      ]
     },
     "metadata": {},
     "output_type": "display_data"
    },
    {
     "name": "stdout",
     "output_type": "stream",
     "text": [
      "Loss: 0.466, accuracy: 86.687, lr: 0.009755282581475774\n",
      "Validation\n"
     ]
    },
    {
     "data": {
      "application/vnd.jupyter.widget-view+json": {
       "model_id": "20f520713c814f7c92f3d5c275c7f67a",
       "version_major": 2,
       "version_minor": 0
      },
      "text/plain": [
       "  0%|          | 0/40 [00:00<?, ?it/s]"
      ]
     },
     "metadata": {},
     "output_type": "display_data"
    },
    {
     "name": "stdout",
     "output_type": "stream",
     "text": [
      "Loss: 0.316, accuracy: 91.234, lr: 0.009755282581475774\n",
      "----------------------\n",
      "Training epoch:  3 / 20\n"
     ]
    },
    {
     "data": {
      "application/vnd.jupyter.widget-view+json": {
       "model_id": "5cdb5ed9085d4984b4367e5ef5f57a8b",
       "version_major": 2,
       "version_minor": 0
      },
      "text/plain": [
       "  0%|          | 0/358 [00:00<?, ?it/s]"
      ]
     },
     "metadata": {},
     "output_type": "display_data"
    },
    {
     "name": "stdout",
     "output_type": "stream",
     "text": [
      "Loss: 0.292, accuracy: 91.546, lr: 0.009455032620941833\n",
      "Validation\n"
     ]
    },
    {
     "data": {
      "application/vnd.jupyter.widget-view+json": {
       "model_id": "85f721e48ad84428a8f06a91d0c2777c",
       "version_major": 2,
       "version_minor": 0
      },
      "text/plain": [
       "  0%|          | 0/40 [00:00<?, ?it/s]"
      ]
     },
     "metadata": {},
     "output_type": "display_data"
    },
    {
     "name": "stdout",
     "output_type": "stream",
     "text": [
      "Loss: 0.332, accuracy: 90.998, lr: 0.009455032620941833\n",
      "----------------------\n",
      "Training epoch:  4 / 20\n"
     ]
    },
    {
     "data": {
      "application/vnd.jupyter.widget-view+json": {
       "model_id": "513668f42b1b463fa019aa8c6da05705",
       "version_major": 2,
       "version_minor": 0
      },
      "text/plain": [
       "  0%|          | 0/358 [00:00<?, ?it/s]"
      ]
     },
     "metadata": {},
     "output_type": "display_data"
    },
    {
     "name": "stdout",
     "output_type": "stream",
     "text": [
      "Loss: 0.199, accuracy: 94.110, lr: 0.009045084971874747\n",
      "Validation\n"
     ]
    },
    {
     "data": {
      "application/vnd.jupyter.widget-view+json": {
       "model_id": "d203be5448204887ab8d0b0c3abe0421",
       "version_major": 2,
       "version_minor": 0
      },
      "text/plain": [
       "  0%|          | 0/40 [00:00<?, ?it/s]"
      ]
     },
     "metadata": {},
     "output_type": "display_data"
    },
    {
     "name": "stdout",
     "output_type": "stream",
     "text": [
      "Loss: 0.221, accuracy: 93.318, lr: 0.009045084971874747\n",
      "----------------------\n",
      "Training epoch:  5 / 20\n"
     ]
    },
    {
     "data": {
      "application/vnd.jupyter.widget-view+json": {
       "model_id": "0095906a2cad4073b1b7eaf7ca5d3dce",
       "version_major": 2,
       "version_minor": 0
      },
      "text/plain": [
       "  0%|          | 0/358 [00:00<?, ?it/s]"
      ]
     },
     "metadata": {},
     "output_type": "display_data"
    },
    {
     "name": "stdout",
     "output_type": "stream",
     "text": [
      "Loss: 0.132, accuracy: 96.085, lr: 0.00853553390593274\n",
      "Validation\n"
     ]
    },
    {
     "data": {
      "application/vnd.jupyter.widget-view+json": {
       "model_id": "a348652d0c124446aae3e313c0ed1b81",
       "version_major": 2,
       "version_minor": 0
      },
      "text/plain": [
       "  0%|          | 0/40 [00:00<?, ?it/s]"
      ]
     },
     "metadata": {},
     "output_type": "display_data"
    },
    {
     "name": "stdout",
     "output_type": "stream",
     "text": [
      "Loss: 0.154, accuracy: 95.558, lr: 0.00853553390593274\n",
      "----------------------\n",
      "Training epoch:  6 / 20\n"
     ]
    },
    {
     "data": {
      "application/vnd.jupyter.widget-view+json": {
       "model_id": "435d2c827abf45a491461667c6ad06f6",
       "version_major": 2,
       "version_minor": 0
      },
      "text/plain": [
       "  0%|          | 0/358 [00:00<?, ?it/s]"
      ]
     },
     "metadata": {},
     "output_type": "display_data"
    },
    {
     "name": "stdout",
     "output_type": "stream",
     "text": [
      "Loss: 0.099, accuracy: 96.959, lr: 0.007938926261462361\n",
      "Validation\n"
     ]
    },
    {
     "data": {
      "application/vnd.jupyter.widget-view+json": {
       "model_id": "2512bc50260d44a887edc4807e4f8f39",
       "version_major": 2,
       "version_minor": 0
      },
      "text/plain": [
       "  0%|          | 0/40 [00:00<?, ?it/s]"
      ]
     },
     "metadata": {},
     "output_type": "display_data"
    },
    {
     "name": "stdout",
     "output_type": "stream",
     "text": [
      "Loss: 0.128, accuracy: 96.108, lr: 0.007938926261462361\n",
      "----------------------\n",
      "Training epoch:  7 / 20\n"
     ]
    },
    {
     "data": {
      "application/vnd.jupyter.widget-view+json": {
       "model_id": "ee6b64e2222f4774a89d5c1e4da5c480",
       "version_major": 2,
       "version_minor": 0
      },
      "text/plain": [
       "  0%|          | 0/358 [00:00<?, ?it/s]"
      ]
     },
     "metadata": {},
     "output_type": "display_data"
    },
    {
     "name": "stdout",
     "output_type": "stream",
     "text": [
      "Loss: 0.069, accuracy: 97.885, lr: 0.0072699524986977355\n",
      "Validation\n"
     ]
    },
    {
     "data": {
      "application/vnd.jupyter.widget-view+json": {
       "model_id": "242a1d13dbf24524aad8d3c9babd01cb",
       "version_major": 2,
       "version_minor": 0
      },
      "text/plain": [
       "  0%|          | 0/40 [00:00<?, ?it/s]"
      ]
     },
     "metadata": {},
     "output_type": "display_data"
    },
    {
     "name": "stdout",
     "output_type": "stream",
     "text": [
      "Loss: 0.134, accuracy: 96.148, lr: 0.0072699524986977355\n",
      "----------------------\n",
      "Training epoch:  8 / 20\n"
     ]
    },
    {
     "data": {
      "application/vnd.jupyter.widget-view+json": {
       "model_id": "fe76674f981344529bb9d2ab7623f632",
       "version_major": 2,
       "version_minor": 0
      },
      "text/plain": [
       "  0%|          | 0/358 [00:00<?, ?it/s]"
      ]
     },
     "metadata": {},
     "output_type": "display_data"
    },
    {
     "name": "stdout",
     "output_type": "stream",
     "text": [
      "Loss: 0.056, accuracy: 98.292, lr: 0.006545084971874734\n",
      "Validation\n"
     ]
    },
    {
     "data": {
      "application/vnd.jupyter.widget-view+json": {
       "model_id": "5d3a03ed1c8b47ccac81821945a4c567",
       "version_major": 2,
       "version_minor": 0
      },
      "text/plain": [
       "  0%|          | 0/40 [00:00<?, ?it/s]"
      ]
     },
     "metadata": {},
     "output_type": "display_data"
    },
    {
     "name": "stdout",
     "output_type": "stream",
     "text": [
      "Loss: 0.126, accuracy: 96.305, lr: 0.006545084971874734\n",
      "----------------------\n",
      "Training epoch:  9 / 20\n"
     ]
    },
    {
     "data": {
      "application/vnd.jupyter.widget-view+json": {
       "model_id": "8170c7210f60411ba195a56bc019b9b6",
       "version_major": 2,
       "version_minor": 0
      },
      "text/plain": [
       "  0%|          | 0/358 [00:00<?, ?it/s]"
      ]
     },
     "metadata": {},
     "output_type": "display_data"
    },
    {
     "name": "stdout",
     "output_type": "stream",
     "text": [
      "Loss: 0.056, accuracy: 98.165, lr: 0.005782172325201145\n",
      "Validation\n"
     ]
    },
    {
     "data": {
      "application/vnd.jupyter.widget-view+json": {
       "model_id": "c7f60a0ef119409488cfd1d71b96cd03",
       "version_major": 2,
       "version_minor": 0
      },
      "text/plain": [
       "  0%|          | 0/40 [00:00<?, ?it/s]"
      ]
     },
     "metadata": {},
     "output_type": "display_data"
    },
    {
     "name": "stdout",
     "output_type": "stream",
     "text": [
      "Loss: 0.124, accuracy: 96.934, lr: 0.005782172325201145\n",
      "----------------------\n",
      "Training epoch:  10 / 20\n"
     ]
    },
    {
     "data": {
      "application/vnd.jupyter.widget-view+json": {
       "model_id": "7ca008b5f8c04cfb96acd63fda59b841",
       "version_major": 2,
       "version_minor": 0
      },
      "text/plain": [
       "  0%|          | 0/358 [00:00<?, ?it/s]"
      ]
     },
     "metadata": {},
     "output_type": "display_data"
    },
    {
     "name": "stdout",
     "output_type": "stream",
     "text": [
      "Loss: 0.035, accuracy: 98.912, lr: 0.004999999999999997\n",
      "Validation\n"
     ]
    },
    {
     "data": {
      "application/vnd.jupyter.widget-view+json": {
       "model_id": "728540a3845e4605b153003fe7df06f9",
       "version_major": 2,
       "version_minor": 0
      },
      "text/plain": [
       "  0%|          | 0/40 [00:00<?, ?it/s]"
      ]
     },
     "metadata": {},
     "output_type": "display_data"
    },
    {
     "name": "stdout",
     "output_type": "stream",
     "text": [
      "Loss: 0.259, accuracy: 94.575, lr: 0.004999999999999997\n",
      "----------------------\n",
      "Training epoch:  11 / 20\n"
     ]
    },
    {
     "data": {
      "application/vnd.jupyter.widget-view+json": {
       "model_id": "6aa41c72373a466abf38366aec68da80",
       "version_major": 2,
       "version_minor": 0
      },
      "text/plain": [
       "  0%|          | 0/358 [00:00<?, ?it/s]"
      ]
     },
     "metadata": {},
     "output_type": "display_data"
    },
    {
     "name": "stdout",
     "output_type": "stream",
     "text": [
      "Loss: 0.027, accuracy: 99.161, lr: 0.004217827674798831\n",
      "Validation\n"
     ]
    },
    {
     "data": {
      "application/vnd.jupyter.widget-view+json": {
       "model_id": "66c9460dfc3045ad977816f377aa63ee",
       "version_major": 2,
       "version_minor": 0
      },
      "text/plain": [
       "  0%|          | 0/40 [00:00<?, ?it/s]"
      ]
     },
     "metadata": {},
     "output_type": "display_data"
    },
    {
     "name": "stdout",
     "output_type": "stream",
     "text": [
      "Loss: 0.112, accuracy: 97.484, lr: 0.004217827674798831\n",
      "----------------------\n",
      "Training epoch:  12 / 20\n"
     ]
    },
    {
     "data": {
      "application/vnd.jupyter.widget-view+json": {
       "model_id": "d7e3ee0e4eb34eb280aef4f6b5ea9fae",
       "version_major": 2,
       "version_minor": 0
      },
      "text/plain": [
       "  0%|          | 0/358 [00:00<?, ?it/s]"
      ]
     },
     "metadata": {},
     "output_type": "display_data"
    },
    {
     "name": "stdout",
     "output_type": "stream",
     "text": [
      "Loss: 0.016, accuracy: 99.458, lr: 0.003454915028125253\n",
      "Validation\n"
     ]
    },
    {
     "data": {
      "application/vnd.jupyter.widget-view+json": {
       "model_id": "67f657bbde16421192ca37c58bb1d15b",
       "version_major": 2,
       "version_minor": 0
      },
      "text/plain": [
       "  0%|          | 0/40 [00:00<?, ?it/s]"
      ]
     },
     "metadata": {},
     "output_type": "display_data"
    },
    {
     "name": "stdout",
     "output_type": "stream",
     "text": [
      "Loss: 0.080, accuracy: 97.838, lr: 0.003454915028125253\n",
      "----------------------\n",
      "Training epoch:  13 / 20\n"
     ]
    },
    {
     "data": {
      "application/vnd.jupyter.widget-view+json": {
       "model_id": "8c4d913fde634f4699784f79bd886531",
       "version_major": 2,
       "version_minor": 0
      },
      "text/plain": [
       "  0%|          | 0/358 [00:00<?, ?it/s]"
      ]
     },
     "metadata": {},
     "output_type": "display_data"
    },
    {
     "name": "stdout",
     "output_type": "stream",
     "text": [
      "Loss: 0.006, accuracy: 99.834, lr: 0.0027300475013022525\n",
      "Validation\n"
     ]
    },
    {
     "data": {
      "application/vnd.jupyter.widget-view+json": {
       "model_id": "f14afc6cdaf04ec18338c7b703a6dd1c",
       "version_major": 2,
       "version_minor": 0
      },
      "text/plain": [
       "  0%|          | 0/40 [00:00<?, ?it/s]"
      ]
     },
     "metadata": {},
     "output_type": "display_data"
    },
    {
     "name": "stdout",
     "output_type": "stream",
     "text": [
      "Loss: 0.081, accuracy: 98.074, lr: 0.0027300475013022525\n",
      "----------------------\n",
      "Training epoch:  14 / 20\n"
     ]
    },
    {
     "data": {
      "application/vnd.jupyter.widget-view+json": {
       "model_id": "77352817d51d43959eb568e5d5ce53fe",
       "version_major": 2,
       "version_minor": 0
      },
      "text/plain": [
       "  0%|          | 0/358 [00:00<?, ?it/s]"
      ]
     },
     "metadata": {},
     "output_type": "display_data"
    },
    {
     "name": "stdout",
     "output_type": "stream",
     "text": [
      "Loss: 0.004, accuracy: 99.900, lr: 0.002061073738537622\n",
      "Validation\n"
     ]
    },
    {
     "data": {
      "application/vnd.jupyter.widget-view+json": {
       "model_id": "176dc547df504ae5abf718b9894e2e39",
       "version_major": 2,
       "version_minor": 0
      },
      "text/plain": [
       "  0%|          | 0/40 [00:00<?, ?it/s]"
      ]
     },
     "metadata": {},
     "output_type": "display_data"
    },
    {
     "name": "stdout",
     "output_type": "stream",
     "text": [
      "Loss: 0.078, accuracy: 98.113, lr: 0.002061073738537622\n",
      "----------------------\n",
      "Training epoch:  15 / 20\n"
     ]
    },
    {
     "data": {
      "application/vnd.jupyter.widget-view+json": {
       "model_id": "c17632d794e94485a249113da1d88339",
       "version_major": 2,
       "version_minor": 0
      },
      "text/plain": [
       "  0%|          | 0/358 [00:00<?, ?it/s]"
      ]
     },
     "metadata": {},
     "output_type": "display_data"
    },
    {
     "name": "stdout",
     "output_type": "stream",
     "text": [
      "Loss: 0.001, accuracy: 100.000, lr: 0.0014644660940672564\n",
      "Validation\n"
     ]
    },
    {
     "data": {
      "application/vnd.jupyter.widget-view+json": {
       "model_id": "a540e2fe93ef4ddbb7937885ae3c4ac2",
       "version_major": 2,
       "version_minor": 0
      },
      "text/plain": [
       "  0%|          | 0/40 [00:00<?, ?it/s]"
      ]
     },
     "metadata": {},
     "output_type": "display_data"
    },
    {
     "name": "stdout",
     "output_type": "stream",
     "text": [
      "Loss: 0.075, accuracy: 98.153, lr: 0.0014644660940672564\n",
      "----------------------\n",
      "Training epoch:  16 / 20\n"
     ]
    },
    {
     "data": {
      "application/vnd.jupyter.widget-view+json": {
       "model_id": "49aa14a4b8fa4ba9b1259573d9dd309f",
       "version_major": 2,
       "version_minor": 0
      },
      "text/plain": [
       "  0%|          | 0/358 [00:00<?, ?it/s]"
      ]
     },
     "metadata": {},
     "output_type": "display_data"
    },
    {
     "name": "stdout",
     "output_type": "stream",
     "text": [
      "Loss: 0.000, accuracy: 100.000, lr: 0.0009549150281252607\n",
      "Validation\n"
     ]
    },
    {
     "data": {
      "application/vnd.jupyter.widget-view+json": {
       "model_id": "5d6e0943c3844a7db27f8bce81b19121",
       "version_major": 2,
       "version_minor": 0
      },
      "text/plain": [
       "  0%|          | 0/40 [00:00<?, ?it/s]"
      ]
     },
     "metadata": {},
     "output_type": "display_data"
    },
    {
     "name": "stdout",
     "output_type": "stream",
     "text": [
      "Loss: 0.071, accuracy: 98.231, lr: 0.0009549150281252607\n",
      "----------------------\n",
      "Training epoch:  17 / 20\n"
     ]
    },
    {
     "data": {
      "application/vnd.jupyter.widget-view+json": {
       "model_id": "c50014ba7bfb42a8bc1b48532f91c384",
       "version_major": 2,
       "version_minor": 0
      },
      "text/plain": [
       "  0%|          | 0/358 [00:00<?, ?it/s]"
      ]
     },
     "metadata": {},
     "output_type": "display_data"
    },
    {
     "name": "stdout",
     "output_type": "stream",
     "text": [
      "Loss: 0.000, accuracy: 100.000, lr: 0.0005449673790581593\n",
      "Validation\n"
     ]
    },
    {
     "data": {
      "application/vnd.jupyter.widget-view+json": {
       "model_id": "3934d9da08db49e584caa0668b01d1a1",
       "version_major": 2,
       "version_minor": 0
      },
      "text/plain": [
       "  0%|          | 0/40 [00:00<?, ?it/s]"
      ]
     },
     "metadata": {},
     "output_type": "display_data"
    },
    {
     "name": "stdout",
     "output_type": "stream",
     "text": [
      "Loss: 0.073, accuracy: 98.192, lr: 0.0005449673790581593\n",
      "----------------------\n",
      "Training epoch:  18 / 20\n"
     ]
    },
    {
     "data": {
      "application/vnd.jupyter.widget-view+json": {
       "model_id": "53639fa80b1a4ded923d795d428d736d",
       "version_major": 2,
       "version_minor": 0
      },
      "text/plain": [
       "  0%|          | 0/358 [00:00<?, ?it/s]"
      ]
     },
     "metadata": {},
     "output_type": "display_data"
    },
    {
     "name": "stdout",
     "output_type": "stream",
     "text": [
      "Loss: 0.000, accuracy: 100.000, lr: 0.00024471741852423115\n",
      "Validation\n"
     ]
    },
    {
     "data": {
      "application/vnd.jupyter.widget-view+json": {
       "model_id": "64bdd14e7ecf413ab0a1166072b99fda",
       "version_major": 2,
       "version_minor": 0
      },
      "text/plain": [
       "  0%|          | 0/40 [00:00<?, ?it/s]"
      ]
     },
     "metadata": {},
     "output_type": "display_data"
    },
    {
     "name": "stdout",
     "output_type": "stream",
     "text": [
      "Loss: 0.071, accuracy: 98.310, lr: 0.00024471741852423115\n",
      "----------------------\n",
      "Training epoch:  19 / 20\n"
     ]
    },
    {
     "data": {
      "application/vnd.jupyter.widget-view+json": {
       "model_id": "0f384d4589e04079b3666180439f1bc6",
       "version_major": 2,
       "version_minor": 0
      },
      "text/plain": [
       "  0%|          | 0/358 [00:00<?, ?it/s]"
      ]
     },
     "metadata": {},
     "output_type": "display_data"
    },
    {
     "name": "stdout",
     "output_type": "stream",
     "text": [
      "Loss: 0.000, accuracy: 100.000, lr: 6.155829702431139e-05\n",
      "Validation\n"
     ]
    },
    {
     "data": {
      "application/vnd.jupyter.widget-view+json": {
       "model_id": "0e74ab068b49409ab5030815d8c385ea",
       "version_major": 2,
       "version_minor": 0
      },
      "text/plain": [
       "  0%|          | 0/40 [00:00<?, ?it/s]"
      ]
     },
     "metadata": {},
     "output_type": "display_data"
    },
    {
     "name": "stdout",
     "output_type": "stream",
     "text": [
      "Loss: 0.071, accuracy: 98.310, lr: 6.155829702431139e-05\n",
      "----------------------\n",
      "Training epoch:  20 / 20\n"
     ]
    },
    {
     "data": {
      "application/vnd.jupyter.widget-view+json": {
       "model_id": "9a52a5bffb9842ccafe353d98f7696b4",
       "version_major": 2,
       "version_minor": 0
      },
      "text/plain": [
       "  0%|          | 0/358 [00:00<?, ?it/s]"
      ]
     },
     "metadata": {},
     "output_type": "display_data"
    },
    {
     "name": "stdout",
     "output_type": "stream",
     "text": [
      "Loss: 0.000, accuracy: 100.000, lr: 0.0\n",
      "Validation\n"
     ]
    },
    {
     "data": {
      "application/vnd.jupyter.widget-view+json": {
       "model_id": "528c617241e443369bc8d35d52fd196e",
       "version_major": 2,
       "version_minor": 0
      },
      "text/plain": [
       "  0%|          | 0/40 [00:00<?, ?it/s]"
      ]
     },
     "metadata": {},
     "output_type": "display_data"
    },
    {
     "name": "stdout",
     "output_type": "stream",
     "text": [
      "Loss: 0.071, accuracy: 98.270, lr: 0.0\n",
      "----------------------\n",
      "Finished training! Enjoy your results!\n",
      "CPU times: total: 28min 18s\n",
      "Wall time: 8min 10s\n"
     ]
    }
   ],
   "source": [
    "%%time\n",
    "for epoch in tqdm(range(num_epochs)):\n",
    "  #training\n",
    "  run_epoch(epoch, is_train=True)\n",
    "\n",
    "  #validation\n",
    "  with torch.no_grad():\n",
    "      run_epoch(epoch, is_train=False)\n",
    "\n",
    "  print('----------------------')\n",
    "\n",
    "print('Finished training! Enjoy your results!')"
   ]
  },
  {
   "cell_type": "code",
   "execution_count": 49,
   "id": "53e33a68-a9ad-4b05-a4b1-ae2adbf6ed14",
   "metadata": {},
   "outputs": [
    {
     "data": {
      "application/vnd.jupyter.widget-view+json": {
       "model_id": "716804602fe344dbb46b445fa207d754",
       "version_major": 2,
       "version_minor": 0
      },
      "text/plain": [
       "  0%|          | 0/118 [00:00<?, ?it/s]"
      ]
     },
     "metadata": {},
     "output_type": "display_data"
    }
   ],
   "source": [
    "predictions = {}\n",
    "for batch_idx, (data, filenames) in enumerate(tqdm(testloader)):\n",
    "    # Get data to Cuda/MPS\n",
    "    data = data.to(device=device)\n",
    "    scores = net(data)\n",
    "\n",
    "    for filename, score in zip(filenames, scores):\n",
    "        predictions[filename] = score.argmax().item()\n",
    "preds_df = pd.DataFrame(predictions.items(), columns=['filename', 'class_number'])\n",
    "preds_df.to_csv(f'./outputs/predictions_{experiment}.csv', index=False)"
   ]
  },
  {
   "cell_type": "code",
   "execution_count": null,
   "id": "dd14052f-2bc6-4b78-836b-08da4edf7669",
   "metadata": {},
   "outputs": [],
   "source": []
  }
 ],
 "metadata": {
  "kernelspec": {
   "display_name": "Python 3 (ipykernel)",
   "language": "python",
   "name": "python3"
  },
  "language_info": {
   "codemirror_mode": {
    "name": "ipython",
    "version": 3
   },
   "file_extension": ".py",
   "mimetype": "text/x-python",
   "name": "python",
   "nbconvert_exporter": "python",
   "pygments_lexer": "ipython3",
   "version": "3.11.7"
  }
 },
 "nbformat": 4,
 "nbformat_minor": 5
}
