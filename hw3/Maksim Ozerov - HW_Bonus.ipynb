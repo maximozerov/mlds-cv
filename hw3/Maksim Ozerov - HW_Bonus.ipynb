{
 "cells": [
  {
   "cell_type": "markdown",
   "id": "a1d947ac-383b-4adc-af47-400e4020b634",
   "metadata": {},
   "source": [
    "На публичной части тестового датасета лучшие результаты достигнуты:\n",
    "- ResNet152, набор аугментаций включая блюр, Adam, LR 3e4, batch 64: 95.629\n",
    "- ResNet50, без аугментаций, Adam, LR 3e4, BS64: 95.695"
   ]
  },
  {
   "cell_type": "markdown",
   "id": "5763f02f-60fc-4a71-9d2f-294be676bb5f",
   "metadata": {},
   "source": [
    "# Подготовка, импорты библиотек"
   ]
  },
  {
   "cell_type": "code",
   "execution_count": 30,
   "id": "58dbf931-3b09-4b06-83dc-7918321a9645",
   "metadata": {},
   "outputs": [],
   "source": [
    "import os\n",
    "import numpy as np\n",
    "import pandas as pd\n",
    "\n",
    "import torch\n",
    "import torch.nn as nn\n",
    "import torch.optim as optim\n",
    "import torch.nn.functional as F\n",
    "import matplotlib.pyplot as plt\n",
    "\n",
    "\n",
    "import torchvision\n",
    "import torch.utils.data as data\n",
    "import torchvision.models as models\n",
    "import torchvision.transforms as transforms\n",
    "from torch.optim.lr_scheduler import CosineAnnealingLR\n",
    "\n",
    "import PIL\n",
    "from PIL import Image\n",
    "from torch.utils.data import DataLoader\n",
    "from sklearn.model_selection import train_test_split\n",
    "\n",
    "from tqdm.notebook import tqdm\n",
    "\n",
    "import warnings\n",
    "warnings.filterwarnings('ignore')"
   ]
  },
  {
   "cell_type": "code",
   "execution_count": 31,
   "id": "4d3e3b83-2054-4eb4-8a16-779f7ccc2988",
   "metadata": {},
   "outputs": [],
   "source": [
    "# Hyperparameters\n",
    "NUM_CLASSES = 67\n",
    "LEARNING_RATE = 1e-4\n",
    "BATCH_SIZE = 64\n",
    "NUM_EPOCHS = 20\n",
    "RANDOM_SEED = 42\n",
    "\n",
    "np.random.seed(RANDOM_SEED)\n",
    "torch.manual_seed(RANDOM_SEED)\n",
    "torch.cuda.manual_seed(RANDOM_SEED)"
   ]
  },
  {
   "cell_type": "code",
   "execution_count": 32,
   "id": "f24218cb-77c0-4bf4-9f7f-c854021dfd36",
   "metadata": {},
   "outputs": [],
   "source": [
    "if torch.backends.mps.is_available():\n",
    "    DEVICE = torch.device(\"mps\")\n",
    "elif torch.cuda.is_available():\n",
    "    DEVICE = torch.device('cuda')\n",
    "else:\n",
    "    DEVICE = torch.device('cpu')"
   ]
  },
  {
   "cell_type": "markdown",
   "id": "6cd74bbd-1ea6-4bf0-805b-5818b069713a",
   "metadata": {
    "jp-MarkdownHeadingCollapsed": true
   },
   "source": [
    "# Сбор датасетов для обучения, валидации и теста"
   ]
  },
  {
   "cell_type": "code",
   "execution_count": 33,
   "id": "19946b48-fe0f-4f88-a1c2-76d5a64016a3",
   "metadata": {},
   "outputs": [
    {
     "name": "stdout",
     "output_type": "stream",
     "text": [
      "     filename  class_number\n",
      "0  000000.png            18\n",
      "1  000001.png            18\n"
     ]
    }
   ],
   "source": [
    "#указываем путь к данным\n",
    "DATA_PATH = \"./data/\"\n",
    "TRAIN_ANN_PATH = DATA_PATH + 'train.csv'\n",
    "\n",
    "#читаем аннотацию\n",
    "train_df = pd.read_csv(TRAIN_ANN_PATH)\n",
    "print(train_df.head(2))"
   ]
  },
  {
   "cell_type": "code",
   "execution_count": 34,
   "id": "336b0933-25bc-480d-b7e1-913ab14e84ea",
   "metadata": {},
   "outputs": [],
   "source": [
    "class RoadSignDataset(data.Dataset):\n",
    "  \"\"\"Road Signs dataset class.\n",
    "\n",
    "    Arguments:\n",
    "        root (str): path to images\n",
    "        imlist - pandas DataFrame with columns file_name, class\n",
    "        transform - torchvision transform applied to every image\n",
    "    \"\"\"\n",
    "  def __init__(self, root, flist, transform=None):\n",
    "        self.root   = root\n",
    "        self.imlist = flist \n",
    "        self.transform = transform\n",
    "\n",
    "  def __getitem__(self, index):\n",
    "        #берем строку из пришедшего df по index\n",
    "        impath, target = self.imlist.loc[index]\n",
    "\n",
    "        #собираем полное имя картинки\n",
    "        full_imname = os.path.join(self.root, impath)\n",
    "\n",
    "        if not os.path.exists(full_imname):\n",
    "            print('No file ', full_imname)\n",
    "            pass\n",
    "\n",
    "        img = Image.open(full_imname).convert('RGB')\n",
    "\n",
    "        #применяем к изображению выбранное преобразование (аугментацию)\n",
    "        img = self.transform(img)\n",
    "\n",
    "        #на выход отдаём img, target - нужны для обучения и валидации\n",
    "        return img, target, impath\n",
    "\n",
    "  #метод возвращает длину датасета - просто как длину подаваемого dataframe\n",
    "  def __len__(self):\n",
    "        return len(self.imlist)"
   ]
  },
  {
   "cell_type": "code",
   "execution_count": 35,
   "id": "6f19a6e9-a3d3-4d9d-8745-5bc8dfa69066",
   "metadata": {},
   "outputs": [],
   "source": [
    "class RoadSignTestDataset(data.Dataset):\n",
    "  \"\"\"Road Signs Test dataset class.\n",
    "\n",
    "    Arguments:\n",
    "        root (str): path to images\n",
    "        imlist - list of file_name\n",
    "        transform - torchvision transform applied to every image\n",
    "    \"\"\"\n",
    "  def __init__(self, root, flist=None, transform=None):\n",
    "        self.root   = root\n",
    "        \n",
    "        if flist is not None:\n",
    "            self.imlist = flist\n",
    "        else:\n",
    "            self.imlist = []\n",
    "            for filename in os.listdir(self.root):\n",
    "                if filename[filename.rfind(\".\") + 1:] in ['jpg', 'jpeg', 'png']:\n",
    "                    self.imlist.append(filename)\n",
    "        \n",
    "        self.transform = transform\n",
    "\n",
    "  def __getitem__(self, index):\n",
    "\n",
    "        impath = self.imlist[index]\n",
    "\n",
    "        #собираем полное имя картинки\n",
    "        full_imname = os.path.join(self.root, impath)\n",
    "\n",
    "        if not os.path.exists(full_imname): #если нет такой, ругаемся\n",
    "            print('No file ', full_imname)\n",
    "            pass\n",
    "\n",
    "        #Сразу используем PIL тк torchvision.transforms работает с PIL Image (https://pytorch.org/docs/stable/torchvision/transforms.html)\n",
    "        img = Image.open(full_imname).convert('RGB')\n",
    "\n",
    "        #применяем к изображению выбранное преобразование (аугментацию)\n",
    "        img = self.transform(img)\n",
    "\n",
    "        #на выход отдаём img - нужны для обучения и валидации\n",
    "        return img, impath\n",
    "\n",
    "  #метод возвращает длину датасета - просто как длину подаваемого dataframe\n",
    "  def __len__(self):\n",
    "        return len(self.imlist)"
   ]
  },
  {
   "cell_type": "code",
   "execution_count": 21,
   "id": "83978f9d-0a3c-4121-90ed-0219ab3780b9",
   "metadata": {},
   "outputs": [],
   "source": [
    "#преобразования для train и val\n",
    "transform_for_train_and_val = transforms.Compose([\n",
    "        transforms.ToTensor(),\n",
    "        transforms.Normalize([0.5, 0.5, 0.5], [0.5, 0.5, 0.5])\n",
    "        ])\n",
    "\n",
    "#преобразования для test, для старта те же\n",
    "transform_for_test = transforms.Compose([\n",
    "        transforms.ToTensor(),\n",
    "        transforms.Normalize([0.5, 0.5, 0.5], [0.5, 0.5, 0.5])\n",
    "        ])\n",
    "\n",
    "#датафреймы\n",
    "train, val = train_test_split(train_df, test_size=0.1, random_state=42)\n",
    "\n",
    "#нам нужно будет обращаться по индексу, так что делаем reset\n",
    "train.reset_index(inplace=True, drop=True)\n",
    "val.reset_index(inplace=True, drop=True)\n",
    "\n",
    "batch_size=64"
   ]
  },
  {
   "cell_type": "code",
   "execution_count": 22,
   "id": "20c3629b-73a2-439b-a81c-55395bf9e556",
   "metadata": {},
   "outputs": [],
   "source": [
    "trainset = RoadSignDataset(root='./data/train', flist=train, transform=transform_for_train_and_val)\n",
    "valset = RoadSignDataset(root='./data/train', flist=val, transform=transform_for_train_and_val)\n",
    "testset = RoadSignTestDataset(root='./data/test', flist=None, transform=transform_for_train_and_val)\n",
    "\n",
    "trainloader = torch.utils.data.DataLoader(trainset, batch_size=batch_size, shuffle=True, pin_memory=True)\n",
    "valloader = torch.utils.data.DataLoader(valset, batch_size=batch_size, pin_memory=True)\n",
    "testloader = torch.utils.data.DataLoader(testset, batch_size=batch_size, pin_memory=True)"
   ]
  },
  {
   "cell_type": "code",
   "execution_count": 16,
   "id": "43b33454-09db-4cab-8b3c-c66d3daebf4b",
   "metadata": {},
   "outputs": [],
   "source": [
    "def run_epoch(epoch, is_train):\n",
    "  \"\"\"\n",
    "  Training and evaluaton loop over samples\n",
    "  Args:\n",
    "      train_mode (bool): True for train mode\n",
    "  \"\"\"\n",
    "  if is_train:\n",
    "      net.train()\n",
    "      loader = trainloader\n",
    "      print(\"Training epoch: \", epoch + 1, \"/\", num_epochs)\n",
    "  else:\n",
    "      net.eval()\n",
    "      loader = valloader\n",
    "      print('Validation')\n",
    "\n",
    "  running_loss = 0.0\n",
    "  correct = 0.0\n",
    "  total = 0.0\n",
    "\n",
    "  for i, data in enumerate(tqdm(loader)):\n",
    "      # берем батч, кладем на GPU\n",
    "      images, labels, _= data\n",
    "      images, labels = images.cuda(), labels.cuda()\n",
    "\n",
    "      #мы всегда прогоняем батч через сеть и считаем loss\n",
    "      outputs = net(images)\n",
    "      loss = criterion(outputs, labels)\n",
    "\n",
    "      #занулять градиенты, считать новые, обновлять веса - всё нужно только на обучении\n",
    "      if is_train:\n",
    "          optimizer.zero_grad()\n",
    "          loss.backward()\n",
    "          optimizer.step()\n",
    "\n",
    "      #пополняем логи\n",
    "      running_loss += loss.item()\n",
    "      total += images.data.size(0)\n",
    "\n",
    "      _, predicted = torch.max(outputs.data, 1)\n",
    "      correct += (predicted == labels.data).sum()\n",
    "\n",
    "  #после эпохи или валидации логируем\n",
    "  print('Loss: {:.3f}, accuracy: {:.3f}'.format(running_loss / (i + 1), correct / total * 100.0))"
   ]
  },
  {
   "cell_type": "markdown",
   "id": "795e2c6f-c37b-4690-a3e3-e7975720e71d",
   "metadata": {
    "jp-MarkdownHeadingCollapsed": true
   },
   "source": [
    "# Базовый эксперимент - ResNet18, без аугментаций, Adam, BatchSize 64"
   ]
  },
  {
   "cell_type": "code",
   "execution_count": 31,
   "id": "a3792d6d-4c2b-4a63-b550-42bd4f7947ba",
   "metadata": {},
   "outputs": [],
   "source": [
    "experiment = 'ResNet18_AugNone_Adam_LR3e4_BS64'"
   ]
  },
  {
   "cell_type": "code",
   "execution_count": 27,
   "id": "9d07c68d-55c6-4190-a303-95776e972454",
   "metadata": {},
   "outputs": [],
   "source": [
    "net = models.resnet18(pretrained=True).to(DEVICE)\n",
    "lr = 3e-4 \n",
    "num_epochs = 10 \n",
    "\n",
    "criterion = nn.CrossEntropyLoss()\n",
    "optimizer = torch.optim.Adam(net.parameters(), lr)"
   ]
  },
  {
   "cell_type": "code",
   "execution_count": 30,
   "id": "fa5588a0-56da-4d99-8a8a-4a41b998f74e",
   "metadata": {},
   "outputs": [
    {
     "data": {
      "application/vnd.jupyter.widget-view+json": {
       "model_id": "3938301445c546518e12f8c44f62735d",
       "version_major": 2,
       "version_minor": 0
      },
      "text/plain": [
       "  0%|          | 0/10 [00:00<?, ?it/s]"
      ]
     },
     "metadata": {},
     "output_type": "display_data"
    },
    {
     "name": "stdout",
     "output_type": "stream",
     "text": [
      "Training epoch:  1 / 10\n"
     ]
    },
    {
     "data": {
      "application/vnd.jupyter.widget-view+json": {
       "model_id": "c8f75bafc87a4d3caf5873add7ecaa6e",
       "version_major": 2,
       "version_minor": 0
      },
      "text/plain": [
       "  0%|          | 0/358 [00:00<?, ?it/s]"
      ]
     },
     "metadata": {},
     "output_type": "display_data"
    },
    {
     "name": "stdout",
     "output_type": "stream",
     "text": [
      "Loss: 0.701, accuracy: 84.830\n",
      "Validation\n"
     ]
    },
    {
     "data": {
      "application/vnd.jupyter.widget-view+json": {
       "model_id": "35815844c10d45d0bd0f58403eb09a56",
       "version_major": 2,
       "version_minor": 0
      },
      "text/plain": [
       "  0%|          | 0/40 [00:00<?, ?it/s]"
      ]
     },
     "metadata": {},
     "output_type": "display_data"
    },
    {
     "name": "stdout",
     "output_type": "stream",
     "text": [
      "Loss: 0.174, accuracy: 94.851\n",
      "----------------------\n",
      "Training epoch:  2 / 10\n"
     ]
    },
    {
     "data": {
      "application/vnd.jupyter.widget-view+json": {
       "model_id": "6773992eedd54dbab2c90afe87a7e4d8",
       "version_major": 2,
       "version_minor": 0
      },
      "text/plain": [
       "  0%|          | 0/358 [00:00<?, ?it/s]"
      ]
     },
     "metadata": {},
     "output_type": "display_data"
    },
    {
     "name": "stdout",
     "output_type": "stream",
     "text": [
      "Loss: 0.122, accuracy: 96.479\n",
      "Validation\n"
     ]
    },
    {
     "data": {
      "application/vnd.jupyter.widget-view+json": {
       "model_id": "05ee9e1ce0984c1ea5fc764a599a19c8",
       "version_major": 2,
       "version_minor": 0
      },
      "text/plain": [
       "  0%|          | 0/40 [00:00<?, ?it/s]"
      ]
     },
     "metadata": {},
     "output_type": "display_data"
    },
    {
     "name": "stdout",
     "output_type": "stream",
     "text": [
      "Loss: 0.109, accuracy: 96.973\n",
      "----------------------\n",
      "Training epoch:  3 / 10\n"
     ]
    },
    {
     "data": {
      "application/vnd.jupyter.widget-view+json": {
       "model_id": "cbc5c49aa24447ee89af3f8bfca426ed",
       "version_major": 2,
       "version_minor": 0
      },
      "text/plain": [
       "  0%|          | 0/358 [00:00<?, ?it/s]"
      ]
     },
     "metadata": {},
     "output_type": "display_data"
    },
    {
     "name": "stdout",
     "output_type": "stream",
     "text": [
      "Loss: 0.073, accuracy: 97.837\n",
      "Validation\n"
     ]
    },
    {
     "data": {
      "application/vnd.jupyter.widget-view+json": {
       "model_id": "c27cc83012b848e8aad5bbea88ec87f1",
       "version_major": 2,
       "version_minor": 0
      },
      "text/plain": [
       "  0%|          | 0/40 [00:00<?, ?it/s]"
      ]
     },
     "metadata": {},
     "output_type": "display_data"
    },
    {
     "name": "stdout",
     "output_type": "stream",
     "text": [
      "Loss: 0.071, accuracy: 97.759\n",
      "----------------------\n",
      "Training epoch:  4 / 10\n"
     ]
    },
    {
     "data": {
      "application/vnd.jupyter.widget-view+json": {
       "model_id": "99a59a3d43f840d592b387253a1799fe",
       "version_major": 2,
       "version_minor": 0
      },
      "text/plain": [
       "  0%|          | 0/358 [00:00<?, ?it/s]"
      ]
     },
     "metadata": {},
     "output_type": "display_data"
    },
    {
     "name": "stdout",
     "output_type": "stream",
     "text": [
      "Loss: 0.054, accuracy: 98.418\n",
      "Validation\n"
     ]
    },
    {
     "data": {
      "application/vnd.jupyter.widget-view+json": {
       "model_id": "22fecb3a73e345378f3af88ba197613b",
       "version_major": 2,
       "version_minor": 0
      },
      "text/plain": [
       "  0%|          | 0/40 [00:00<?, ?it/s]"
      ]
     },
     "metadata": {},
     "output_type": "display_data"
    },
    {
     "name": "stdout",
     "output_type": "stream",
     "text": [
      "Loss: 0.085, accuracy: 97.720\n",
      "----------------------\n",
      "Training epoch:  5 / 10\n"
     ]
    },
    {
     "data": {
      "application/vnd.jupyter.widget-view+json": {
       "model_id": "e5162caa639741338f3010cd27ee347c",
       "version_major": 2,
       "version_minor": 0
      },
      "text/plain": [
       "  0%|          | 0/358 [00:00<?, ?it/s]"
      ]
     },
     "metadata": {},
     "output_type": "display_data"
    },
    {
     "name": "stdout",
     "output_type": "stream",
     "text": [
      "Loss: 0.040, accuracy: 98.916\n",
      "Validation\n"
     ]
    },
    {
     "data": {
      "application/vnd.jupyter.widget-view+json": {
       "model_id": "43d9fd34d9974569818e43940c5a8c9d",
       "version_major": 2,
       "version_minor": 0
      },
      "text/plain": [
       "  0%|          | 0/40 [00:00<?, ?it/s]"
      ]
     },
     "metadata": {},
     "output_type": "display_data"
    },
    {
     "name": "stdout",
     "output_type": "stream",
     "text": [
      "Loss: 0.068, accuracy: 98.585\n",
      "----------------------\n",
      "Training epoch:  6 / 10\n"
     ]
    },
    {
     "data": {
      "application/vnd.jupyter.widget-view+json": {
       "model_id": "8c19b7b1cd95492395e4e63bcd848b1e",
       "version_major": 2,
       "version_minor": 0
      },
      "text/plain": [
       "  0%|          | 0/358 [00:00<?, ?it/s]"
      ]
     },
     "metadata": {},
     "output_type": "display_data"
    },
    {
     "name": "stdout",
     "output_type": "stream",
     "text": [
      "Loss: 0.043, accuracy: 98.803\n",
      "Validation\n"
     ]
    },
    {
     "data": {
      "application/vnd.jupyter.widget-view+json": {
       "model_id": "cb36ae974c2f48e9a335c77ecf232f2a",
       "version_major": 2,
       "version_minor": 0
      },
      "text/plain": [
       "  0%|          | 0/40 [00:00<?, ?it/s]"
      ]
     },
     "metadata": {},
     "output_type": "display_data"
    },
    {
     "name": "stdout",
     "output_type": "stream",
     "text": [
      "Loss: 0.058, accuracy: 98.428\n",
      "----------------------\n",
      "Training epoch:  7 / 10\n"
     ]
    },
    {
     "data": {
      "application/vnd.jupyter.widget-view+json": {
       "model_id": "7197292f79574f62b051e303b83e6a9a",
       "version_major": 2,
       "version_minor": 0
      },
      "text/plain": [
       "  0%|          | 0/358 [00:00<?, ?it/s]"
      ]
     },
     "metadata": {},
     "output_type": "display_data"
    },
    {
     "name": "stdout",
     "output_type": "stream",
     "text": [
      "Loss: 0.037, accuracy: 98.925\n",
      "Validation\n"
     ]
    },
    {
     "data": {
      "application/vnd.jupyter.widget-view+json": {
       "model_id": "010b9473042d4117a2275f96ef0fa8a6",
       "version_major": 2,
       "version_minor": 0
      },
      "text/plain": [
       "  0%|          | 0/40 [00:00<?, ?it/s]"
      ]
     },
     "metadata": {},
     "output_type": "display_data"
    },
    {
     "name": "stdout",
     "output_type": "stream",
     "text": [
      "Loss: 0.050, accuracy: 98.467\n",
      "----------------------\n",
      "Training epoch:  8 / 10\n"
     ]
    },
    {
     "data": {
      "application/vnd.jupyter.widget-view+json": {
       "model_id": "99cb12108a594929af116db5aca4efc1",
       "version_major": 2,
       "version_minor": 0
      },
      "text/plain": [
       "  0%|          | 0/358 [00:00<?, ?it/s]"
      ]
     },
     "metadata": {},
     "output_type": "display_data"
    },
    {
     "name": "stdout",
     "output_type": "stream",
     "text": [
      "Loss: 0.034, accuracy: 99.069\n",
      "Validation\n"
     ]
    },
    {
     "data": {
      "application/vnd.jupyter.widget-view+json": {
       "model_id": "1c43c5d4a6fa4fe49ea09a2f914fad4c",
       "version_major": 2,
       "version_minor": 0
      },
      "text/plain": [
       "  0%|          | 0/40 [00:00<?, ?it/s]"
      ]
     },
     "metadata": {},
     "output_type": "display_data"
    },
    {
     "name": "stdout",
     "output_type": "stream",
     "text": [
      "Loss: 0.054, accuracy: 98.703\n",
      "----------------------\n",
      "Training epoch:  9 / 10\n"
     ]
    },
    {
     "data": {
      "application/vnd.jupyter.widget-view+json": {
       "model_id": "ad9ad0fd2e4140298d9a8fc60ce35fcd",
       "version_major": 2,
       "version_minor": 0
      },
      "text/plain": [
       "  0%|          | 0/358 [00:00<?, ?it/s]"
      ]
     },
     "metadata": {},
     "output_type": "display_data"
    },
    {
     "name": "stdout",
     "output_type": "stream",
     "text": [
      "Loss: 0.029, accuracy: 99.222\n",
      "Validation\n"
     ]
    },
    {
     "data": {
      "application/vnd.jupyter.widget-view+json": {
       "model_id": "257f5e10d2b440f89d00541b484b0227",
       "version_major": 2,
       "version_minor": 0
      },
      "text/plain": [
       "  0%|          | 0/40 [00:00<?, ?it/s]"
      ]
     },
     "metadata": {},
     "output_type": "display_data"
    },
    {
     "name": "stdout",
     "output_type": "stream",
     "text": [
      "Loss: 0.045, accuracy: 98.939\n",
      "----------------------\n",
      "Training epoch:  10 / 10\n"
     ]
    },
    {
     "data": {
      "application/vnd.jupyter.widget-view+json": {
       "model_id": "4a13dbbb0bb44bdf877409668bb53e47",
       "version_major": 2,
       "version_minor": 0
      },
      "text/plain": [
       "  0%|          | 0/358 [00:00<?, ?it/s]"
      ]
     },
     "metadata": {},
     "output_type": "display_data"
    },
    {
     "name": "stdout",
     "output_type": "stream",
     "text": [
      "Loss: 0.028, accuracy: 99.292\n",
      "Validation\n"
     ]
    },
    {
     "data": {
      "application/vnd.jupyter.widget-view+json": {
       "model_id": "c116f876302c44dc8e118c5e8e8cf9dc",
       "version_major": 2,
       "version_minor": 0
      },
      "text/plain": [
       "  0%|          | 0/40 [00:00<?, ?it/s]"
      ]
     },
     "metadata": {},
     "output_type": "display_data"
    },
    {
     "name": "stdout",
     "output_type": "stream",
     "text": [
      "Loss: 0.082, accuracy: 98.506\n",
      "----------------------\n",
      "Finished training! Enjoy your results!\n",
      "CPU times: total: 10min 16s\n",
      "Wall time: 3min 16s\n"
     ]
    }
   ],
   "source": [
    "%%time\n",
    "#а теперь просто запускаем функцию с разными значениями is_train для каждой эпохи\n",
    "for epoch in tqdm(range(num_epochs)):\n",
    "  #training\n",
    "  run_epoch(epoch, is_train=True)\n",
    "\n",
    "  #validation\n",
    "  with torch.no_grad():\n",
    "      run_epoch(epoch, is_train=False)\n",
    "\n",
    "  print('----------------------')\n",
    "\n",
    "print('Finished training! Enjoy your results!')"
   ]
  },
  {
   "cell_type": "code",
   "execution_count": 33,
   "id": "9be90732-9def-4892-8322-6e32d5e30cca",
   "metadata": {},
   "outputs": [
    {
     "data": {
      "application/vnd.jupyter.widget-view+json": {
       "model_id": "03ad04cfe2fd4ba4aec6853f6135e93b",
       "version_major": 2,
       "version_minor": 0
      },
      "text/plain": [
       "  0%|          | 0/118 [00:00<?, ?it/s]"
      ]
     },
     "metadata": {},
     "output_type": "display_data"
    }
   ],
   "source": [
    "predictions = {}\n",
    "for batch_idx, (data, filenames) in enumerate(tqdm(testloader)):\n",
    "    # Get data to Cuda/MPS\n",
    "    data = data.to(device=device)\n",
    "    scores = net(data)\n",
    "\n",
    "    for filename, score in zip(filenames, scores):\n",
    "        predictions[filename] = score.argmax().item()\n",
    "preds_df = pd.DataFrame(predictions.items(), columns=['filename', 'class_number'])\n",
    "preds_df.to_csv(f'./outputs/predictions_{experiment}.csv', index=False)"
   ]
  },
  {
   "cell_type": "markdown",
   "id": "f88d81c3-cfe4-4395-bea2-777ddc91102c",
   "metadata": {
    "jp-MarkdownHeadingCollapsed": true
   },
   "source": [
    "# Эксперимент 2 - ResNet50, без аугментаций, Adam, BatchSize 64"
   ]
  },
  {
   "cell_type": "code",
   "execution_count": 34,
   "id": "8e793de4-3c41-4a67-b024-12b6c8b487c6",
   "metadata": {},
   "outputs": [],
   "source": [
    "experiment = 'ResNet50_AugNone_Adam_LR3e4_BS64'"
   ]
  },
  {
   "cell_type": "code",
   "execution_count": 35,
   "id": "288fd589-b4ac-4b69-8d29-fbbb31b5c5b2",
   "metadata": {},
   "outputs": [
    {
     "name": "stderr",
     "output_type": "stream",
     "text": [
      "Downloading: \"https://download.pytorch.org/models/resnet50-0676ba61.pth\" to C:\\Users\\lakeo/.cache\\torch\\hub\\checkpoints\\resnet50-0676ba61.pth\n",
      "100%|█████████████████████████████████████████████████████████████████████████████| 97.8M/97.8M [00:09<00:00, 11.1MB/s]\n"
     ]
    }
   ],
   "source": [
    "net = models.resnet50(pretrained=True).to(DEVICE)\n",
    "lr = 3e-4 \n",
    "num_epochs = 10 \n",
    "\n",
    "criterion = nn.CrossEntropyLoss()\n",
    "optimizer = torch.optim.Adam(net.parameters(), lr)"
   ]
  },
  {
   "cell_type": "code",
   "execution_count": 36,
   "id": "5bfcee14-7ed3-41c7-be2c-0f83914fb433",
   "metadata": {
    "scrolled": true
   },
   "outputs": [
    {
     "data": {
      "application/vnd.jupyter.widget-view+json": {
       "model_id": "dd0eb6e64d384878b201110273c0dd13",
       "version_major": 2,
       "version_minor": 0
      },
      "text/plain": [
       "  0%|          | 0/10 [00:00<?, ?it/s]"
      ]
     },
     "metadata": {},
     "output_type": "display_data"
    },
    {
     "name": "stdout",
     "output_type": "stream",
     "text": [
      "Training epoch:  1 / 10\n"
     ]
    },
    {
     "data": {
      "application/vnd.jupyter.widget-view+json": {
       "model_id": "c9cee7718533440884303e0539b69803",
       "version_major": 2,
       "version_minor": 0
      },
      "text/plain": [
       "  0%|          | 0/358 [00:00<?, ?it/s]"
      ]
     },
     "metadata": {},
     "output_type": "display_data"
    },
    {
     "name": "stdout",
     "output_type": "stream",
     "text": [
      "Loss: 0.639, accuracy: 86.430\n",
      "Validation\n"
     ]
    },
    {
     "data": {
      "application/vnd.jupyter.widget-view+json": {
       "model_id": "01508d3338f746dbae0e1f8126f433ce",
       "version_major": 2,
       "version_minor": 0
      },
      "text/plain": [
       "  0%|          | 0/40 [00:00<?, ?it/s]"
      ]
     },
     "metadata": {},
     "output_type": "display_data"
    },
    {
     "name": "stdout",
     "output_type": "stream",
     "text": [
      "Loss: 0.093, accuracy: 97.209\n",
      "----------------------\n",
      "Training epoch:  2 / 10\n"
     ]
    },
    {
     "data": {
      "application/vnd.jupyter.widget-view+json": {
       "model_id": "cebfb47c2cd74c8b8c7b8946b201f4a2",
       "version_major": 2,
       "version_minor": 0
      },
      "text/plain": [
       "  0%|          | 0/358 [00:00<?, ?it/s]"
      ]
     },
     "metadata": {},
     "output_type": "display_data"
    },
    {
     "name": "stdout",
     "output_type": "stream",
     "text": [
      "Loss: 0.094, accuracy: 97.409\n",
      "Validation\n"
     ]
    },
    {
     "data": {
      "application/vnd.jupyter.widget-view+json": {
       "model_id": "af01cb7f6d204e57835f7d862d776269",
       "version_major": 2,
       "version_minor": 0
      },
      "text/plain": [
       "  0%|          | 0/40 [00:00<?, ?it/s]"
      ]
     },
     "metadata": {},
     "output_type": "display_data"
    },
    {
     "name": "stdout",
     "output_type": "stream",
     "text": [
      "Loss: 0.072, accuracy: 98.349\n",
      "----------------------\n",
      "Training epoch:  3 / 10\n"
     ]
    },
    {
     "data": {
      "application/vnd.jupyter.widget-view+json": {
       "model_id": "e02ee087f61248239f2080f2e79e6730",
       "version_major": 2,
       "version_minor": 0
      },
      "text/plain": [
       "  0%|          | 0/358 [00:00<?, ?it/s]"
      ]
     },
     "metadata": {},
     "output_type": "display_data"
    },
    {
     "name": "stdout",
     "output_type": "stream",
     "text": [
      "Loss: 0.055, accuracy: 98.606\n",
      "Validation\n"
     ]
    },
    {
     "data": {
      "application/vnd.jupyter.widget-view+json": {
       "model_id": "c34d447b0f3b4153b8e4c7686a5704d5",
       "version_major": 2,
       "version_minor": 0
      },
      "text/plain": [
       "  0%|          | 0/40 [00:00<?, ?it/s]"
      ]
     },
     "metadata": {},
     "output_type": "display_data"
    },
    {
     "name": "stdout",
     "output_type": "stream",
     "text": [
      "Loss: 0.071, accuracy: 98.349\n",
      "----------------------\n",
      "Training epoch:  4 / 10\n"
     ]
    },
    {
     "data": {
      "application/vnd.jupyter.widget-view+json": {
       "model_id": "d77c8cf932dc47e0823b112c2e62751d",
       "version_major": 2,
       "version_minor": 0
      },
      "text/plain": [
       "  0%|          | 0/358 [00:00<?, ?it/s]"
      ]
     },
     "metadata": {},
     "output_type": "display_data"
    },
    {
     "name": "stdout",
     "output_type": "stream",
     "text": [
      "Loss: 0.039, accuracy: 98.969\n",
      "Validation\n"
     ]
    },
    {
     "data": {
      "application/vnd.jupyter.widget-view+json": {
       "model_id": "7d4b55f0a12348fb9160d462252a924d",
       "version_major": 2,
       "version_minor": 0
      },
      "text/plain": [
       "  0%|          | 0/40 [00:00<?, ?it/s]"
      ]
     },
     "metadata": {},
     "output_type": "display_data"
    },
    {
     "name": "stdout",
     "output_type": "stream",
     "text": [
      "Loss: 0.073, accuracy: 98.310\n",
      "----------------------\n",
      "Training epoch:  5 / 10\n"
     ]
    },
    {
     "data": {
      "application/vnd.jupyter.widget-view+json": {
       "model_id": "08927f437b744329bd8152587c152a85",
       "version_major": 2,
       "version_minor": 0
      },
      "text/plain": [
       "  0%|          | 0/358 [00:00<?, ?it/s]"
      ]
     },
     "metadata": {},
     "output_type": "display_data"
    },
    {
     "name": "stdout",
     "output_type": "stream",
     "text": [
      "Loss: 0.048, accuracy: 98.768\n",
      "Validation\n"
     ]
    },
    {
     "data": {
      "application/vnd.jupyter.widget-view+json": {
       "model_id": "446e3c63263b4b68a846bdb5a9a4e62e",
       "version_major": 2,
       "version_minor": 0
      },
      "text/plain": [
       "  0%|          | 0/40 [00:00<?, ?it/s]"
      ]
     },
     "metadata": {},
     "output_type": "display_data"
    },
    {
     "name": "stdout",
     "output_type": "stream",
     "text": [
      "Loss: 0.097, accuracy: 97.877\n",
      "----------------------\n",
      "Training epoch:  6 / 10\n"
     ]
    },
    {
     "data": {
      "application/vnd.jupyter.widget-view+json": {
       "model_id": "a603e1eb78624d55830ecd50e443e0ce",
       "version_major": 2,
       "version_minor": 0
      },
      "text/plain": [
       "  0%|          | 0/358 [00:00<?, ?it/s]"
      ]
     },
     "metadata": {},
     "output_type": "display_data"
    },
    {
     "name": "stdout",
     "output_type": "stream",
     "text": [
      "Loss: 0.044, accuracy: 98.873\n",
      "Validation\n"
     ]
    },
    {
     "data": {
      "application/vnd.jupyter.widget-view+json": {
       "model_id": "850344d0cbc84e1da96ba7e659fdabd2",
       "version_major": 2,
       "version_minor": 0
      },
      "text/plain": [
       "  0%|          | 0/40 [00:00<?, ?it/s]"
      ]
     },
     "metadata": {},
     "output_type": "display_data"
    },
    {
     "name": "stdout",
     "output_type": "stream",
     "text": [
      "Loss: 0.065, accuracy: 98.428\n",
      "----------------------\n",
      "Training epoch:  7 / 10\n"
     ]
    },
    {
     "data": {
      "application/vnd.jupyter.widget-view+json": {
       "model_id": "038537c5a5684e7ea35eafc079011990",
       "version_major": 2,
       "version_minor": 0
      },
      "text/plain": [
       "  0%|          | 0/358 [00:00<?, ?it/s]"
      ]
     },
     "metadata": {},
     "output_type": "display_data"
    },
    {
     "name": "stdout",
     "output_type": "stream",
     "text": [
      "Loss: 0.025, accuracy: 99.318\n",
      "Validation\n"
     ]
    },
    {
     "data": {
      "application/vnd.jupyter.widget-view+json": {
       "model_id": "c662eb653078426e9468e91892bb87fb",
       "version_major": 2,
       "version_minor": 0
      },
      "text/plain": [
       "  0%|          | 0/40 [00:00<?, ?it/s]"
      ]
     },
     "metadata": {},
     "output_type": "display_data"
    },
    {
     "name": "stdout",
     "output_type": "stream",
     "text": [
      "Loss: 0.050, accuracy: 98.664\n",
      "----------------------\n",
      "Training epoch:  8 / 10\n"
     ]
    },
    {
     "data": {
      "application/vnd.jupyter.widget-view+json": {
       "model_id": "4767b00d08554791b68a6f3809eb3eaf",
       "version_major": 2,
       "version_minor": 0
      },
      "text/plain": [
       "  0%|          | 0/358 [00:00<?, ?it/s]"
      ]
     },
     "metadata": {},
     "output_type": "display_data"
    },
    {
     "name": "stdout",
     "output_type": "stream",
     "text": [
      "Loss: 0.019, accuracy: 99.428\n",
      "Validation\n"
     ]
    },
    {
     "data": {
      "application/vnd.jupyter.widget-view+json": {
       "model_id": "e45b46c3d7bb413fafdd2deb65b037b5",
       "version_major": 2,
       "version_minor": 0
      },
      "text/plain": [
       "  0%|          | 0/40 [00:00<?, ?it/s]"
      ]
     },
     "metadata": {},
     "output_type": "display_data"
    },
    {
     "name": "stdout",
     "output_type": "stream",
     "text": [
      "Loss: 0.063, accuracy: 98.192\n",
      "----------------------\n",
      "Training epoch:  9 / 10\n"
     ]
    },
    {
     "data": {
      "application/vnd.jupyter.widget-view+json": {
       "model_id": "bedc6c25791e4df5855bc96cdd9651ee",
       "version_major": 2,
       "version_minor": 0
      },
      "text/plain": [
       "  0%|          | 0/358 [00:00<?, ?it/s]"
      ]
     },
     "metadata": {},
     "output_type": "display_data"
    },
    {
     "name": "stdout",
     "output_type": "stream",
     "text": [
      "Loss: 0.037, accuracy: 99.026\n",
      "Validation\n"
     ]
    },
    {
     "data": {
      "application/vnd.jupyter.widget-view+json": {
       "model_id": "183f02e57d9c44f685e2b72ffd4c6478",
       "version_major": 2,
       "version_minor": 0
      },
      "text/plain": [
       "  0%|          | 0/40 [00:00<?, ?it/s]"
      ]
     },
     "metadata": {},
     "output_type": "display_data"
    },
    {
     "name": "stdout",
     "output_type": "stream",
     "text": [
      "Loss: 0.069, accuracy: 98.428\n",
      "----------------------\n",
      "Training epoch:  10 / 10\n"
     ]
    },
    {
     "data": {
      "application/vnd.jupyter.widget-view+json": {
       "model_id": "467d9b8306b64d37a0cdbab82f6a1727",
       "version_major": 2,
       "version_minor": 0
      },
      "text/plain": [
       "  0%|          | 0/358 [00:00<?, ?it/s]"
      ]
     },
     "metadata": {},
     "output_type": "display_data"
    },
    {
     "name": "stdout",
     "output_type": "stream",
     "text": [
      "Loss: 0.024, accuracy: 99.489\n",
      "Validation\n"
     ]
    },
    {
     "data": {
      "application/vnd.jupyter.widget-view+json": {
       "model_id": "e49105613dae4ad5bcfd06ce7bbfbad1",
       "version_major": 2,
       "version_minor": 0
      },
      "text/plain": [
       "  0%|          | 0/40 [00:00<?, ?it/s]"
      ]
     },
     "metadata": {},
     "output_type": "display_data"
    },
    {
     "name": "stdout",
     "output_type": "stream",
     "text": [
      "Loss: 0.061, accuracy: 98.506\n",
      "----------------------\n",
      "Finished training! Enjoy your results!\n",
      "CPU times: total: 12min 59s\n",
      "Wall time: 4min 7s\n"
     ]
    }
   ],
   "source": [
    "%%time\n",
    "for epoch in tqdm(range(num_epochs)):\n",
    "  #training\n",
    "  run_epoch(epoch, is_train=True)\n",
    "\n",
    "  #validation\n",
    "  with torch.no_grad():\n",
    "      run_epoch(epoch, is_train=False)\n",
    "\n",
    "  print('----------------------')\n",
    "\n",
    "print('Finished training! Enjoy your results!')"
   ]
  },
  {
   "cell_type": "code",
   "execution_count": 37,
   "id": "201ed6e9-cc41-4843-84c0-63f7c866aeb0",
   "metadata": {},
   "outputs": [
    {
     "data": {
      "application/vnd.jupyter.widget-view+json": {
       "model_id": "a2a124175a20431099d36c180d89efde",
       "version_major": 2,
       "version_minor": 0
      },
      "text/plain": [
       "  0%|          | 0/118 [00:00<?, ?it/s]"
      ]
     },
     "metadata": {},
     "output_type": "display_data"
    }
   ],
   "source": [
    "predictions = {}\n",
    "for batch_idx, (data, filenames) in enumerate(tqdm(testloader)):\n",
    "    # Get data to Cuda/MPS\n",
    "    data = data.to(device=DEVICE)\n",
    "    scores = net(data)\n",
    "\n",
    "    for filename, score in zip(filenames, scores):\n",
    "        predictions[filename] = score.argmax().item()\n",
    "preds_df = pd.DataFrame(predictions.items(), columns=['filename', 'class_number'])\n",
    "preds_df.to_csv(f'./outputs/predictions_{experiment}.csv', index=False)"
   ]
  },
  {
   "cell_type": "markdown",
   "id": "18e3a897-255d-4aeb-a1a0-d89a17e4e220",
   "metadata": {
    "jp-MarkdownHeadingCollapsed": true
   },
   "source": [
    "# Эксперимент 3 - ResNet50, без аугментаций, Adam, BatchSize 64, CosineLR"
   ]
  },
  {
   "cell_type": "code",
   "execution_count": 42,
   "id": "4eebe4ac-f1dd-4b53-840a-0ed3a17cc9f2",
   "metadata": {},
   "outputs": [],
   "source": [
    "experiment = 'ResNet50_AugNo_Adam_CosineLR01_BS64'"
   ]
  },
  {
   "cell_type": "code",
   "execution_count": 46,
   "id": "55afdcac-af28-43d0-8d93-1b2ead197fdc",
   "metadata": {},
   "outputs": [],
   "source": [
    "net = models.resnet50(pretrained=True).to(DEVICE)\n",
    "\n",
    "lr = 0.01\n",
    "num_epochs = 20\n",
    "\n",
    "optimizer = optim.Adam(net.parameters(), lr)\n",
    "criterion = nn.CrossEntropyLoss()\n",
    "scheduler = CosineAnnealingLR(optimizer, T_max=int(len(trainset)/batch_size + 1)*num_epochs)"
   ]
  },
  {
   "cell_type": "code",
   "execution_count": 47,
   "id": "9b666efb-f74f-4b77-9830-a815f98f4d12",
   "metadata": {},
   "outputs": [],
   "source": [
    "#впишем CosineLR в процесс обучения\n",
    "def run_epoch(epoch, is_train):\n",
    "  \"\"\"\n",
    "  Training and evaluaton loop over samples\n",
    "  Args:\n",
    "      train_mode (bool): True for train mode\n",
    "  \"\"\"\n",
    "  if is_train:\n",
    "      net.train()\n",
    "      loader = trainloader\n",
    "      print(\"Training epoch: \", epoch + 1, \"/\", num_epochs)\n",
    "  else:\n",
    "      net.eval()\n",
    "      loader = valloader\n",
    "      print('Validation')\n",
    "\n",
    "  running_loss = 0.0\n",
    "  correct = 0.0\n",
    "  total = 0.0\n",
    "\n",
    "  for i, data in enumerate(tqdm(loader)):\n",
    "      images, labels, _= data\n",
    "      images, labels = images.cuda(), labels.cuda()\n",
    "      outputs = net(images)\n",
    "      loss = criterion(outputs, labels)\n",
    "\n",
    "      if is_train:\n",
    "          optimizer.zero_grad()\n",
    "          loss.backward()\n",
    "          optimizer.step()\n",
    "          scheduler.step()\n",
    "\n",
    "      running_loss += loss.item()\n",
    "      total += images.data.size(0)\n",
    "\n",
    "      _, predicted = torch.max(outputs.data, 1)\n",
    "      correct += (predicted == labels.data).sum()\n",
    "\n",
    "  lr = scheduler.optimizer.param_groups[0]['lr']\n",
    "  print('Loss: {:.3f}, accuracy: {:.3f}, lr: {}'.format(running_loss / (i + 1), correct / total * 100.0, lr))"
   ]
  },
  {
   "cell_type": "code",
   "execution_count": 48,
   "id": "552b0d09-9f75-455c-8af3-c8e787f61852",
   "metadata": {
    "scrolled": true
   },
   "outputs": [
    {
     "data": {
      "application/vnd.jupyter.widget-view+json": {
       "model_id": "2c0f30cbea9c4256976fed1aecbecd3f",
       "version_major": 2,
       "version_minor": 0
      },
      "text/plain": [
       "  0%|          | 0/20 [00:00<?, ?it/s]"
      ]
     },
     "metadata": {},
     "output_type": "display_data"
    },
    {
     "name": "stdout",
     "output_type": "stream",
     "text": [
      "Training epoch:  1 / 20\n"
     ]
    },
    {
     "data": {
      "application/vnd.jupyter.widget-view+json": {
       "model_id": "d7c57050da7e475587076af998bcfac9",
       "version_major": 2,
       "version_minor": 0
      },
      "text/plain": [
       "  0%|          | 0/358 [00:00<?, ?it/s]"
      ]
     },
     "metadata": {},
     "output_type": "display_data"
    },
    {
     "name": "stdout",
     "output_type": "stream",
     "text": [
      "Loss: 2.329, accuracy: 45.723, lr: 0.009938441702975682\n",
      "Validation\n"
     ]
    },
    {
     "data": {
      "application/vnd.jupyter.widget-view+json": {
       "model_id": "9a316e46154a47d1b1b4fd98c3b0a1b3",
       "version_major": 2,
       "version_minor": 0
      },
      "text/plain": [
       "  0%|          | 0/40 [00:00<?, ?it/s]"
      ]
     },
     "metadata": {},
     "output_type": "display_data"
    },
    {
     "name": "stdout",
     "output_type": "stream",
     "text": [
      "Loss: 0.866, accuracy: 75.118, lr: 0.009938441702975682\n",
      "----------------------\n",
      "Training epoch:  2 / 20\n"
     ]
    },
    {
     "data": {
      "application/vnd.jupyter.widget-view+json": {
       "model_id": "d8945025a487400190a0275a06173cf6",
       "version_major": 2,
       "version_minor": 0
      },
      "text/plain": [
       "  0%|          | 0/358 [00:00<?, ?it/s]"
      ]
     },
     "metadata": {},
     "output_type": "display_data"
    },
    {
     "name": "stdout",
     "output_type": "stream",
     "text": [
      "Loss: 0.466, accuracy: 86.687, lr: 0.009755282581475774\n",
      "Validation\n"
     ]
    },
    {
     "data": {
      "application/vnd.jupyter.widget-view+json": {
       "model_id": "20f520713c814f7c92f3d5c275c7f67a",
       "version_major": 2,
       "version_minor": 0
      },
      "text/plain": [
       "  0%|          | 0/40 [00:00<?, ?it/s]"
      ]
     },
     "metadata": {},
     "output_type": "display_data"
    },
    {
     "name": "stdout",
     "output_type": "stream",
     "text": [
      "Loss: 0.316, accuracy: 91.234, lr: 0.009755282581475774\n",
      "----------------------\n",
      "Training epoch:  3 / 20\n"
     ]
    },
    {
     "data": {
      "application/vnd.jupyter.widget-view+json": {
       "model_id": "5cdb5ed9085d4984b4367e5ef5f57a8b",
       "version_major": 2,
       "version_minor": 0
      },
      "text/plain": [
       "  0%|          | 0/358 [00:00<?, ?it/s]"
      ]
     },
     "metadata": {},
     "output_type": "display_data"
    },
    {
     "name": "stdout",
     "output_type": "stream",
     "text": [
      "Loss: 0.292, accuracy: 91.546, lr: 0.009455032620941833\n",
      "Validation\n"
     ]
    },
    {
     "data": {
      "application/vnd.jupyter.widget-view+json": {
       "model_id": "85f721e48ad84428a8f06a91d0c2777c",
       "version_major": 2,
       "version_minor": 0
      },
      "text/plain": [
       "  0%|          | 0/40 [00:00<?, ?it/s]"
      ]
     },
     "metadata": {},
     "output_type": "display_data"
    },
    {
     "name": "stdout",
     "output_type": "stream",
     "text": [
      "Loss: 0.332, accuracy: 90.998, lr: 0.009455032620941833\n",
      "----------------------\n",
      "Training epoch:  4 / 20\n"
     ]
    },
    {
     "data": {
      "application/vnd.jupyter.widget-view+json": {
       "model_id": "513668f42b1b463fa019aa8c6da05705",
       "version_major": 2,
       "version_minor": 0
      },
      "text/plain": [
       "  0%|          | 0/358 [00:00<?, ?it/s]"
      ]
     },
     "metadata": {},
     "output_type": "display_data"
    },
    {
     "name": "stdout",
     "output_type": "stream",
     "text": [
      "Loss: 0.199, accuracy: 94.110, lr: 0.009045084971874747\n",
      "Validation\n"
     ]
    },
    {
     "data": {
      "application/vnd.jupyter.widget-view+json": {
       "model_id": "d203be5448204887ab8d0b0c3abe0421",
       "version_major": 2,
       "version_minor": 0
      },
      "text/plain": [
       "  0%|          | 0/40 [00:00<?, ?it/s]"
      ]
     },
     "metadata": {},
     "output_type": "display_data"
    },
    {
     "name": "stdout",
     "output_type": "stream",
     "text": [
      "Loss: 0.221, accuracy: 93.318, lr: 0.009045084971874747\n",
      "----------------------\n",
      "Training epoch:  5 / 20\n"
     ]
    },
    {
     "data": {
      "application/vnd.jupyter.widget-view+json": {
       "model_id": "0095906a2cad4073b1b7eaf7ca5d3dce",
       "version_major": 2,
       "version_minor": 0
      },
      "text/plain": [
       "  0%|          | 0/358 [00:00<?, ?it/s]"
      ]
     },
     "metadata": {},
     "output_type": "display_data"
    },
    {
     "name": "stdout",
     "output_type": "stream",
     "text": [
      "Loss: 0.132, accuracy: 96.085, lr: 0.00853553390593274\n",
      "Validation\n"
     ]
    },
    {
     "data": {
      "application/vnd.jupyter.widget-view+json": {
       "model_id": "a348652d0c124446aae3e313c0ed1b81",
       "version_major": 2,
       "version_minor": 0
      },
      "text/plain": [
       "  0%|          | 0/40 [00:00<?, ?it/s]"
      ]
     },
     "metadata": {},
     "output_type": "display_data"
    },
    {
     "name": "stdout",
     "output_type": "stream",
     "text": [
      "Loss: 0.154, accuracy: 95.558, lr: 0.00853553390593274\n",
      "----------------------\n",
      "Training epoch:  6 / 20\n"
     ]
    },
    {
     "data": {
      "application/vnd.jupyter.widget-view+json": {
       "model_id": "435d2c827abf45a491461667c6ad06f6",
       "version_major": 2,
       "version_minor": 0
      },
      "text/plain": [
       "  0%|          | 0/358 [00:00<?, ?it/s]"
      ]
     },
     "metadata": {},
     "output_type": "display_data"
    },
    {
     "name": "stdout",
     "output_type": "stream",
     "text": [
      "Loss: 0.099, accuracy: 96.959, lr: 0.007938926261462361\n",
      "Validation\n"
     ]
    },
    {
     "data": {
      "application/vnd.jupyter.widget-view+json": {
       "model_id": "2512bc50260d44a887edc4807e4f8f39",
       "version_major": 2,
       "version_minor": 0
      },
      "text/plain": [
       "  0%|          | 0/40 [00:00<?, ?it/s]"
      ]
     },
     "metadata": {},
     "output_type": "display_data"
    },
    {
     "name": "stdout",
     "output_type": "stream",
     "text": [
      "Loss: 0.128, accuracy: 96.108, lr: 0.007938926261462361\n",
      "----------------------\n",
      "Training epoch:  7 / 20\n"
     ]
    },
    {
     "data": {
      "application/vnd.jupyter.widget-view+json": {
       "model_id": "ee6b64e2222f4774a89d5c1e4da5c480",
       "version_major": 2,
       "version_minor": 0
      },
      "text/plain": [
       "  0%|          | 0/358 [00:00<?, ?it/s]"
      ]
     },
     "metadata": {},
     "output_type": "display_data"
    },
    {
     "name": "stdout",
     "output_type": "stream",
     "text": [
      "Loss: 0.069, accuracy: 97.885, lr: 0.0072699524986977355\n",
      "Validation\n"
     ]
    },
    {
     "data": {
      "application/vnd.jupyter.widget-view+json": {
       "model_id": "242a1d13dbf24524aad8d3c9babd01cb",
       "version_major": 2,
       "version_minor": 0
      },
      "text/plain": [
       "  0%|          | 0/40 [00:00<?, ?it/s]"
      ]
     },
     "metadata": {},
     "output_type": "display_data"
    },
    {
     "name": "stdout",
     "output_type": "stream",
     "text": [
      "Loss: 0.134, accuracy: 96.148, lr: 0.0072699524986977355\n",
      "----------------------\n",
      "Training epoch:  8 / 20\n"
     ]
    },
    {
     "data": {
      "application/vnd.jupyter.widget-view+json": {
       "model_id": "fe76674f981344529bb9d2ab7623f632",
       "version_major": 2,
       "version_minor": 0
      },
      "text/plain": [
       "  0%|          | 0/358 [00:00<?, ?it/s]"
      ]
     },
     "metadata": {},
     "output_type": "display_data"
    },
    {
     "name": "stdout",
     "output_type": "stream",
     "text": [
      "Loss: 0.056, accuracy: 98.292, lr: 0.006545084971874734\n",
      "Validation\n"
     ]
    },
    {
     "data": {
      "application/vnd.jupyter.widget-view+json": {
       "model_id": "5d3a03ed1c8b47ccac81821945a4c567",
       "version_major": 2,
       "version_minor": 0
      },
      "text/plain": [
       "  0%|          | 0/40 [00:00<?, ?it/s]"
      ]
     },
     "metadata": {},
     "output_type": "display_data"
    },
    {
     "name": "stdout",
     "output_type": "stream",
     "text": [
      "Loss: 0.126, accuracy: 96.305, lr: 0.006545084971874734\n",
      "----------------------\n",
      "Training epoch:  9 / 20\n"
     ]
    },
    {
     "data": {
      "application/vnd.jupyter.widget-view+json": {
       "model_id": "8170c7210f60411ba195a56bc019b9b6",
       "version_major": 2,
       "version_minor": 0
      },
      "text/plain": [
       "  0%|          | 0/358 [00:00<?, ?it/s]"
      ]
     },
     "metadata": {},
     "output_type": "display_data"
    },
    {
     "name": "stdout",
     "output_type": "stream",
     "text": [
      "Loss: 0.056, accuracy: 98.165, lr: 0.005782172325201145\n",
      "Validation\n"
     ]
    },
    {
     "data": {
      "application/vnd.jupyter.widget-view+json": {
       "model_id": "c7f60a0ef119409488cfd1d71b96cd03",
       "version_major": 2,
       "version_minor": 0
      },
      "text/plain": [
       "  0%|          | 0/40 [00:00<?, ?it/s]"
      ]
     },
     "metadata": {},
     "output_type": "display_data"
    },
    {
     "name": "stdout",
     "output_type": "stream",
     "text": [
      "Loss: 0.124, accuracy: 96.934, lr: 0.005782172325201145\n",
      "----------------------\n",
      "Training epoch:  10 / 20\n"
     ]
    },
    {
     "data": {
      "application/vnd.jupyter.widget-view+json": {
       "model_id": "7ca008b5f8c04cfb96acd63fda59b841",
       "version_major": 2,
       "version_minor": 0
      },
      "text/plain": [
       "  0%|          | 0/358 [00:00<?, ?it/s]"
      ]
     },
     "metadata": {},
     "output_type": "display_data"
    },
    {
     "name": "stdout",
     "output_type": "stream",
     "text": [
      "Loss: 0.035, accuracy: 98.912, lr: 0.004999999999999997\n",
      "Validation\n"
     ]
    },
    {
     "data": {
      "application/vnd.jupyter.widget-view+json": {
       "model_id": "728540a3845e4605b153003fe7df06f9",
       "version_major": 2,
       "version_minor": 0
      },
      "text/plain": [
       "  0%|          | 0/40 [00:00<?, ?it/s]"
      ]
     },
     "metadata": {},
     "output_type": "display_data"
    },
    {
     "name": "stdout",
     "output_type": "stream",
     "text": [
      "Loss: 0.259, accuracy: 94.575, lr: 0.004999999999999997\n",
      "----------------------\n",
      "Training epoch:  11 / 20\n"
     ]
    },
    {
     "data": {
      "application/vnd.jupyter.widget-view+json": {
       "model_id": "6aa41c72373a466abf38366aec68da80",
       "version_major": 2,
       "version_minor": 0
      },
      "text/plain": [
       "  0%|          | 0/358 [00:00<?, ?it/s]"
      ]
     },
     "metadata": {},
     "output_type": "display_data"
    },
    {
     "name": "stdout",
     "output_type": "stream",
     "text": [
      "Loss: 0.027, accuracy: 99.161, lr: 0.004217827674798831\n",
      "Validation\n"
     ]
    },
    {
     "data": {
      "application/vnd.jupyter.widget-view+json": {
       "model_id": "66c9460dfc3045ad977816f377aa63ee",
       "version_major": 2,
       "version_minor": 0
      },
      "text/plain": [
       "  0%|          | 0/40 [00:00<?, ?it/s]"
      ]
     },
     "metadata": {},
     "output_type": "display_data"
    },
    {
     "name": "stdout",
     "output_type": "stream",
     "text": [
      "Loss: 0.112, accuracy: 97.484, lr: 0.004217827674798831\n",
      "----------------------\n",
      "Training epoch:  12 / 20\n"
     ]
    },
    {
     "data": {
      "application/vnd.jupyter.widget-view+json": {
       "model_id": "d7e3ee0e4eb34eb280aef4f6b5ea9fae",
       "version_major": 2,
       "version_minor": 0
      },
      "text/plain": [
       "  0%|          | 0/358 [00:00<?, ?it/s]"
      ]
     },
     "metadata": {},
     "output_type": "display_data"
    },
    {
     "name": "stdout",
     "output_type": "stream",
     "text": [
      "Loss: 0.016, accuracy: 99.458, lr: 0.003454915028125253\n",
      "Validation\n"
     ]
    },
    {
     "data": {
      "application/vnd.jupyter.widget-view+json": {
       "model_id": "67f657bbde16421192ca37c58bb1d15b",
       "version_major": 2,
       "version_minor": 0
      },
      "text/plain": [
       "  0%|          | 0/40 [00:00<?, ?it/s]"
      ]
     },
     "metadata": {},
     "output_type": "display_data"
    },
    {
     "name": "stdout",
     "output_type": "stream",
     "text": [
      "Loss: 0.080, accuracy: 97.838, lr: 0.003454915028125253\n",
      "----------------------\n",
      "Training epoch:  13 / 20\n"
     ]
    },
    {
     "data": {
      "application/vnd.jupyter.widget-view+json": {
       "model_id": "8c4d913fde634f4699784f79bd886531",
       "version_major": 2,
       "version_minor": 0
      },
      "text/plain": [
       "  0%|          | 0/358 [00:00<?, ?it/s]"
      ]
     },
     "metadata": {},
     "output_type": "display_data"
    },
    {
     "name": "stdout",
     "output_type": "stream",
     "text": [
      "Loss: 0.006, accuracy: 99.834, lr: 0.0027300475013022525\n",
      "Validation\n"
     ]
    },
    {
     "data": {
      "application/vnd.jupyter.widget-view+json": {
       "model_id": "f14afc6cdaf04ec18338c7b703a6dd1c",
       "version_major": 2,
       "version_minor": 0
      },
      "text/plain": [
       "  0%|          | 0/40 [00:00<?, ?it/s]"
      ]
     },
     "metadata": {},
     "output_type": "display_data"
    },
    {
     "name": "stdout",
     "output_type": "stream",
     "text": [
      "Loss: 0.081, accuracy: 98.074, lr: 0.0027300475013022525\n",
      "----------------------\n",
      "Training epoch:  14 / 20\n"
     ]
    },
    {
     "data": {
      "application/vnd.jupyter.widget-view+json": {
       "model_id": "77352817d51d43959eb568e5d5ce53fe",
       "version_major": 2,
       "version_minor": 0
      },
      "text/plain": [
       "  0%|          | 0/358 [00:00<?, ?it/s]"
      ]
     },
     "metadata": {},
     "output_type": "display_data"
    },
    {
     "name": "stdout",
     "output_type": "stream",
     "text": [
      "Loss: 0.004, accuracy: 99.900, lr: 0.002061073738537622\n",
      "Validation\n"
     ]
    },
    {
     "data": {
      "application/vnd.jupyter.widget-view+json": {
       "model_id": "176dc547df504ae5abf718b9894e2e39",
       "version_major": 2,
       "version_minor": 0
      },
      "text/plain": [
       "  0%|          | 0/40 [00:00<?, ?it/s]"
      ]
     },
     "metadata": {},
     "output_type": "display_data"
    },
    {
     "name": "stdout",
     "output_type": "stream",
     "text": [
      "Loss: 0.078, accuracy: 98.113, lr: 0.002061073738537622\n",
      "----------------------\n",
      "Training epoch:  15 / 20\n"
     ]
    },
    {
     "data": {
      "application/vnd.jupyter.widget-view+json": {
       "model_id": "c17632d794e94485a249113da1d88339",
       "version_major": 2,
       "version_minor": 0
      },
      "text/plain": [
       "  0%|          | 0/358 [00:00<?, ?it/s]"
      ]
     },
     "metadata": {},
     "output_type": "display_data"
    },
    {
     "name": "stdout",
     "output_type": "stream",
     "text": [
      "Loss: 0.001, accuracy: 100.000, lr: 0.0014644660940672564\n",
      "Validation\n"
     ]
    },
    {
     "data": {
      "application/vnd.jupyter.widget-view+json": {
       "model_id": "a540e2fe93ef4ddbb7937885ae3c4ac2",
       "version_major": 2,
       "version_minor": 0
      },
      "text/plain": [
       "  0%|          | 0/40 [00:00<?, ?it/s]"
      ]
     },
     "metadata": {},
     "output_type": "display_data"
    },
    {
     "name": "stdout",
     "output_type": "stream",
     "text": [
      "Loss: 0.075, accuracy: 98.153, lr: 0.0014644660940672564\n",
      "----------------------\n",
      "Training epoch:  16 / 20\n"
     ]
    },
    {
     "data": {
      "application/vnd.jupyter.widget-view+json": {
       "model_id": "49aa14a4b8fa4ba9b1259573d9dd309f",
       "version_major": 2,
       "version_minor": 0
      },
      "text/plain": [
       "  0%|          | 0/358 [00:00<?, ?it/s]"
      ]
     },
     "metadata": {},
     "output_type": "display_data"
    },
    {
     "name": "stdout",
     "output_type": "stream",
     "text": [
      "Loss: 0.000, accuracy: 100.000, lr: 0.0009549150281252607\n",
      "Validation\n"
     ]
    },
    {
     "data": {
      "application/vnd.jupyter.widget-view+json": {
       "model_id": "5d6e0943c3844a7db27f8bce81b19121",
       "version_major": 2,
       "version_minor": 0
      },
      "text/plain": [
       "  0%|          | 0/40 [00:00<?, ?it/s]"
      ]
     },
     "metadata": {},
     "output_type": "display_data"
    },
    {
     "name": "stdout",
     "output_type": "stream",
     "text": [
      "Loss: 0.071, accuracy: 98.231, lr: 0.0009549150281252607\n",
      "----------------------\n",
      "Training epoch:  17 / 20\n"
     ]
    },
    {
     "data": {
      "application/vnd.jupyter.widget-view+json": {
       "model_id": "c50014ba7bfb42a8bc1b48532f91c384",
       "version_major": 2,
       "version_minor": 0
      },
      "text/plain": [
       "  0%|          | 0/358 [00:00<?, ?it/s]"
      ]
     },
     "metadata": {},
     "output_type": "display_data"
    },
    {
     "name": "stdout",
     "output_type": "stream",
     "text": [
      "Loss: 0.000, accuracy: 100.000, lr: 0.0005449673790581593\n",
      "Validation\n"
     ]
    },
    {
     "data": {
      "application/vnd.jupyter.widget-view+json": {
       "model_id": "3934d9da08db49e584caa0668b01d1a1",
       "version_major": 2,
       "version_minor": 0
      },
      "text/plain": [
       "  0%|          | 0/40 [00:00<?, ?it/s]"
      ]
     },
     "metadata": {},
     "output_type": "display_data"
    },
    {
     "name": "stdout",
     "output_type": "stream",
     "text": [
      "Loss: 0.073, accuracy: 98.192, lr: 0.0005449673790581593\n",
      "----------------------\n",
      "Training epoch:  18 / 20\n"
     ]
    },
    {
     "data": {
      "application/vnd.jupyter.widget-view+json": {
       "model_id": "53639fa80b1a4ded923d795d428d736d",
       "version_major": 2,
       "version_minor": 0
      },
      "text/plain": [
       "  0%|          | 0/358 [00:00<?, ?it/s]"
      ]
     },
     "metadata": {},
     "output_type": "display_data"
    },
    {
     "name": "stdout",
     "output_type": "stream",
     "text": [
      "Loss: 0.000, accuracy: 100.000, lr: 0.00024471741852423115\n",
      "Validation\n"
     ]
    },
    {
     "data": {
      "application/vnd.jupyter.widget-view+json": {
       "model_id": "64bdd14e7ecf413ab0a1166072b99fda",
       "version_major": 2,
       "version_minor": 0
      },
      "text/plain": [
       "  0%|          | 0/40 [00:00<?, ?it/s]"
      ]
     },
     "metadata": {},
     "output_type": "display_data"
    },
    {
     "name": "stdout",
     "output_type": "stream",
     "text": [
      "Loss: 0.071, accuracy: 98.310, lr: 0.00024471741852423115\n",
      "----------------------\n",
      "Training epoch:  19 / 20\n"
     ]
    },
    {
     "data": {
      "application/vnd.jupyter.widget-view+json": {
       "model_id": "0f384d4589e04079b3666180439f1bc6",
       "version_major": 2,
       "version_minor": 0
      },
      "text/plain": [
       "  0%|          | 0/358 [00:00<?, ?it/s]"
      ]
     },
     "metadata": {},
     "output_type": "display_data"
    },
    {
     "name": "stdout",
     "output_type": "stream",
     "text": [
      "Loss: 0.000, accuracy: 100.000, lr: 6.155829702431139e-05\n",
      "Validation\n"
     ]
    },
    {
     "data": {
      "application/vnd.jupyter.widget-view+json": {
       "model_id": "0e74ab068b49409ab5030815d8c385ea",
       "version_major": 2,
       "version_minor": 0
      },
      "text/plain": [
       "  0%|          | 0/40 [00:00<?, ?it/s]"
      ]
     },
     "metadata": {},
     "output_type": "display_data"
    },
    {
     "name": "stdout",
     "output_type": "stream",
     "text": [
      "Loss: 0.071, accuracy: 98.310, lr: 6.155829702431139e-05\n",
      "----------------------\n",
      "Training epoch:  20 / 20\n"
     ]
    },
    {
     "data": {
      "application/vnd.jupyter.widget-view+json": {
       "model_id": "9a52a5bffb9842ccafe353d98f7696b4",
       "version_major": 2,
       "version_minor": 0
      },
      "text/plain": [
       "  0%|          | 0/358 [00:00<?, ?it/s]"
      ]
     },
     "metadata": {},
     "output_type": "display_data"
    },
    {
     "name": "stdout",
     "output_type": "stream",
     "text": [
      "Loss: 0.000, accuracy: 100.000, lr: 0.0\n",
      "Validation\n"
     ]
    },
    {
     "data": {
      "application/vnd.jupyter.widget-view+json": {
       "model_id": "528c617241e443369bc8d35d52fd196e",
       "version_major": 2,
       "version_minor": 0
      },
      "text/plain": [
       "  0%|          | 0/40 [00:00<?, ?it/s]"
      ]
     },
     "metadata": {},
     "output_type": "display_data"
    },
    {
     "name": "stdout",
     "output_type": "stream",
     "text": [
      "Loss: 0.071, accuracy: 98.270, lr: 0.0\n",
      "----------------------\n",
      "Finished training! Enjoy your results!\n",
      "CPU times: total: 28min 18s\n",
      "Wall time: 8min 10s\n"
     ]
    }
   ],
   "source": [
    "%%time\n",
    "for epoch in tqdm(range(num_epochs)):\n",
    "  #training\n",
    "  run_epoch(epoch, is_train=True)\n",
    "\n",
    "  #validation\n",
    "  with torch.no_grad():\n",
    "      run_epoch(epoch, is_train=False)\n",
    "\n",
    "  print('----------------------')\n",
    "\n",
    "print('Finished training! Enjoy your results!')"
   ]
  },
  {
   "cell_type": "code",
   "execution_count": 49,
   "id": "53e33a68-a9ad-4b05-a4b1-ae2adbf6ed14",
   "metadata": {},
   "outputs": [
    {
     "data": {
      "application/vnd.jupyter.widget-view+json": {
       "model_id": "716804602fe344dbb46b445fa207d754",
       "version_major": 2,
       "version_minor": 0
      },
      "text/plain": [
       "  0%|          | 0/118 [00:00<?, ?it/s]"
      ]
     },
     "metadata": {},
     "output_type": "display_data"
    }
   ],
   "source": [
    "predictions = {}\n",
    "for batch_idx, (data, filenames) in enumerate(tqdm(testloader)):\n",
    "    data = data.to(device=DEVICE)\n",
    "    scores = net(data)\n",
    "\n",
    "    for filename, score in zip(filenames, scores):\n",
    "        predictions[filename] = score.argmax().item()\n",
    "preds_df = pd.DataFrame(predictions.items(), columns=['filename', 'class_number'])\n",
    "preds_df.to_csv(f'./outputs/predictions_{experiment}.csv', index=False)"
   ]
  },
  {
   "cell_type": "markdown",
   "id": "88b9f643-9258-454e-afc9-2e0c3ca7e56b",
   "metadata": {
    "jp-MarkdownHeadingCollapsed": true
   },
   "source": [
    "# Эксперимент 4 - обучаем на всех данных трейна (без валидации)"
   ]
  },
  {
   "cell_type": "code",
   "execution_count": 11,
   "id": "0a93299e-d1ef-4e10-a2f2-481d9fbe9109",
   "metadata": {},
   "outputs": [],
   "source": [
    "#преобразования для train и val\n",
    "transform_for_train = transforms.Compose([\n",
    "        transforms.ToTensor(),\n",
    "        transforms.Normalize([0.5, 0.5, 0.5], [0.5, 0.5, 0.5])\n",
    "        ])\n",
    "\n",
    "#преобразования для test, для старта те же\n",
    "transform_for_test = transforms.Compose([\n",
    "        transforms.ToTensor(),\n",
    "        transforms.Normalize([0.5, 0.5, 0.5], [0.5, 0.5, 0.5])\n",
    "        ])\n",
    "\n",
    "#датафреймы\n",
    "train = train_df\n",
    "\n",
    "#нам нужно будет обращаться по индексу, так что делаем reset\n",
    "train.reset_index(inplace=True, drop=True)\n",
    "\n",
    "batch_size=64"
   ]
  },
  {
   "cell_type": "code",
   "execution_count": 17,
   "id": "162675d6-0c61-4950-8685-1cc42f2f83ec",
   "metadata": {},
   "outputs": [],
   "source": [
    "trainset = RoadSignDataset(root='./data/train', flist=None, transform=transform_for_train)\n",
    "valset = RoadSignDataset(root='./data/train', flist=None, transform=transform_for_train)\n",
    "testset = RoadSignTestDataset(root='./data/test', flist=None, transform=transform_for_train)\n",
    "\n",
    "trainloader = torch.utils.data.DataLoader(trainset, batch_size=batch_size, shuffle=True, pin_memory=True)\n",
    "valloader = torch.utils.data.DataLoader(trainset, batch_size=batch_size, pin_memory=True)\n",
    "testloader = torch.utils.data.DataLoader(testset, batch_size=batch_size, pin_memory=True)"
   ]
  },
  {
   "cell_type": "code",
   "execution_count": 18,
   "id": "c26c5a39-455b-42b0-a1e8-f6f2775f2646",
   "metadata": {},
   "outputs": [],
   "source": [
    "experiment = 'ResNet50_AugNone_Adam_LR3e4_BS64_FullTrain'"
   ]
  },
  {
   "cell_type": "code",
   "execution_count": 20,
   "id": "0ff2de36-ecae-4e3b-bc78-78e285bc7a8c",
   "metadata": {},
   "outputs": [],
   "source": [
    "net = models.resnet50(pretrained=True).to(DEVICE)\n",
    "lr = 3e-4 \n",
    "num_epochs = 10 \n",
    "\n",
    "criterion = nn.CrossEntropyLoss()\n",
    "optimizer = torch.optim.Adam(net.parameters(), lr)"
   ]
  },
  {
   "cell_type": "code",
   "execution_count": 21,
   "id": "25877316-d488-460c-8ad1-1fdceb982da2",
   "metadata": {
    "scrolled": true
   },
   "outputs": [
    {
     "data": {
      "application/vnd.jupyter.widget-view+json": {
       "model_id": "ea1f789c10c1488fa9e77c461b75aedc",
       "version_major": 2,
       "version_minor": 0
      },
      "text/plain": [
       "  0%|          | 0/10 [00:00<?, ?it/s]"
      ]
     },
     "metadata": {},
     "output_type": "display_data"
    },
    {
     "name": "stdout",
     "output_type": "stream",
     "text": [
      "Training epoch:  1 / 10\n"
     ]
    },
    {
     "data": {
      "application/vnd.jupyter.widget-view+json": {
       "model_id": "da1d1d43a97a461fa165072c5942b6f0",
       "version_major": 2,
       "version_minor": 0
      },
      "text/plain": [
       "  0%|          | 0/398 [00:00<?, ?it/s]"
      ]
     },
     "metadata": {},
     "output_type": "display_data"
    },
    {
     "name": "stdout",
     "output_type": "stream",
     "text": [
      "Loss: 0.583, accuracy: 87.280\n",
      "Validation\n"
     ]
    },
    {
     "data": {
      "application/vnd.jupyter.widget-view+json": {
       "model_id": "0618b76a43cf4a7dae9c34a396d8422b",
       "version_major": 2,
       "version_minor": 0
      },
      "text/plain": [
       "  0%|          | 0/398 [00:00<?, ?it/s]"
      ]
     },
     "metadata": {},
     "output_type": "display_data"
    },
    {
     "name": "stdout",
     "output_type": "stream",
     "text": [
      "Loss: 0.107, accuracy: 96.795\n",
      "----------------------\n",
      "Training epoch:  2 / 10\n"
     ]
    },
    {
     "data": {
      "application/vnd.jupyter.widget-view+json": {
       "model_id": "fe67550899524796924a860716260714",
       "version_major": 2,
       "version_minor": 0
      },
      "text/plain": [
       "  0%|          | 0/398 [00:00<?, ?it/s]"
      ]
     },
     "metadata": {},
     "output_type": "display_data"
    },
    {
     "name": "stdout",
     "output_type": "stream",
     "text": [
      "Loss: 0.086, accuracy: 97.712\n",
      "Validation\n"
     ]
    },
    {
     "data": {
      "application/vnd.jupyter.widget-view+json": {
       "model_id": "c907406690e84525a5d6bc6795b25d08",
       "version_major": 2,
       "version_minor": 0
      },
      "text/plain": [
       "  0%|          | 0/398 [00:00<?, ?it/s]"
      ]
     },
     "metadata": {},
     "output_type": "display_data"
    },
    {
     "name": "stdout",
     "output_type": "stream",
     "text": [
      "Loss: 0.025, accuracy: 99.355\n",
      "----------------------\n",
      "Training epoch:  3 / 10\n"
     ]
    },
    {
     "data": {
      "application/vnd.jupyter.widget-view+json": {
       "model_id": "852f564891ad46f3b48344d506d3d714",
       "version_major": 2,
       "version_minor": 0
      },
      "text/plain": [
       "  0%|          | 0/398 [00:00<?, ?it/s]"
      ]
     },
     "metadata": {},
     "output_type": "display_data"
    },
    {
     "name": "stdout",
     "output_type": "stream",
     "text": [
      "Loss: 0.052, accuracy: 98.596\n",
      "Validation\n"
     ]
    },
    {
     "data": {
      "application/vnd.jupyter.widget-view+json": {
       "model_id": "07673119a4ce45c2a660735386211cee",
       "version_major": 2,
       "version_minor": 0
      },
      "text/plain": [
       "  0%|          | 0/398 [00:00<?, ?it/s]"
      ]
     },
     "metadata": {},
     "output_type": "display_data"
    },
    {
     "name": "stdout",
     "output_type": "stream",
     "text": [
      "Loss: 0.025, accuracy: 99.284\n",
      "----------------------\n",
      "Training epoch:  4 / 10\n"
     ]
    },
    {
     "data": {
      "application/vnd.jupyter.widget-view+json": {
       "model_id": "21b88257725147e2930908db3a708af9",
       "version_major": 2,
       "version_minor": 0
      },
      "text/plain": [
       "  0%|          | 0/398 [00:00<?, ?it/s]"
      ]
     },
     "metadata": {},
     "output_type": "display_data"
    },
    {
     "name": "stdout",
     "output_type": "stream",
     "text": [
      "Loss: 0.051, accuracy: 98.691\n",
      "Validation\n"
     ]
    },
    {
     "data": {
      "application/vnd.jupyter.widget-view+json": {
       "model_id": "eaa4405425cf4d3188469a27af80b88a",
       "version_major": 2,
       "version_minor": 0
      },
      "text/plain": [
       "  0%|          | 0/398 [00:00<?, ?it/s]"
      ]
     },
     "metadata": {},
     "output_type": "display_data"
    },
    {
     "name": "stdout",
     "output_type": "stream",
     "text": [
      "Loss: 0.014, accuracy: 99.626\n",
      "----------------------\n",
      "Training epoch:  5 / 10\n"
     ]
    },
    {
     "data": {
      "application/vnd.jupyter.widget-view+json": {
       "model_id": "01037419adda42dbb557bb1a4f10971c",
       "version_major": 2,
       "version_minor": 0
      },
      "text/plain": [
       "  0%|          | 0/398 [00:00<?, ?it/s]"
      ]
     },
     "metadata": {},
     "output_type": "display_data"
    },
    {
     "name": "stdout",
     "output_type": "stream",
     "text": [
      "Loss: 0.027, accuracy: 99.304\n",
      "Validation\n"
     ]
    },
    {
     "data": {
      "application/vnd.jupyter.widget-view+json": {
       "model_id": "75a66445ba404672b10003330aa12518",
       "version_major": 2,
       "version_minor": 0
      },
      "text/plain": [
       "  0%|          | 0/398 [00:00<?, ?it/s]"
      ]
     },
     "metadata": {},
     "output_type": "display_data"
    },
    {
     "name": "stdout",
     "output_type": "stream",
     "text": [
      "Loss: 0.012, accuracy: 99.611\n",
      "----------------------\n",
      "Training epoch:  6 / 10\n"
     ]
    },
    {
     "data": {
      "application/vnd.jupyter.widget-view+json": {
       "model_id": "21254a8067df4ebf92b8d48879bca20b",
       "version_major": 2,
       "version_minor": 0
      },
      "text/plain": [
       "  0%|          | 0/398 [00:00<?, ?it/s]"
      ]
     },
     "metadata": {},
     "output_type": "display_data"
    },
    {
     "name": "stdout",
     "output_type": "stream",
     "text": [
      "Loss: 0.051, accuracy: 98.706\n",
      "Validation\n"
     ]
    },
    {
     "data": {
      "application/vnd.jupyter.widget-view+json": {
       "model_id": "427cfad309774f9d9ba15745d39c297e",
       "version_major": 2,
       "version_minor": 0
      },
      "text/plain": [
       "  0%|          | 0/398 [00:00<?, ?it/s]"
      ]
     },
     "metadata": {},
     "output_type": "display_data"
    },
    {
     "name": "stdout",
     "output_type": "stream",
     "text": [
      "Loss: 0.022, accuracy: 99.438\n",
      "----------------------\n",
      "Training epoch:  7 / 10\n"
     ]
    },
    {
     "data": {
      "application/vnd.jupyter.widget-view+json": {
       "model_id": "77e7a87b48bf45929af72a3aca84e022",
       "version_major": 2,
       "version_minor": 0
      },
      "text/plain": [
       "  0%|          | 0/398 [00:00<?, ?it/s]"
      ]
     },
     "metadata": {},
     "output_type": "display_data"
    },
    {
     "name": "stdout",
     "output_type": "stream",
     "text": [
      "Loss: 0.032, accuracy: 99.151\n",
      "Validation\n"
     ]
    },
    {
     "data": {
      "application/vnd.jupyter.widget-view+json": {
       "model_id": "691e9a21a3fa4bc982cb057b6932467d",
       "version_major": 2,
       "version_minor": 0
      },
      "text/plain": [
       "  0%|          | 0/398 [00:00<?, ?it/s]"
      ]
     },
     "metadata": {},
     "output_type": "display_data"
    },
    {
     "name": "stdout",
     "output_type": "stream",
     "text": [
      "Loss: 0.011, accuracy: 99.682\n",
      "----------------------\n",
      "Training epoch:  8 / 10\n"
     ]
    },
    {
     "data": {
      "application/vnd.jupyter.widget-view+json": {
       "model_id": "b6890ec8232147dca580eb9ddab0d432",
       "version_major": 2,
       "version_minor": 0
      },
      "text/plain": [
       "  0%|          | 0/398 [00:00<?, ?it/s]"
      ]
     },
     "metadata": {},
     "output_type": "display_data"
    },
    {
     "name": "stdout",
     "output_type": "stream",
     "text": [
      "Loss: 0.018, accuracy: 99.536\n",
      "Validation\n"
     ]
    },
    {
     "data": {
      "application/vnd.jupyter.widget-view+json": {
       "model_id": "3880f45e782841fcb0e8578344471ff2",
       "version_major": 2,
       "version_minor": 0
      },
      "text/plain": [
       "  0%|          | 0/398 [00:00<?, ?it/s]"
      ]
     },
     "metadata": {},
     "output_type": "display_data"
    },
    {
     "name": "stdout",
     "output_type": "stream",
     "text": [
      "Loss: 0.008, accuracy: 99.744\n",
      "----------------------\n",
      "Training epoch:  9 / 10\n"
     ]
    },
    {
     "data": {
      "application/vnd.jupyter.widget-view+json": {
       "model_id": "d2aae0813054481eace26871591ab96b",
       "version_major": 2,
       "version_minor": 0
      },
      "text/plain": [
       "  0%|          | 0/398 [00:00<?, ?it/s]"
      ]
     },
     "metadata": {},
     "output_type": "display_data"
    },
    {
     "name": "stdout",
     "output_type": "stream",
     "text": [
      "Loss: 0.027, accuracy: 99.221\n",
      "Validation\n"
     ]
    },
    {
     "data": {
      "application/vnd.jupyter.widget-view+json": {
       "model_id": "3964a5399986432cac4520ccbc9ac14f",
       "version_major": 2,
       "version_minor": 0
      },
      "text/plain": [
       "  0%|          | 0/398 [00:00<?, ?it/s]"
      ]
     },
     "metadata": {},
     "output_type": "display_data"
    },
    {
     "name": "stdout",
     "output_type": "stream",
     "text": [
      "Loss: 0.016, accuracy: 99.501\n",
      "----------------------\n",
      "Training epoch:  10 / 10\n"
     ]
    },
    {
     "data": {
      "application/vnd.jupyter.widget-view+json": {
       "model_id": "0420492e57b547afa84b090d32121bc5",
       "version_major": 2,
       "version_minor": 0
      },
      "text/plain": [
       "  0%|          | 0/398 [00:00<?, ?it/s]"
      ]
     },
     "metadata": {},
     "output_type": "display_data"
    },
    {
     "name": "stdout",
     "output_type": "stream",
     "text": [
      "Loss: 0.028, accuracy: 99.316\n",
      "Validation\n"
     ]
    },
    {
     "data": {
      "application/vnd.jupyter.widget-view+json": {
       "model_id": "d36974552a15483baa4627fd7e01155c",
       "version_major": 2,
       "version_minor": 0
      },
      "text/plain": [
       "  0%|          | 0/398 [00:00<?, ?it/s]"
      ]
     },
     "metadata": {},
     "output_type": "display_data"
    },
    {
     "name": "stdout",
     "output_type": "stream",
     "text": [
      "Loss: 0.010, accuracy: 99.725\n",
      "----------------------\n",
      "Finished training! Enjoy your results!\n"
     ]
    }
   ],
   "source": [
    "for epoch in tqdm(range(num_epochs)):\n",
    "  #training\n",
    "  run_epoch(epoch, is_train=True)\n",
    "\n",
    "  #validation\n",
    "  with torch.no_grad():\n",
    "      run_epoch(epoch, is_train=False)\n",
    "\n",
    "  print('----------------------')\n",
    "\n",
    "print('Finished training! Enjoy your results!')"
   ]
  },
  {
   "cell_type": "code",
   "execution_count": 22,
   "id": "9cb63022-49e2-49ec-ab52-4b3a47cb651f",
   "metadata": {},
   "outputs": [
    {
     "data": {
      "application/vnd.jupyter.widget-view+json": {
       "model_id": "3b8843e27e1b4610ad4c5363e949ce84",
       "version_major": 2,
       "version_minor": 0
      },
      "text/plain": [
       "  0%|          | 0/118 [00:00<?, ?it/s]"
      ]
     },
     "metadata": {},
     "output_type": "display_data"
    }
   ],
   "source": [
    "predictions = {}\n",
    "for batch_idx, (data, filenames) in enumerate(tqdm(testloader)):\n",
    "    # Get data to Cuda/MPS\n",
    "    data = data.to(device=DEVICE)\n",
    "    scores = net(data)\n",
    "\n",
    "    for filename, score in zip(filenames, scores):\n",
    "        predictions[filename] = score.argmax().item()\n",
    "preds_df = pd.DataFrame(predictions.items(), columns=['filename', 'class_number'])\n",
    "preds_df.to_csv(f'./outputs/predictions_{experiment}.csv', index=False)"
   ]
  },
  {
   "cell_type": "markdown",
   "id": "878073c8-c5db-42ee-8734-794306b8c488",
   "metadata": {
    "jp-MarkdownHeadingCollapsed": true
   },
   "source": [
    "# Эксперимент 5. Добавим базовых аугментаций"
   ]
  },
  {
   "cell_type": "code",
   "execution_count": 28,
   "id": "c8f88f7d-95f9-45a6-b08d-330fc71f13b0",
   "metadata": {},
   "outputs": [],
   "source": [
    "experiment = 'ResNet50_AugBase_Adam_LR3e4_BS64'"
   ]
  },
  {
   "cell_type": "code",
   "execution_count": 36,
   "id": "24fae275-7553-4a7f-8cb7-dfa6006c115a",
   "metadata": {},
   "outputs": [],
   "source": [
    "#преобразования для train и val\n",
    "transform_for_train = transforms.Compose([\n",
    "        transforms.ColorJitter(brightness=(0.3, 1.0), contrast=(0.8, 1.2)),\n",
    "        transforms.RandomRotation((-15, 15)), \n",
    "        transforms.ToTensor(),\n",
    "        transforms.Normalize([0.5, 0.5, 0.5], [0.5, 0.5, 0.5])\n",
    "        ])\n",
    "\n",
    "#преобразования для test, для старта те же\n",
    "transform_for_test = transforms.Compose([\n",
    "        transforms.ToTensor(),\n",
    "        transforms.Normalize([0.5, 0.5, 0.5], [0.5, 0.5, 0.5])\n",
    "        ])\n",
    "\n",
    "#датафреймы\n",
    "train, val = train_test_split(train_df, test_size=0.1, random_state=42)\n",
    "\n",
    "#нам нужно будет обращаться по индексу, так что делаем reset\n",
    "train.reset_index(inplace=True, drop=True)\n",
    "val.reset_index(inplace=True, drop=True)\n",
    "\n",
    "batch_size=64"
   ]
  },
  {
   "cell_type": "code",
   "execution_count": 37,
   "id": "209d9f7d-1be6-405a-b81c-ae3d4444c902",
   "metadata": {},
   "outputs": [],
   "source": [
    "trainset = RoadSignDataset(root='./data/train', flist=train, transform=transform_for_train)\n",
    "valset = RoadSignDataset(root='./data/train', flist=val, transform=transform_for_test)\n",
    "testset = RoadSignTestDataset(root='./data/test', flist=None, transform=transform_for_test)\n",
    "\n",
    "trainloader = torch.utils.data.DataLoader(trainset, batch_size=batch_size, shuffle=True, pin_memory=True)\n",
    "valloader = torch.utils.data.DataLoader(valset, batch_size=batch_size, pin_memory=True)\n",
    "testloader = torch.utils.data.DataLoader(testset, batch_size=batch_size, pin_memory=True)"
   ]
  },
  {
   "cell_type": "code",
   "execution_count": 38,
   "id": "54f6f5f6-a182-4966-bf51-56fb146cbc96",
   "metadata": {},
   "outputs": [],
   "source": [
    "net = models.resnet50(pretrained=True).to(DEVICE)\n",
    "lr = 3e-4 \n",
    "num_epochs = 10 \n",
    "\n",
    "criterion = nn.CrossEntropyLoss()\n",
    "optimizer = torch.optim.Adam(net.parameters(), lr)"
   ]
  },
  {
   "cell_type": "code",
   "execution_count": 39,
   "id": "6854e926-9450-49f3-87a6-3cfaa440ecf1",
   "metadata": {
    "scrolled": true
   },
   "outputs": [
    {
     "data": {
      "application/vnd.jupyter.widget-view+json": {
       "model_id": "60e2898e688b472596862d4a38d234b3",
       "version_major": 2,
       "version_minor": 0
      },
      "text/plain": [
       "  0%|          | 0/10 [00:00<?, ?it/s]"
      ]
     },
     "metadata": {},
     "output_type": "display_data"
    },
    {
     "name": "stdout",
     "output_type": "stream",
     "text": [
      "Training epoch:  1 / 10\n"
     ]
    },
    {
     "data": {
      "application/vnd.jupyter.widget-view+json": {
       "model_id": "c7689b0dbd194854b46f7a785fbaa905",
       "version_major": 2,
       "version_minor": 0
      },
      "text/plain": [
       "  0%|          | 0/358 [00:00<?, ?it/s]"
      ]
     },
     "metadata": {},
     "output_type": "display_data"
    },
    {
     "name": "stdout",
     "output_type": "stream",
     "text": [
      "Loss: 0.770, accuracy: 83.144\n",
      "Validation\n"
     ]
    },
    {
     "data": {
      "application/vnd.jupyter.widget-view+json": {
       "model_id": "630db2f603fb41f7859c150b76242a7f",
       "version_major": 2,
       "version_minor": 0
      },
      "text/plain": [
       "  0%|          | 0/40 [00:00<?, ?it/s]"
      ]
     },
     "metadata": {},
     "output_type": "display_data"
    },
    {
     "name": "stdout",
     "output_type": "stream",
     "text": [
      "Loss: 0.117, accuracy: 96.462\n",
      "----------------------\n",
      "Training epoch:  2 / 10\n"
     ]
    },
    {
     "data": {
      "application/vnd.jupyter.widget-view+json": {
       "model_id": "467ea68819a947a5a5581c49e1dec57e",
       "version_major": 2,
       "version_minor": 0
      },
      "text/plain": [
       "  0%|          | 0/358 [00:00<?, ?it/s]"
      ]
     },
     "metadata": {},
     "output_type": "display_data"
    },
    {
     "name": "stdout",
     "output_type": "stream",
     "text": [
      "Loss: 0.133, accuracy: 96.129\n",
      "Validation\n"
     ]
    },
    {
     "data": {
      "application/vnd.jupyter.widget-view+json": {
       "model_id": "1aadb10c09ad4b8783d15b89701bcef6",
       "version_major": 2,
       "version_minor": 0
      },
      "text/plain": [
       "  0%|          | 0/40 [00:00<?, ?it/s]"
      ]
     },
     "metadata": {},
     "output_type": "display_data"
    },
    {
     "name": "stdout",
     "output_type": "stream",
     "text": [
      "Loss: 0.082, accuracy: 97.759\n",
      "----------------------\n",
      "Training epoch:  3 / 10\n"
     ]
    },
    {
     "data": {
      "application/vnd.jupyter.widget-view+json": {
       "model_id": "6e00a9d00cc54134a560d75c12bd6719",
       "version_major": 2,
       "version_minor": 0
      },
      "text/plain": [
       "  0%|          | 0/358 [00:00<?, ?it/s]"
      ]
     },
     "metadata": {},
     "output_type": "display_data"
    },
    {
     "name": "stdout",
     "output_type": "stream",
     "text": [
      "Loss: 0.088, accuracy: 97.505\n",
      "Validation\n"
     ]
    },
    {
     "data": {
      "application/vnd.jupyter.widget-view+json": {
       "model_id": "fa07a71c2e6c4e98947626d1c4b23d32",
       "version_major": 2,
       "version_minor": 0
      },
      "text/plain": [
       "  0%|          | 0/40 [00:00<?, ?it/s]"
      ]
     },
     "metadata": {},
     "output_type": "display_data"
    },
    {
     "name": "stdout",
     "output_type": "stream",
     "text": [
      "Loss: 0.065, accuracy: 98.035\n",
      "----------------------\n",
      "Training epoch:  4 / 10\n"
     ]
    },
    {
     "data": {
      "application/vnd.jupyter.widget-view+json": {
       "model_id": "b6f0dd5fc0714d4680f03cb80409ba70",
       "version_major": 2,
       "version_minor": 0
      },
      "text/plain": [
       "  0%|          | 0/358 [00:00<?, ?it/s]"
      ]
     },
     "metadata": {},
     "output_type": "display_data"
    },
    {
     "name": "stdout",
     "output_type": "stream",
     "text": [
      "Loss: 0.065, accuracy: 98.104\n",
      "Validation\n"
     ]
    },
    {
     "data": {
      "application/vnd.jupyter.widget-view+json": {
       "model_id": "60e3b825b4ce4df79feee8253ad99999",
       "version_major": 2,
       "version_minor": 0
      },
      "text/plain": [
       "  0%|          | 0/40 [00:00<?, ?it/s]"
      ]
     },
     "metadata": {},
     "output_type": "display_data"
    },
    {
     "name": "stdout",
     "output_type": "stream",
     "text": [
      "Loss: 0.129, accuracy: 96.541\n",
      "----------------------\n",
      "Training epoch:  5 / 10\n"
     ]
    },
    {
     "data": {
      "application/vnd.jupyter.widget-view+json": {
       "model_id": "4aa0cb62ce9d4fc0aa84257d4fbbc670",
       "version_major": 2,
       "version_minor": 0
      },
      "text/plain": [
       "  0%|          | 0/358 [00:00<?, ?it/s]"
      ]
     },
     "metadata": {},
     "output_type": "display_data"
    },
    {
     "name": "stdout",
     "output_type": "stream",
     "text": [
      "Loss: 0.056, accuracy: 98.493\n",
      "Validation\n"
     ]
    },
    {
     "data": {
      "application/vnd.jupyter.widget-view+json": {
       "model_id": "ef9d44aa055d4ca58035a37bcc2e99a3",
       "version_major": 2,
       "version_minor": 0
      },
      "text/plain": [
       "  0%|          | 0/40 [00:00<?, ?it/s]"
      ]
     },
     "metadata": {},
     "output_type": "display_data"
    },
    {
     "name": "stdout",
     "output_type": "stream",
     "text": [
      "Loss: 0.044, accuracy: 98.821\n",
      "----------------------\n",
      "Training epoch:  6 / 10\n"
     ]
    },
    {
     "data": {
      "application/vnd.jupyter.widget-view+json": {
       "model_id": "2f4932d969cc42bba878bf722b50eceb",
       "version_major": 2,
       "version_minor": 0
      },
      "text/plain": [
       "  0%|          | 0/358 [00:00<?, ?it/s]"
      ]
     },
     "metadata": {},
     "output_type": "display_data"
    },
    {
     "name": "stdout",
     "output_type": "stream",
     "text": [
      "Loss: 0.051, accuracy: 98.528\n",
      "Validation\n"
     ]
    },
    {
     "data": {
      "application/vnd.jupyter.widget-view+json": {
       "model_id": "8829dd0f82724b3698c1f1a07e179038",
       "version_major": 2,
       "version_minor": 0
      },
      "text/plain": [
       "  0%|          | 0/40 [00:00<?, ?it/s]"
      ]
     },
     "metadata": {},
     "output_type": "display_data"
    },
    {
     "name": "stdout",
     "output_type": "stream",
     "text": [
      "Loss: 0.039, accuracy: 98.939\n",
      "----------------------\n",
      "Training epoch:  7 / 10\n"
     ]
    },
    {
     "data": {
      "application/vnd.jupyter.widget-view+json": {
       "model_id": "8f1520bda6ca46e7abeab0dc4af40f5f",
       "version_major": 2,
       "version_minor": 0
      },
      "text/plain": [
       "  0%|          | 0/358 [00:00<?, ?it/s]"
      ]
     },
     "metadata": {},
     "output_type": "display_data"
    },
    {
     "name": "stdout",
     "output_type": "stream",
     "text": [
      "Loss: 0.056, accuracy: 98.515\n",
      "Validation\n"
     ]
    },
    {
     "data": {
      "application/vnd.jupyter.widget-view+json": {
       "model_id": "ef215869652c48af9acb98ba59c37eab",
       "version_major": 2,
       "version_minor": 0
      },
      "text/plain": [
       "  0%|          | 0/40 [00:00<?, ?it/s]"
      ]
     },
     "metadata": {},
     "output_type": "display_data"
    },
    {
     "name": "stdout",
     "output_type": "stream",
     "text": [
      "Loss: 0.055, accuracy: 98.428\n",
      "----------------------\n",
      "Training epoch:  8 / 10\n"
     ]
    },
    {
     "data": {
      "application/vnd.jupyter.widget-view+json": {
       "model_id": "a5d72e018c414498a41883fa5f9f436c",
       "version_major": 2,
       "version_minor": 0
      },
      "text/plain": [
       "  0%|          | 0/358 [00:00<?, ?it/s]"
      ]
     },
     "metadata": {},
     "output_type": "display_data"
    },
    {
     "name": "stdout",
     "output_type": "stream",
     "text": [
      "Loss: 0.047, accuracy: 98.667\n",
      "Validation\n"
     ]
    },
    {
     "data": {
      "application/vnd.jupyter.widget-view+json": {
       "model_id": "6fdd896d3d734a0286c914539455c5e7",
       "version_major": 2,
       "version_minor": 0
      },
      "text/plain": [
       "  0%|          | 0/40 [00:00<?, ?it/s]"
      ]
     },
     "metadata": {},
     "output_type": "display_data"
    },
    {
     "name": "stdout",
     "output_type": "stream",
     "text": [
      "Loss: 0.041, accuracy: 98.978\n",
      "----------------------\n",
      "Training epoch:  9 / 10\n"
     ]
    },
    {
     "data": {
      "application/vnd.jupyter.widget-view+json": {
       "model_id": "36f24f83ae5e408a8cdfd8a198fe9978",
       "version_major": 2,
       "version_minor": 0
      },
      "text/plain": [
       "  0%|          | 0/358 [00:00<?, ?it/s]"
      ]
     },
     "metadata": {},
     "output_type": "display_data"
    },
    {
     "name": "stdout",
     "output_type": "stream",
     "text": [
      "Loss: 0.031, accuracy: 99.148\n",
      "Validation\n"
     ]
    },
    {
     "data": {
      "application/vnd.jupyter.widget-view+json": {
       "model_id": "37566117aabe4a118f5d1128bc41385c",
       "version_major": 2,
       "version_minor": 0
      },
      "text/plain": [
       "  0%|          | 0/40 [00:00<?, ?it/s]"
      ]
     },
     "metadata": {},
     "output_type": "display_data"
    },
    {
     "name": "stdout",
     "output_type": "stream",
     "text": [
      "Loss: 0.049, accuracy: 98.585\n",
      "----------------------\n",
      "Training epoch:  10 / 10\n"
     ]
    },
    {
     "data": {
      "application/vnd.jupyter.widget-view+json": {
       "model_id": "bddbfc3d2e474e2e884125230960d047",
       "version_major": 2,
       "version_minor": 0
      },
      "text/plain": [
       "  0%|          | 0/358 [00:00<?, ?it/s]"
      ]
     },
     "metadata": {},
     "output_type": "display_data"
    },
    {
     "name": "stdout",
     "output_type": "stream",
     "text": [
      "Loss: 0.040, accuracy: 98.908\n",
      "Validation\n"
     ]
    },
    {
     "data": {
      "application/vnd.jupyter.widget-view+json": {
       "model_id": "6d0aec7b72694b398a1a3142cffe6b67",
       "version_major": 2,
       "version_minor": 0
      },
      "text/plain": [
       "  0%|          | 0/40 [00:00<?, ?it/s]"
      ]
     },
     "metadata": {},
     "output_type": "display_data"
    },
    {
     "name": "stdout",
     "output_type": "stream",
     "text": [
      "Loss: 0.082, accuracy: 98.074\n",
      "----------------------\n",
      "Finished training! Enjoy your results!\n"
     ]
    }
   ],
   "source": [
    "for epoch in tqdm(range(num_epochs)):\n",
    "  #training\n",
    "  run_epoch(epoch, is_train=True)\n",
    "\n",
    "  #validation\n",
    "  with torch.no_grad():\n",
    "      run_epoch(epoch, is_train=False)\n",
    "\n",
    "  print('----------------------')\n",
    "\n",
    "print('Finished training! Enjoy your results!')"
   ]
  },
  {
   "cell_type": "code",
   "execution_count": 40,
   "id": "33262824-816e-432b-b3a7-3424430e33e1",
   "metadata": {},
   "outputs": [
    {
     "data": {
      "application/vnd.jupyter.widget-view+json": {
       "model_id": "aebb49e5fdbe4782816d6837e2663e75",
       "version_major": 2,
       "version_minor": 0
      },
      "text/plain": [
       "  0%|          | 0/118 [00:00<?, ?it/s]"
      ]
     },
     "metadata": {},
     "output_type": "display_data"
    }
   ],
   "source": [
    "predictions = {}\n",
    "for batch_idx, (data, filenames) in enumerate(tqdm(testloader)):\n",
    "    # Get data to Cuda/MPS\n",
    "    data = data.to(device=DEVICE)\n",
    "    scores = net(data)\n",
    "\n",
    "    for filename, score in zip(filenames, scores):\n",
    "        predictions[filename] = score.argmax().item()\n",
    "preds_df = pd.DataFrame(predictions.items(), columns=['filename', 'class_number'])\n",
    "preds_df.to_csv(f'./outputs/predictions_{experiment}.csv', index=False)"
   ]
  },
  {
   "cell_type": "code",
   "execution_count": null,
   "id": "60061d34-1620-4779-8c88-a8d932ddf8d7",
   "metadata": {},
   "outputs": [],
   "source": []
  },
  {
   "cell_type": "code",
   "execution_count": null,
   "id": "45689681-b1f3-4fb2-9f88-eb71caff8e58",
   "metadata": {},
   "outputs": [],
   "source": []
  },
  {
   "cell_type": "markdown",
   "id": "ffb9487d-1565-468b-b4d2-cd34c64abb18",
   "metadata": {
    "jp-MarkdownHeadingCollapsed": true
   },
   "source": [
    "# Эксперимент 6. Аугментации с блюром"
   ]
  },
  {
   "cell_type": "code",
   "execution_count": 41,
   "id": "5bca1b3d-7c70-44c1-ad32-3695ebf30c03",
   "metadata": {},
   "outputs": [],
   "source": [
    "experiment = 'ResNet50_AugBaseBlur_Adam_LR3e4_BS64'"
   ]
  },
  {
   "cell_type": "code",
   "execution_count": 42,
   "id": "3770a1b3-b3f3-4345-9560-bd03cd902fe8",
   "metadata": {},
   "outputs": [],
   "source": [
    "#преобразования для train и val\n",
    "transform_for_train = transforms.Compose([\n",
    "        transforms.ColorJitter(brightness=(0.3, 1.0), contrast=(0.8, 1.2)),\n",
    "        transforms.RandomRotation((-15, 15)),\n",
    "        transforms.GaussianBlur(kernel_size=(5, 9), sigma=(0.1, 5)),\n",
    "        transforms.ToTensor(),\n",
    "        transforms.Normalize([0.5, 0.5, 0.5], [0.5, 0.5, 0.5])\n",
    "        ])\n",
    "\n",
    "#преобразования для test, для старта те же\n",
    "transform_for_test = transforms.Compose([\n",
    "        transforms.ToTensor(),\n",
    "        transforms.Normalize([0.5, 0.5, 0.5], [0.5, 0.5, 0.5])\n",
    "        ])\n",
    "\n",
    "#датафреймы\n",
    "train, val = train_test_split(train_df, test_size=0.1, random_state=42)\n",
    "\n",
    "#нам нужно будет обращаться по индексу, так что делаем reset\n",
    "train.reset_index(inplace=True, drop=True)\n",
    "val.reset_index(inplace=True, drop=True)\n",
    "\n",
    "batch_size=64"
   ]
  },
  {
   "cell_type": "code",
   "execution_count": 43,
   "id": "a2949e90-ce33-43a1-bd36-6a145482a5ef",
   "metadata": {},
   "outputs": [],
   "source": [
    "trainset = RoadSignDataset(root='./data/train', flist=train, transform=transform_for_train)\n",
    "valset = RoadSignDataset(root='./data/train', flist=val, transform=transform_for_test)\n",
    "testset = RoadSignTestDataset(root='./data/test', flist=None, transform=transform_for_test)\n",
    "\n",
    "trainloader = torch.utils.data.DataLoader(trainset, batch_size=batch_size, shuffle=True, pin_memory=True)\n",
    "valloader = torch.utils.data.DataLoader(valset, batch_size=batch_size, pin_memory=True)\n",
    "testloader = torch.utils.data.DataLoader(testset, batch_size=batch_size, pin_memory=True)"
   ]
  },
  {
   "cell_type": "code",
   "execution_count": 44,
   "id": "a2d4f0c2-2455-4f2a-ad3b-ebcfcd2a3317",
   "metadata": {},
   "outputs": [],
   "source": [
    "net = models.resnet50(pretrained=True).to(DEVICE)\n",
    "lr = 3e-4 \n",
    "num_epochs = 20 \n",
    "\n",
    "criterion = nn.CrossEntropyLoss()\n",
    "optimizer = torch.optim.Adam(net.parameters(), lr)"
   ]
  },
  {
   "cell_type": "code",
   "execution_count": 45,
   "id": "c7db69aa-ae5f-4191-b692-3c1ca9a95d89",
   "metadata": {
    "scrolled": true
   },
   "outputs": [
    {
     "data": {
      "application/vnd.jupyter.widget-view+json": {
       "model_id": "15e1d476aa564b39b88331dce36e686f",
       "version_major": 2,
       "version_minor": 0
      },
      "text/plain": [
       "  0%|          | 0/20 [00:00<?, ?it/s]"
      ]
     },
     "metadata": {},
     "output_type": "display_data"
    },
    {
     "name": "stdout",
     "output_type": "stream",
     "text": [
      "Training epoch:  1 / 20\n"
     ]
    },
    {
     "data": {
      "application/vnd.jupyter.widget-view+json": {
       "model_id": "b4a995716d274b55958a97ed18e3d282",
       "version_major": 2,
       "version_minor": 0
      },
      "text/plain": [
       "  0%|          | 0/358 [00:00<?, ?it/s]"
      ]
     },
     "metadata": {},
     "output_type": "display_data"
    },
    {
     "name": "stdout",
     "output_type": "stream",
     "text": [
      "Loss: 0.795, accuracy: 81.864\n",
      "Validation\n"
     ]
    },
    {
     "data": {
      "application/vnd.jupyter.widget-view+json": {
       "model_id": "2cd9f4c88f6943e4b56c0d4da8c5a23b",
       "version_major": 2,
       "version_minor": 0
      },
      "text/plain": [
       "  0%|          | 0/40 [00:00<?, ?it/s]"
      ]
     },
     "metadata": {},
     "output_type": "display_data"
    },
    {
     "name": "stdout",
     "output_type": "stream",
     "text": [
      "Loss: 0.219, accuracy: 93.042\n",
      "----------------------\n",
      "Training epoch:  2 / 20\n"
     ]
    },
    {
     "data": {
      "application/vnd.jupyter.widget-view+json": {
       "model_id": "96ebba154f8b47ecbf60a37e13817708",
       "version_major": 2,
       "version_minor": 0
      },
      "text/plain": [
       "  0%|          | 0/358 [00:00<?, ?it/s]"
      ]
     },
     "metadata": {},
     "output_type": "display_data"
    },
    {
     "name": "stdout",
     "output_type": "stream",
     "text": [
      "Loss: 0.152, accuracy: 95.740\n",
      "Validation\n"
     ]
    },
    {
     "data": {
      "application/vnd.jupyter.widget-view+json": {
       "model_id": "ecad3bc3456b4f30b6cd35413e5bf1be",
       "version_major": 2,
       "version_minor": 0
      },
      "text/plain": [
       "  0%|          | 0/40 [00:00<?, ?it/s]"
      ]
     },
     "metadata": {},
     "output_type": "display_data"
    },
    {
     "name": "stdout",
     "output_type": "stream",
     "text": [
      "Loss: 0.089, accuracy: 97.209\n",
      "----------------------\n",
      "Training epoch:  3 / 20\n"
     ]
    },
    {
     "data": {
      "application/vnd.jupyter.widget-view+json": {
       "model_id": "02a2d2286c8d43f2aa8eb643b660d6aa",
       "version_major": 2,
       "version_minor": 0
      },
      "text/plain": [
       "  0%|          | 0/358 [00:00<?, ?it/s]"
      ]
     },
     "metadata": {},
     "output_type": "display_data"
    },
    {
     "name": "stdout",
     "output_type": "stream",
     "text": [
      "Loss: 0.093, accuracy: 97.387\n",
      "Validation\n"
     ]
    },
    {
     "data": {
      "application/vnd.jupyter.widget-view+json": {
       "model_id": "f9fc6b84710d4c8cb6d186c96e681e87",
       "version_major": 2,
       "version_minor": 0
      },
      "text/plain": [
       "  0%|          | 0/40 [00:00<?, ?it/s]"
      ]
     },
     "metadata": {},
     "output_type": "display_data"
    },
    {
     "name": "stdout",
     "output_type": "stream",
     "text": [
      "Loss: 0.092, accuracy: 97.524\n",
      "----------------------\n",
      "Training epoch:  4 / 20\n"
     ]
    },
    {
     "data": {
      "application/vnd.jupyter.widget-view+json": {
       "model_id": "fae72f369a1a43599c5b7fdbf5d0ee2c",
       "version_major": 2,
       "version_minor": 0
      },
      "text/plain": [
       "  0%|          | 0/358 [00:00<?, ?it/s]"
      ]
     },
     "metadata": {},
     "output_type": "display_data"
    },
    {
     "name": "stdout",
     "output_type": "stream",
     "text": [
      "Loss: 0.083, accuracy: 97.641\n",
      "Validation\n"
     ]
    },
    {
     "data": {
      "application/vnd.jupyter.widget-view+json": {
       "model_id": "cead7b28d3aa4f3e87492a9f6c57da2f",
       "version_major": 2,
       "version_minor": 0
      },
      "text/plain": [
       "  0%|          | 0/40 [00:00<?, ?it/s]"
      ]
     },
     "metadata": {},
     "output_type": "display_data"
    },
    {
     "name": "stdout",
     "output_type": "stream",
     "text": [
      "Loss: 0.064, accuracy: 97.681\n",
      "----------------------\n",
      "Training epoch:  5 / 20\n"
     ]
    },
    {
     "data": {
      "application/vnd.jupyter.widget-view+json": {
       "model_id": "11c21fc6b3854d569a8f825ecf940e59",
       "version_major": 2,
       "version_minor": 0
      },
      "text/plain": [
       "  0%|          | 0/358 [00:00<?, ?it/s]"
      ]
     },
     "metadata": {},
     "output_type": "display_data"
    },
    {
     "name": "stdout",
     "output_type": "stream",
     "text": [
      "Loss: 0.064, accuracy: 98.130\n",
      "Validation\n"
     ]
    },
    {
     "data": {
      "application/vnd.jupyter.widget-view+json": {
       "model_id": "559451f8f2c94c93b2c3485f92dbaeb9",
       "version_major": 2,
       "version_minor": 0
      },
      "text/plain": [
       "  0%|          | 0/40 [00:00<?, ?it/s]"
      ]
     },
     "metadata": {},
     "output_type": "display_data"
    },
    {
     "name": "stdout",
     "output_type": "stream",
     "text": [
      "Loss: 0.076, accuracy: 97.799\n",
      "----------------------\n",
      "Training epoch:  6 / 20\n"
     ]
    },
    {
     "data": {
      "application/vnd.jupyter.widget-view+json": {
       "model_id": "1f8eedef664a44d8872d49d9be4548a6",
       "version_major": 2,
       "version_minor": 0
      },
      "text/plain": [
       "  0%|          | 0/358 [00:00<?, ?it/s]"
      ]
     },
     "metadata": {},
     "output_type": "display_data"
    },
    {
     "name": "stdout",
     "output_type": "stream",
     "text": [
      "Loss: 0.069, accuracy: 98.108\n",
      "Validation\n"
     ]
    },
    {
     "data": {
      "application/vnd.jupyter.widget-view+json": {
       "model_id": "2b5baeba5aec40fcaf245e6bf19b0378",
       "version_major": 2,
       "version_minor": 0
      },
      "text/plain": [
       "  0%|          | 0/40 [00:00<?, ?it/s]"
      ]
     },
     "metadata": {},
     "output_type": "display_data"
    },
    {
     "name": "stdout",
     "output_type": "stream",
     "text": [
      "Loss: 0.107, accuracy: 97.131\n",
      "----------------------\n",
      "Training epoch:  7 / 20\n"
     ]
    },
    {
     "data": {
      "application/vnd.jupyter.widget-view+json": {
       "model_id": "378691610aff44d9a56353c19ed18096",
       "version_major": 2,
       "version_minor": 0
      },
      "text/plain": [
       "  0%|          | 0/358 [00:00<?, ?it/s]"
      ]
     },
     "metadata": {},
     "output_type": "display_data"
    },
    {
     "name": "stdout",
     "output_type": "stream",
     "text": [
      "Loss: 0.052, accuracy: 98.515\n",
      "Validation\n"
     ]
    },
    {
     "data": {
      "application/vnd.jupyter.widget-view+json": {
       "model_id": "05a16fb85f4840c9a3e28ae07aad2ef0",
       "version_major": 2,
       "version_minor": 0
      },
      "text/plain": [
       "  0%|          | 0/40 [00:00<?, ?it/s]"
      ]
     },
     "metadata": {},
     "output_type": "display_data"
    },
    {
     "name": "stdout",
     "output_type": "stream",
     "text": [
      "Loss: 0.044, accuracy: 98.821\n",
      "----------------------\n",
      "Training epoch:  8 / 20\n"
     ]
    },
    {
     "data": {
      "application/vnd.jupyter.widget-view+json": {
       "model_id": "b9b4d02d3e5040adad19aae42a233855",
       "version_major": 2,
       "version_minor": 0
      },
      "text/plain": [
       "  0%|          | 0/358 [00:00<?, ?it/s]"
      ]
     },
     "metadata": {},
     "output_type": "display_data"
    },
    {
     "name": "stdout",
     "output_type": "stream",
     "text": [
      "Loss: 0.051, accuracy: 98.563\n",
      "Validation\n"
     ]
    },
    {
     "data": {
      "application/vnd.jupyter.widget-view+json": {
       "model_id": "1ad626c5b06d4868be8c9d78b3cb7fc0",
       "version_major": 2,
       "version_minor": 0
      },
      "text/plain": [
       "  0%|          | 0/40 [00:00<?, ?it/s]"
      ]
     },
     "metadata": {},
     "output_type": "display_data"
    },
    {
     "name": "stdout",
     "output_type": "stream",
     "text": [
      "Loss: 0.078, accuracy: 97.799\n",
      "----------------------\n",
      "Training epoch:  9 / 20\n"
     ]
    },
    {
     "data": {
      "application/vnd.jupyter.widget-view+json": {
       "model_id": "cf700c3f339842778ebb0fcc9d056422",
       "version_major": 2,
       "version_minor": 0
      },
      "text/plain": [
       "  0%|          | 0/358 [00:00<?, ?it/s]"
      ]
     },
     "metadata": {},
     "output_type": "display_data"
    },
    {
     "name": "stdout",
     "output_type": "stream",
     "text": [
      "Loss: 0.055, accuracy: 98.497\n",
      "Validation\n"
     ]
    },
    {
     "data": {
      "application/vnd.jupyter.widget-view+json": {
       "model_id": "f7eafb5b7c714b80b2419ed71e2ec875",
       "version_major": 2,
       "version_minor": 0
      },
      "text/plain": [
       "  0%|          | 0/40 [00:00<?, ?it/s]"
      ]
     },
     "metadata": {},
     "output_type": "display_data"
    },
    {
     "name": "stdout",
     "output_type": "stream",
     "text": [
      "Loss: 0.078, accuracy: 97.759\n",
      "----------------------\n",
      "Training epoch:  10 / 20\n"
     ]
    },
    {
     "data": {
      "application/vnd.jupyter.widget-view+json": {
       "model_id": "23e802115c224c3f9105cec524c507d6",
       "version_major": 2,
       "version_minor": 0
      },
      "text/plain": [
       "  0%|          | 0/358 [00:00<?, ?it/s]"
      ]
     },
     "metadata": {},
     "output_type": "display_data"
    },
    {
     "name": "stdout",
     "output_type": "stream",
     "text": [
      "Loss: 0.038, accuracy: 99.017\n",
      "Validation\n"
     ]
    },
    {
     "data": {
      "application/vnd.jupyter.widget-view+json": {
       "model_id": "519fa488307b49fb92b3e838dddae250",
       "version_major": 2,
       "version_minor": 0
      },
      "text/plain": [
       "  0%|          | 0/40 [00:00<?, ?it/s]"
      ]
     },
     "metadata": {},
     "output_type": "display_data"
    },
    {
     "name": "stdout",
     "output_type": "stream",
     "text": [
      "Loss: 0.052, accuracy: 98.624\n",
      "----------------------\n",
      "Training epoch:  11 / 20\n"
     ]
    },
    {
     "data": {
      "application/vnd.jupyter.widget-view+json": {
       "model_id": "0851a6297ce64e3090cf05d039a3e964",
       "version_major": 2,
       "version_minor": 0
      },
      "text/plain": [
       "  0%|          | 0/358 [00:00<?, ?it/s]"
      ]
     },
     "metadata": {},
     "output_type": "display_data"
    },
    {
     "name": "stdout",
     "output_type": "stream",
     "text": [
      "Loss: 0.043, accuracy: 98.882\n",
      "Validation\n"
     ]
    },
    {
     "data": {
      "application/vnd.jupyter.widget-view+json": {
       "model_id": "e033dd5e7295486aa7a596190608f103",
       "version_major": 2,
       "version_minor": 0
      },
      "text/plain": [
       "  0%|          | 0/40 [00:00<?, ?it/s]"
      ]
     },
     "metadata": {},
     "output_type": "display_data"
    },
    {
     "name": "stdout",
     "output_type": "stream",
     "text": [
      "Loss: 0.041, accuracy: 98.899\n",
      "----------------------\n",
      "Training epoch:  12 / 20\n"
     ]
    },
    {
     "data": {
      "application/vnd.jupyter.widget-view+json": {
       "model_id": "24a4cffdab484e9493875f4e2eaf5726",
       "version_major": 2,
       "version_minor": 0
      },
      "text/plain": [
       "  0%|          | 0/358 [00:00<?, ?it/s]"
      ]
     },
     "metadata": {},
     "output_type": "display_data"
    },
    {
     "name": "stdout",
     "output_type": "stream",
     "text": [
      "Loss: 0.036, accuracy: 99.078\n",
      "Validation\n"
     ]
    },
    {
     "data": {
      "application/vnd.jupyter.widget-view+json": {
       "model_id": "c0f2a2a93913417a9b99453e6065483e",
       "version_major": 2,
       "version_minor": 0
      },
      "text/plain": [
       "  0%|          | 0/40 [00:00<?, ?it/s]"
      ]
     },
     "metadata": {},
     "output_type": "display_data"
    },
    {
     "name": "stdout",
     "output_type": "stream",
     "text": [
      "Loss: 0.038, accuracy: 98.742\n",
      "----------------------\n",
      "Training epoch:  13 / 20\n"
     ]
    },
    {
     "data": {
      "application/vnd.jupyter.widget-view+json": {
       "model_id": "1e425f769dc3407f9d62cdc74de44a4a",
       "version_major": 2,
       "version_minor": 0
      },
      "text/plain": [
       "  0%|          | 0/358 [00:00<?, ?it/s]"
      ]
     },
     "metadata": {},
     "output_type": "display_data"
    },
    {
     "name": "stdout",
     "output_type": "stream",
     "text": [
      "Loss: 0.043, accuracy: 98.860\n",
      "Validation\n"
     ]
    },
    {
     "data": {
      "application/vnd.jupyter.widget-view+json": {
       "model_id": "a7bb930bf9da4e1b9c8981504395d708",
       "version_major": 2,
       "version_minor": 0
      },
      "text/plain": [
       "  0%|          | 0/40 [00:00<?, ?it/s]"
      ]
     },
     "metadata": {},
     "output_type": "display_data"
    },
    {
     "name": "stdout",
     "output_type": "stream",
     "text": [
      "Loss: 0.035, accuracy: 98.939\n",
      "----------------------\n",
      "Training epoch:  14 / 20\n"
     ]
    },
    {
     "data": {
      "application/vnd.jupyter.widget-view+json": {
       "model_id": "af7534e4cb314b8db519ba8ba83a8d48",
       "version_major": 2,
       "version_minor": 0
      },
      "text/plain": [
       "  0%|          | 0/358 [00:00<?, ?it/s]"
      ]
     },
     "metadata": {},
     "output_type": "display_data"
    },
    {
     "name": "stdout",
     "output_type": "stream",
     "text": [
      "Loss: 0.043, accuracy: 98.864\n",
      "Validation\n"
     ]
    },
    {
     "data": {
      "application/vnd.jupyter.widget-view+json": {
       "model_id": "6515c4a672a14bcb9ef6b5ebd886972a",
       "version_major": 2,
       "version_minor": 0
      },
      "text/plain": [
       "  0%|          | 0/40 [00:00<?, ?it/s]"
      ]
     },
     "metadata": {},
     "output_type": "display_data"
    },
    {
     "name": "stdout",
     "output_type": "stream",
     "text": [
      "Loss: 0.103, accuracy: 97.602\n",
      "----------------------\n",
      "Training epoch:  15 / 20\n"
     ]
    },
    {
     "data": {
      "application/vnd.jupyter.widget-view+json": {
       "model_id": "4b0879b98006448b8af8204ba50f9fa1",
       "version_major": 2,
       "version_minor": 0
      },
      "text/plain": [
       "  0%|          | 0/358 [00:00<?, ?it/s]"
      ]
     },
     "metadata": {},
     "output_type": "display_data"
    },
    {
     "name": "stdout",
     "output_type": "stream",
     "text": [
      "Loss: 0.045, accuracy: 98.694\n",
      "Validation\n"
     ]
    },
    {
     "data": {
      "application/vnd.jupyter.widget-view+json": {
       "model_id": "0416bcbea29849ba920689175025e9a6",
       "version_major": 2,
       "version_minor": 0
      },
      "text/plain": [
       "  0%|          | 0/40 [00:00<?, ?it/s]"
      ]
     },
     "metadata": {},
     "output_type": "display_data"
    },
    {
     "name": "stdout",
     "output_type": "stream",
     "text": [
      "Loss: 0.045, accuracy: 98.939\n",
      "----------------------\n",
      "Training epoch:  16 / 20\n"
     ]
    },
    {
     "data": {
      "application/vnd.jupyter.widget-view+json": {
       "model_id": "77ded33d0b504467b819a6f9fa04e2ac",
       "version_major": 2,
       "version_minor": 0
      },
      "text/plain": [
       "  0%|          | 0/358 [00:00<?, ?it/s]"
      ]
     },
     "metadata": {},
     "output_type": "display_data"
    },
    {
     "name": "stdout",
     "output_type": "stream",
     "text": [
      "Loss: 0.028, accuracy: 99.218\n",
      "Validation\n"
     ]
    },
    {
     "data": {
      "application/vnd.jupyter.widget-view+json": {
       "model_id": "dcfbe5497cb84af6a14f60a921adce9d",
       "version_major": 2,
       "version_minor": 0
      },
      "text/plain": [
       "  0%|          | 0/40 [00:00<?, ?it/s]"
      ]
     },
     "metadata": {},
     "output_type": "display_data"
    },
    {
     "name": "stdout",
     "output_type": "stream",
     "text": [
      "Loss: 0.040, accuracy: 98.742\n",
      "----------------------\n",
      "Training epoch:  17 / 20\n"
     ]
    },
    {
     "data": {
      "application/vnd.jupyter.widget-view+json": {
       "model_id": "03e1f53c66ff4f629983b6ab6875661d",
       "version_major": 2,
       "version_minor": 0
      },
      "text/plain": [
       "  0%|          | 0/358 [00:00<?, ?it/s]"
      ]
     },
     "metadata": {},
     "output_type": "display_data"
    },
    {
     "name": "stdout",
     "output_type": "stream",
     "text": [
      "Loss: 0.034, accuracy: 99.039\n",
      "Validation\n"
     ]
    },
    {
     "data": {
      "application/vnd.jupyter.widget-view+json": {
       "model_id": "eb75a372b8fb45d9a182c3469af4086b",
       "version_major": 2,
       "version_minor": 0
      },
      "text/plain": [
       "  0%|          | 0/40 [00:00<?, ?it/s]"
      ]
     },
     "metadata": {},
     "output_type": "display_data"
    },
    {
     "name": "stdout",
     "output_type": "stream",
     "text": [
      "Loss: 0.049, accuracy: 98.546\n",
      "----------------------\n",
      "Training epoch:  18 / 20\n"
     ]
    },
    {
     "data": {
      "application/vnd.jupyter.widget-view+json": {
       "model_id": "6b32929fd53d4764822382c70d37af2a",
       "version_major": 2,
       "version_minor": 0
      },
      "text/plain": [
       "  0%|          | 0/358 [00:00<?, ?it/s]"
      ]
     },
     "metadata": {},
     "output_type": "display_data"
    },
    {
     "name": "stdout",
     "output_type": "stream",
     "text": [
      "Loss: 0.027, accuracy: 99.235\n",
      "Validation\n"
     ]
    },
    {
     "data": {
      "application/vnd.jupyter.widget-view+json": {
       "model_id": "ae075ca8bb46467f989dc1ed79ed8f53",
       "version_major": 2,
       "version_minor": 0
      },
      "text/plain": [
       "  0%|          | 0/40 [00:00<?, ?it/s]"
      ]
     },
     "metadata": {},
     "output_type": "display_data"
    },
    {
     "name": "stdout",
     "output_type": "stream",
     "text": [
      "Loss: 0.063, accuracy: 98.428\n",
      "----------------------\n",
      "Training epoch:  19 / 20\n"
     ]
    },
    {
     "data": {
      "application/vnd.jupyter.widget-view+json": {
       "model_id": "34edf56eaac14b56b3dc3b5c786b6cd9",
       "version_major": 2,
       "version_minor": 0
      },
      "text/plain": [
       "  0%|          | 0/358 [00:00<?, ?it/s]"
      ]
     },
     "metadata": {},
     "output_type": "display_data"
    },
    {
     "name": "stdout",
     "output_type": "stream",
     "text": [
      "Loss: 0.034, accuracy: 99.100\n",
      "Validation\n"
     ]
    },
    {
     "data": {
      "application/vnd.jupyter.widget-view+json": {
       "model_id": "011eebbd51564ff3a5ac08e4e40a7a57",
       "version_major": 2,
       "version_minor": 0
      },
      "text/plain": [
       "  0%|          | 0/40 [00:00<?, ?it/s]"
      ]
     },
     "metadata": {},
     "output_type": "display_data"
    },
    {
     "name": "stdout",
     "output_type": "stream",
     "text": [
      "Loss: 0.042, accuracy: 98.821\n",
      "----------------------\n",
      "Training epoch:  20 / 20\n"
     ]
    },
    {
     "data": {
      "application/vnd.jupyter.widget-view+json": {
       "model_id": "fc96abcef61741ad96c2a62ee9802306",
       "version_major": 2,
       "version_minor": 0
      },
      "text/plain": [
       "  0%|          | 0/358 [00:00<?, ?it/s]"
      ]
     },
     "metadata": {},
     "output_type": "display_data"
    },
    {
     "name": "stdout",
     "output_type": "stream",
     "text": [
      "Loss: 0.030, accuracy: 99.161\n",
      "Validation\n"
     ]
    },
    {
     "data": {
      "application/vnd.jupyter.widget-view+json": {
       "model_id": "5ce55cdb40fc4237bf686113edc43a64",
       "version_major": 2,
       "version_minor": 0
      },
      "text/plain": [
       "  0%|          | 0/40 [00:00<?, ?it/s]"
      ]
     },
     "metadata": {},
     "output_type": "display_data"
    },
    {
     "name": "stdout",
     "output_type": "stream",
     "text": [
      "Loss: 0.066, accuracy: 98.428\n",
      "----------------------\n",
      "Finished training! Enjoy your results!\n"
     ]
    }
   ],
   "source": [
    "for epoch in tqdm(range(num_epochs)):\n",
    "  #training\n",
    "  run_epoch(epoch, is_train=True)\n",
    "\n",
    "  #validation\n",
    "  with torch.no_grad():\n",
    "      run_epoch(epoch, is_train=False)\n",
    "\n",
    "  print('----------------------')\n",
    "\n",
    "print('Finished training! Enjoy your results!')"
   ]
  },
  {
   "cell_type": "code",
   "execution_count": 46,
   "id": "dec7ae79-7080-4a6f-92e3-f18048b6dac2",
   "metadata": {},
   "outputs": [
    {
     "data": {
      "application/vnd.jupyter.widget-view+json": {
       "model_id": "3bb00a703730465c976ba3d0c3e7cc83",
       "version_major": 2,
       "version_minor": 0
      },
      "text/plain": [
       "  0%|          | 0/118 [00:00<?, ?it/s]"
      ]
     },
     "metadata": {},
     "output_type": "display_data"
    }
   ],
   "source": [
    "predictions = {}\n",
    "for batch_idx, (data, filenames) in enumerate(tqdm(testloader)):\n",
    "    # Get data to Cuda/MPS\n",
    "    data = data.to(device=DEVICE)\n",
    "    scores = net(data)\n",
    "\n",
    "    for filename, score in zip(filenames, scores):\n",
    "        predictions[filename] = score.argmax().item()\n",
    "preds_df = pd.DataFrame(predictions.items(), columns=['filename', 'class_number'])\n",
    "preds_df.to_csv(f'./outputs/predictions_{experiment}.csv', index=False)"
   ]
  },
  {
   "cell_type": "code",
   "execution_count": null,
   "id": "e5ba574e-2e23-4847-b965-7944d6cd7e1f",
   "metadata": {},
   "outputs": [],
   "source": []
  },
  {
   "cell_type": "code",
   "execution_count": null,
   "id": "3e8ab0b9-6aa6-4dac-b9dc-bff310829526",
   "metadata": {},
   "outputs": [],
   "source": []
  },
  {
   "cell_type": "markdown",
   "id": "9339f68b-c1e3-43b9-9f8f-1a9cf217c547",
   "metadata": {
    "jp-MarkdownHeadingCollapsed": true
   },
   "source": [
    "# Эксперимент 7. Аугментации с блюром на ResNet152"
   ]
  },
  {
   "cell_type": "code",
   "execution_count": 52,
   "id": "d2d8d7b8-fa2f-4705-98a6-e683741ea44c",
   "metadata": {},
   "outputs": [],
   "source": [
    "experiment = 'ResNet152_AugBaseBlur_Adam_LR3e4_BS64'"
   ]
  },
  {
   "cell_type": "code",
   "execution_count": 48,
   "id": "9110abf2-e7ab-43b4-aff0-d7a734072028",
   "metadata": {},
   "outputs": [],
   "source": [
    "#преобразования для train и val\n",
    "transform_for_train = transforms.Compose([\n",
    "        transforms.ColorJitter(brightness=(0.3, 1.0), contrast=(0.8, 1.2)),\n",
    "        transforms.RandomRotation((-15, 15)),\n",
    "        transforms.GaussianBlur(kernel_size=(5, 9), sigma=(0.1, 5)),\n",
    "        transforms.ToTensor(),\n",
    "        transforms.Normalize([0.5, 0.5, 0.5], [0.5, 0.5, 0.5])\n",
    "        ])\n",
    "\n",
    "#преобразования для test, для старта те же\n",
    "transform_for_test = transforms.Compose([\n",
    "        transforms.ToTensor(),\n",
    "        transforms.Normalize([0.5, 0.5, 0.5], [0.5, 0.5, 0.5])\n",
    "        ])\n",
    "\n",
    "#датафреймы\n",
    "train, val = train_test_split(train_df, test_size=0.1, random_state=42)\n",
    "\n",
    "#нам нужно будет обращаться по индексу, так что делаем reset\n",
    "train.reset_index(inplace=True, drop=True)\n",
    "val.reset_index(inplace=True, drop=True)\n",
    "\n",
    "batch_size=64"
   ]
  },
  {
   "cell_type": "code",
   "execution_count": 50,
   "id": "9c9cf5e3-a5bf-4b0f-add6-cc57d7e1df15",
   "metadata": {},
   "outputs": [],
   "source": [
    "trainset = RoadSignDataset(root='./data/train', flist=train, transform=transform_for_train)\n",
    "valset = RoadSignDataset(root='./data/train', flist=val, transform=transform_for_test)\n",
    "testset = RoadSignTestDataset(root='./data/test', flist=None, transform=transform_for_test)\n",
    "\n",
    "trainloader = torch.utils.data.DataLoader(trainset, batch_size=batch_size, shuffle=True, pin_memory=True)\n",
    "valloader = torch.utils.data.DataLoader(valset, batch_size=batch_size, pin_memory=True)\n",
    "testloader = torch.utils.data.DataLoader(testset, batch_size=batch_size, pin_memory=True)"
   ]
  },
  {
   "cell_type": "code",
   "execution_count": 51,
   "id": "c5bd2621-b168-484a-86d1-2e6e0e3eb8d2",
   "metadata": {},
   "outputs": [
    {
     "name": "stderr",
     "output_type": "stream",
     "text": [
      "Downloading: \"https://download.pytorch.org/models/resnet152-394f9c45.pth\" to C:\\Users\\lakeo/.cache\\torch\\hub\\checkpoints\\resnet152-394f9c45.pth\n",
      "100%|███████████████████████████████████████████████████████████████████████████████| 230M/230M [00:21<00:00, 11.5MB/s]\n"
     ]
    }
   ],
   "source": [
    "net = models.resnet152(pretrained=True).to(DEVICE)\n",
    "lr = 3e-4 \n",
    "num_epochs = 20\n",
    "\n",
    "criterion = nn.CrossEntropyLoss()\n",
    "optimizer = torch.optim.Adam(net.parameters(), lr)"
   ]
  },
  {
   "cell_type": "code",
   "execution_count": 53,
   "id": "f07a2c3a-4a54-4497-bd87-8dc3a6e892af",
   "metadata": {
    "scrolled": true
   },
   "outputs": [
    {
     "data": {
      "application/vnd.jupyter.widget-view+json": {
       "model_id": "3ba81c1ba13848acbe0a671feafec9de",
       "version_major": 2,
       "version_minor": 0
      },
      "text/plain": [
       "  0%|          | 0/20 [00:00<?, ?it/s]"
      ]
     },
     "metadata": {},
     "output_type": "display_data"
    },
    {
     "name": "stdout",
     "output_type": "stream",
     "text": [
      "Training epoch:  1 / 20\n"
     ]
    },
    {
     "data": {
      "application/vnd.jupyter.widget-view+json": {
       "model_id": "25d2aa3ee51742d08661324c01455347",
       "version_major": 2,
       "version_minor": 0
      },
      "text/plain": [
       "  0%|          | 0/358 [00:00<?, ?it/s]"
      ]
     },
     "metadata": {},
     "output_type": "display_data"
    },
    {
     "name": "stdout",
     "output_type": "stream",
     "text": [
      "Loss: 0.752, accuracy: 83.677\n",
      "Validation\n"
     ]
    },
    {
     "data": {
      "application/vnd.jupyter.widget-view+json": {
       "model_id": "4edcde818b254017842f972e99bfcc9e",
       "version_major": 2,
       "version_minor": 0
      },
      "text/plain": [
       "  0%|          | 0/40 [00:00<?, ?it/s]"
      ]
     },
     "metadata": {},
     "output_type": "display_data"
    },
    {
     "name": "stdout",
     "output_type": "stream",
     "text": [
      "Loss: 0.167, accuracy: 95.401\n",
      "----------------------\n",
      "Training epoch:  2 / 20\n"
     ]
    },
    {
     "data": {
      "application/vnd.jupyter.widget-view+json": {
       "model_id": "738ba4fba88d47169138cedcc81c2e3f",
       "version_major": 2,
       "version_minor": 0
      },
      "text/plain": [
       "  0%|          | 0/358 [00:00<?, ?it/s]"
      ]
     },
     "metadata": {},
     "output_type": "display_data"
    },
    {
     "name": "stdout",
     "output_type": "stream",
     "text": [
      "Loss: 0.151, accuracy: 95.806\n",
      "Validation\n"
     ]
    },
    {
     "data": {
      "application/vnd.jupyter.widget-view+json": {
       "model_id": "f72b1b322b6d4da5ab3149971961680e",
       "version_major": 2,
       "version_minor": 0
      },
      "text/plain": [
       "  0%|          | 0/40 [00:00<?, ?it/s]"
      ]
     },
     "metadata": {},
     "output_type": "display_data"
    },
    {
     "name": "stdout",
     "output_type": "stream",
     "text": [
      "Loss: 0.092, accuracy: 97.248\n",
      "----------------------\n",
      "Training epoch:  3 / 20\n"
     ]
    },
    {
     "data": {
      "application/vnd.jupyter.widget-view+json": {
       "model_id": "926603968e6945e1bf9562abd4c17530",
       "version_major": 2,
       "version_minor": 0
      },
      "text/plain": [
       "  0%|          | 0/358 [00:00<?, ?it/s]"
      ]
     },
     "metadata": {},
     "output_type": "display_data"
    },
    {
     "name": "stdout",
     "output_type": "stream",
     "text": [
      "Loss: 0.117, accuracy: 96.688\n",
      "Validation\n"
     ]
    },
    {
     "data": {
      "application/vnd.jupyter.widget-view+json": {
       "model_id": "5460c4453b234e888f83f68c98cc119c",
       "version_major": 2,
       "version_minor": 0
      },
      "text/plain": [
       "  0%|          | 0/40 [00:00<?, ?it/s]"
      ]
     },
     "metadata": {},
     "output_type": "display_data"
    },
    {
     "name": "stdout",
     "output_type": "stream",
     "text": [
      "Loss: 0.114, accuracy: 96.305\n",
      "----------------------\n",
      "Training epoch:  4 / 20\n"
     ]
    },
    {
     "data": {
      "application/vnd.jupyter.widget-view+json": {
       "model_id": "ba5827f1245043aa811d1ac31b839ba0",
       "version_major": 2,
       "version_minor": 0
      },
      "text/plain": [
       "  0%|          | 0/358 [00:00<?, ?it/s]"
      ]
     },
     "metadata": {},
     "output_type": "display_data"
    },
    {
     "name": "stdout",
     "output_type": "stream",
     "text": [
      "Loss: 0.072, accuracy: 97.951\n",
      "Validation\n"
     ]
    },
    {
     "data": {
      "application/vnd.jupyter.widget-view+json": {
       "model_id": "986a9f2eacf94c6ab72c9bba3e6e7fdc",
       "version_major": 2,
       "version_minor": 0
      },
      "text/plain": [
       "  0%|          | 0/40 [00:00<?, ?it/s]"
      ]
     },
     "metadata": {},
     "output_type": "display_data"
    },
    {
     "name": "stdout",
     "output_type": "stream",
     "text": [
      "Loss: 0.069, accuracy: 97.838\n",
      "----------------------\n",
      "Training epoch:  5 / 20\n"
     ]
    },
    {
     "data": {
      "application/vnd.jupyter.widget-view+json": {
       "model_id": "5d02576e432541ca8f0d3816df0f7ed4",
       "version_major": 2,
       "version_minor": 0
      },
      "text/plain": [
       "  0%|          | 0/358 [00:00<?, ?it/s]"
      ]
     },
     "metadata": {},
     "output_type": "display_data"
    },
    {
     "name": "stdout",
     "output_type": "stream",
     "text": [
      "Loss: 0.063, accuracy: 98.209\n",
      "Validation\n"
     ]
    },
    {
     "data": {
      "application/vnd.jupyter.widget-view+json": {
       "model_id": "af67710a7e04449e8cb1a9f2277ddb76",
       "version_major": 2,
       "version_minor": 0
      },
      "text/plain": [
       "  0%|          | 0/40 [00:00<?, ?it/s]"
      ]
     },
     "metadata": {},
     "output_type": "display_data"
    },
    {
     "name": "stdout",
     "output_type": "stream",
     "text": [
      "Loss: 0.052, accuracy: 98.270\n",
      "----------------------\n",
      "Training epoch:  6 / 20\n"
     ]
    },
    {
     "data": {
      "application/vnd.jupyter.widget-view+json": {
       "model_id": "b56dd09d46324bdf8fe90daf834029eb",
       "version_major": 2,
       "version_minor": 0
      },
      "text/plain": [
       "  0%|          | 0/358 [00:00<?, ?it/s]"
      ]
     },
     "metadata": {},
     "output_type": "display_data"
    },
    {
     "name": "stdout",
     "output_type": "stream",
     "text": [
      "Loss: 0.048, accuracy: 98.501\n",
      "Validation\n"
     ]
    },
    {
     "data": {
      "application/vnd.jupyter.widget-view+json": {
       "model_id": "c70bf1bd2dd9464a80650387f15d872d",
       "version_major": 2,
       "version_minor": 0
      },
      "text/plain": [
       "  0%|          | 0/40 [00:00<?, ?it/s]"
      ]
     },
     "metadata": {},
     "output_type": "display_data"
    },
    {
     "name": "stdout",
     "output_type": "stream",
     "text": [
      "Loss: 0.055, accuracy: 98.624\n",
      "----------------------\n",
      "Training epoch:  7 / 20\n"
     ]
    },
    {
     "data": {
      "application/vnd.jupyter.widget-view+json": {
       "model_id": "bd68df0df4ea4f9f98c146d8ee61a329",
       "version_major": 2,
       "version_minor": 0
      },
      "text/plain": [
       "  0%|          | 0/358 [00:00<?, ?it/s]"
      ]
     },
     "metadata": {},
     "output_type": "display_data"
    },
    {
     "name": "stdout",
     "output_type": "stream",
     "text": [
      "Loss: 0.050, accuracy: 98.563\n",
      "Validation\n"
     ]
    },
    {
     "data": {
      "application/vnd.jupyter.widget-view+json": {
       "model_id": "d3b4575f51a94936b5313430c77f37fa",
       "version_major": 2,
       "version_minor": 0
      },
      "text/plain": [
       "  0%|          | 0/40 [00:00<?, ?it/s]"
      ]
     },
     "metadata": {},
     "output_type": "display_data"
    },
    {
     "name": "stdout",
     "output_type": "stream",
     "text": [
      "Loss: 0.049, accuracy: 98.546\n",
      "----------------------\n",
      "Training epoch:  8 / 20\n"
     ]
    },
    {
     "data": {
      "application/vnd.jupyter.widget-view+json": {
       "model_id": "40bec9e829974dc2ba7a33cbecb1954b",
       "version_major": 2,
       "version_minor": 0
      },
      "text/plain": [
       "  0%|          | 0/358 [00:00<?, ?it/s]"
      ]
     },
     "metadata": {},
     "output_type": "display_data"
    },
    {
     "name": "stdout",
     "output_type": "stream",
     "text": [
      "Loss: 0.052, accuracy: 98.624\n",
      "Validation\n"
     ]
    },
    {
     "data": {
      "application/vnd.jupyter.widget-view+json": {
       "model_id": "0f59e09ba52448399c2568e950397223",
       "version_major": 2,
       "version_minor": 0
      },
      "text/plain": [
       "  0%|          | 0/40 [00:00<?, ?it/s]"
      ]
     },
     "metadata": {},
     "output_type": "display_data"
    },
    {
     "name": "stdout",
     "output_type": "stream",
     "text": [
      "Loss: 0.059, accuracy: 98.113\n",
      "----------------------\n",
      "Training epoch:  9 / 20\n"
     ]
    },
    {
     "data": {
      "application/vnd.jupyter.widget-view+json": {
       "model_id": "61d4ba1ad02d40299c138fba65b80efb",
       "version_major": 2,
       "version_minor": 0
      },
      "text/plain": [
       "  0%|          | 0/358 [00:00<?, ?it/s]"
      ]
     },
     "metadata": {},
     "output_type": "display_data"
    },
    {
     "name": "stdout",
     "output_type": "stream",
     "text": [
      "Loss: 0.039, accuracy: 98.855\n",
      "Validation\n"
     ]
    },
    {
     "data": {
      "application/vnd.jupyter.widget-view+json": {
       "model_id": "3fa1a28b1b0649038a66c051598b8a5e",
       "version_major": 2,
       "version_minor": 0
      },
      "text/plain": [
       "  0%|          | 0/40 [00:00<?, ?it/s]"
      ]
     },
     "metadata": {},
     "output_type": "display_data"
    },
    {
     "name": "stdout",
     "output_type": "stream",
     "text": [
      "Loss: 0.062, accuracy: 98.388\n",
      "----------------------\n",
      "Training epoch:  10 / 20\n"
     ]
    },
    {
     "data": {
      "application/vnd.jupyter.widget-view+json": {
       "model_id": "1e1692ed1f1b485f812f83d59b52340d",
       "version_major": 2,
       "version_minor": 0
      },
      "text/plain": [
       "  0%|          | 0/358 [00:00<?, ?it/s]"
      ]
     },
     "metadata": {},
     "output_type": "display_data"
    },
    {
     "name": "stdout",
     "output_type": "stream",
     "text": [
      "Loss: 0.048, accuracy: 98.545\n",
      "Validation\n"
     ]
    },
    {
     "data": {
      "application/vnd.jupyter.widget-view+json": {
       "model_id": "119c3f380f6a412883e38ba69a377325",
       "version_major": 2,
       "version_minor": 0
      },
      "text/plain": [
       "  0%|          | 0/40 [00:00<?, ?it/s]"
      ]
     },
     "metadata": {},
     "output_type": "display_data"
    },
    {
     "name": "stdout",
     "output_type": "stream",
     "text": [
      "Loss: 0.050, accuracy: 98.585\n",
      "----------------------\n",
      "Training epoch:  11 / 20\n"
     ]
    },
    {
     "data": {
      "application/vnd.jupyter.widget-view+json": {
       "model_id": "3d6470dc2ec7485d9cd2af81f7410570",
       "version_major": 2,
       "version_minor": 0
      },
      "text/plain": [
       "  0%|          | 0/358 [00:00<?, ?it/s]"
      ]
     },
     "metadata": {},
     "output_type": "display_data"
    },
    {
     "name": "stdout",
     "output_type": "stream",
     "text": [
      "Loss: 0.046, accuracy: 98.724\n",
      "Validation\n"
     ]
    },
    {
     "data": {
      "application/vnd.jupyter.widget-view+json": {
       "model_id": "8ff00b7a10e947da94c9dea60e445e95",
       "version_major": 2,
       "version_minor": 0
      },
      "text/plain": [
       "  0%|          | 0/40 [00:00<?, ?it/s]"
      ]
     },
     "metadata": {},
     "output_type": "display_data"
    },
    {
     "name": "stdout",
     "output_type": "stream",
     "text": [
      "Loss: 0.053, accuracy: 98.506\n",
      "----------------------\n",
      "Training epoch:  12 / 20\n"
     ]
    },
    {
     "data": {
      "application/vnd.jupyter.widget-view+json": {
       "model_id": "02c44aba29054cb996569091d8a6ab27",
       "version_major": 2,
       "version_minor": 0
      },
      "text/plain": [
       "  0%|          | 0/358 [00:00<?, ?it/s]"
      ]
     },
     "metadata": {},
     "output_type": "display_data"
    },
    {
     "name": "stdout",
     "output_type": "stream",
     "text": [
      "Loss: 0.037, accuracy: 98.908\n",
      "Validation\n"
     ]
    },
    {
     "data": {
      "application/vnd.jupyter.widget-view+json": {
       "model_id": "e5199cf679bc4db39efb98395c12a1d8",
       "version_major": 2,
       "version_minor": 0
      },
      "text/plain": [
       "  0%|          | 0/40 [00:00<?, ?it/s]"
      ]
     },
     "metadata": {},
     "output_type": "display_data"
    },
    {
     "name": "stdout",
     "output_type": "stream",
     "text": [
      "Loss: 0.055, accuracy: 98.624\n",
      "----------------------\n",
      "Training epoch:  13 / 20\n"
     ]
    },
    {
     "data": {
      "application/vnd.jupyter.widget-view+json": {
       "model_id": "af9803f2738d4d2ab9b4b304fdb4990f",
       "version_major": 2,
       "version_minor": 0
      },
      "text/plain": [
       "  0%|          | 0/358 [00:00<?, ?it/s]"
      ]
     },
     "metadata": {},
     "output_type": "display_data"
    },
    {
     "name": "stdout",
     "output_type": "stream",
     "text": [
      "Loss: 0.029, accuracy: 99.200\n",
      "Validation\n"
     ]
    },
    {
     "data": {
      "application/vnd.jupyter.widget-view+json": {
       "model_id": "cec3500bcdf644e2b895e294d92eb995",
       "version_major": 2,
       "version_minor": 0
      },
      "text/plain": [
       "  0%|          | 0/40 [00:00<?, ?it/s]"
      ]
     },
     "metadata": {},
     "output_type": "display_data"
    },
    {
     "name": "stdout",
     "output_type": "stream",
     "text": [
      "Loss: 0.039, accuracy: 99.017\n",
      "----------------------\n",
      "Training epoch:  14 / 20\n"
     ]
    },
    {
     "data": {
      "application/vnd.jupyter.widget-view+json": {
       "model_id": "92a5f3e6900940729a35a537b6d0d8cb",
       "version_major": 2,
       "version_minor": 0
      },
      "text/plain": [
       "  0%|          | 0/358 [00:00<?, ?it/s]"
      ]
     },
     "metadata": {},
     "output_type": "display_data"
    },
    {
     "name": "stdout",
     "output_type": "stream",
     "text": [
      "Loss: 0.032, accuracy: 99.109\n",
      "Validation\n"
     ]
    },
    {
     "data": {
      "application/vnd.jupyter.widget-view+json": {
       "model_id": "80a74ed21546465e8ed9979fe25c1977",
       "version_major": 2,
       "version_minor": 0
      },
      "text/plain": [
       "  0%|          | 0/40 [00:00<?, ?it/s]"
      ]
     },
     "metadata": {},
     "output_type": "display_data"
    },
    {
     "name": "stdout",
     "output_type": "stream",
     "text": [
      "Loss: 0.057, accuracy: 98.388\n",
      "----------------------\n",
      "Training epoch:  15 / 20\n"
     ]
    },
    {
     "data": {
      "application/vnd.jupyter.widget-view+json": {
       "model_id": "6b0d30d1b29944af8f57c9d66df23973",
       "version_major": 2,
       "version_minor": 0
      },
      "text/plain": [
       "  0%|          | 0/358 [00:00<?, ?it/s]"
      ]
     },
     "metadata": {},
     "output_type": "display_data"
    },
    {
     "name": "stdout",
     "output_type": "stream",
     "text": [
      "Loss: 0.035, accuracy: 99.039\n",
      "Validation\n"
     ]
    },
    {
     "data": {
      "application/vnd.jupyter.widget-view+json": {
       "model_id": "4609f21771424910a7b0c083f41c6a99",
       "version_major": 2,
       "version_minor": 0
      },
      "text/plain": [
       "  0%|          | 0/40 [00:00<?, ?it/s]"
      ]
     },
     "metadata": {},
     "output_type": "display_data"
    },
    {
     "name": "stdout",
     "output_type": "stream",
     "text": [
      "Loss: 0.049, accuracy: 98.664\n",
      "----------------------\n",
      "Training epoch:  16 / 20\n"
     ]
    },
    {
     "data": {
      "application/vnd.jupyter.widget-view+json": {
       "model_id": "e0b89a3436584b4ea5118edd2f8120db",
       "version_major": 2,
       "version_minor": 0
      },
      "text/plain": [
       "  0%|          | 0/358 [00:00<?, ?it/s]"
      ]
     },
     "metadata": {},
     "output_type": "display_data"
    },
    {
     "name": "stdout",
     "output_type": "stream",
     "text": [
      "Loss: 0.029, accuracy: 99.196\n",
      "Validation\n"
     ]
    },
    {
     "data": {
      "application/vnd.jupyter.widget-view+json": {
       "model_id": "03d7975c45a547868f12e8a16107a33e",
       "version_major": 2,
       "version_minor": 0
      },
      "text/plain": [
       "  0%|          | 0/40 [00:00<?, ?it/s]"
      ]
     },
     "metadata": {},
     "output_type": "display_data"
    },
    {
     "name": "stdout",
     "output_type": "stream",
     "text": [
      "Loss: 0.060, accuracy: 98.310\n",
      "----------------------\n",
      "Training epoch:  17 / 20\n"
     ]
    },
    {
     "data": {
      "application/vnd.jupyter.widget-view+json": {
       "model_id": "b2ddf961385f4c72be75160fa3d6a5d0",
       "version_major": 2,
       "version_minor": 0
      },
      "text/plain": [
       "  0%|          | 0/358 [00:00<?, ?it/s]"
      ]
     },
     "metadata": {},
     "output_type": "display_data"
    },
    {
     "name": "stdout",
     "output_type": "stream",
     "text": [
      "Loss: 0.037, accuracy: 98.969\n",
      "Validation\n"
     ]
    },
    {
     "data": {
      "application/vnd.jupyter.widget-view+json": {
       "model_id": "3a475ec0a45044bfa2d51152ef7138a0",
       "version_major": 2,
       "version_minor": 0
      },
      "text/plain": [
       "  0%|          | 0/40 [00:00<?, ?it/s]"
      ]
     },
     "metadata": {},
     "output_type": "display_data"
    },
    {
     "name": "stdout",
     "output_type": "stream",
     "text": [
      "Loss: 0.049, accuracy: 98.664\n",
      "----------------------\n",
      "Training epoch:  18 / 20\n"
     ]
    },
    {
     "data": {
      "application/vnd.jupyter.widget-view+json": {
       "model_id": "7df8f3c447bf415c8e5510ae65306a57",
       "version_major": 2,
       "version_minor": 0
      },
      "text/plain": [
       "  0%|          | 0/358 [00:00<?, ?it/s]"
      ]
     },
     "metadata": {},
     "output_type": "display_data"
    },
    {
     "name": "stdout",
     "output_type": "stream",
     "text": [
      "Loss: 0.032, accuracy: 99.013\n",
      "Validation\n"
     ]
    },
    {
     "data": {
      "application/vnd.jupyter.widget-view+json": {
       "model_id": "a6c7ab0dce184d4cac2596cd549e9792",
       "version_major": 2,
       "version_minor": 0
      },
      "text/plain": [
       "  0%|          | 0/40 [00:00<?, ?it/s]"
      ]
     },
     "metadata": {},
     "output_type": "display_data"
    },
    {
     "name": "stdout",
     "output_type": "stream",
     "text": [
      "Loss: 0.066, accuracy: 98.231\n",
      "----------------------\n",
      "Training epoch:  19 / 20\n"
     ]
    },
    {
     "data": {
      "application/vnd.jupyter.widget-view+json": {
       "model_id": "f4d20990cd1647378727f09c577c73fe",
       "version_major": 2,
       "version_minor": 0
      },
      "text/plain": [
       "  0%|          | 0/358 [00:00<?, ?it/s]"
      ]
     },
     "metadata": {},
     "output_type": "display_data"
    },
    {
     "name": "stdout",
     "output_type": "stream",
     "text": [
      "Loss: 0.022, accuracy: 99.388\n",
      "Validation\n"
     ]
    },
    {
     "data": {
      "application/vnd.jupyter.widget-view+json": {
       "model_id": "1b14c634a1c24e118a75e93105ba1fb0",
       "version_major": 2,
       "version_minor": 0
      },
      "text/plain": [
       "  0%|          | 0/40 [00:00<?, ?it/s]"
      ]
     },
     "metadata": {},
     "output_type": "display_data"
    },
    {
     "name": "stdout",
     "output_type": "stream",
     "text": [
      "Loss: 0.053, accuracy: 98.664\n",
      "----------------------\n",
      "Training epoch:  20 / 20\n"
     ]
    },
    {
     "data": {
      "application/vnd.jupyter.widget-view+json": {
       "model_id": "ec3ce892b09847058a310e75007bca49",
       "version_major": 2,
       "version_minor": 0
      },
      "text/plain": [
       "  0%|          | 0/358 [00:00<?, ?it/s]"
      ]
     },
     "metadata": {},
     "output_type": "display_data"
    },
    {
     "name": "stdout",
     "output_type": "stream",
     "text": [
      "Loss: 0.027, accuracy: 99.244\n",
      "Validation\n"
     ]
    },
    {
     "data": {
      "application/vnd.jupyter.widget-view+json": {
       "model_id": "f900bcaebe0346cfaaaa73cf1b5b5477",
       "version_major": 2,
       "version_minor": 0
      },
      "text/plain": [
       "  0%|          | 0/40 [00:00<?, ?it/s]"
      ]
     },
     "metadata": {},
     "output_type": "display_data"
    },
    {
     "name": "stdout",
     "output_type": "stream",
     "text": [
      "Loss: 0.053, accuracy: 98.270\n",
      "----------------------\n",
      "Finished training! Enjoy your results!\n"
     ]
    }
   ],
   "source": [
    "for epoch in tqdm(range(num_epochs)):\n",
    "  #training\n",
    "  run_epoch(epoch, is_train=True)\n",
    "\n",
    "  #validation\n",
    "  with torch.no_grad():\n",
    "      run_epoch(epoch, is_train=False)\n",
    "\n",
    "  print('----------------------')\n",
    "\n",
    "print('Finished training! Enjoy your results!')"
   ]
  },
  {
   "cell_type": "code",
   "execution_count": 54,
   "id": "ac6ca476-c773-43ad-9ef3-9e1a82c9542d",
   "metadata": {},
   "outputs": [
    {
     "data": {
      "application/vnd.jupyter.widget-view+json": {
       "model_id": "460dea41746143409fa50dcfd170574e",
       "version_major": 2,
       "version_minor": 0
      },
      "text/plain": [
       "  0%|          | 0/118 [00:00<?, ?it/s]"
      ]
     },
     "metadata": {},
     "output_type": "display_data"
    }
   ],
   "source": [
    "predictions = {}\n",
    "for batch_idx, (data, filenames) in enumerate(tqdm(testloader)):\n",
    "    # Get data to Cuda/MPS\n",
    "    data = data.to(device=DEVICE)\n",
    "    scores = net(data)\n",
    "\n",
    "    for filename, score in zip(filenames, scores):\n",
    "        predictions[filename] = score.argmax().item()\n",
    "preds_df = pd.DataFrame(predictions.items(), columns=['filename', 'class_number'])\n",
    "preds_df.to_csv(f'./outputs/predictions_{experiment}.csv', index=False)"
   ]
  },
  {
   "cell_type": "code",
   "execution_count": null,
   "id": "1f6fcef3-f297-4edb-b380-bd23f1952ddd",
   "metadata": {},
   "outputs": [],
   "source": []
  },
  {
   "cell_type": "markdown",
   "id": "10be761f-7f7b-42f3-a396-e715024bb82d",
   "metadata": {
    "jp-MarkdownHeadingCollapsed": true
   },
   "source": [
    "# Эксперимент 8. Аугментации с блюром на ResNet152, CosineLR"
   ]
  },
  {
   "cell_type": "code",
   "execution_count": 56,
   "id": "383c478f-2846-42dd-86ba-8595bacdeaa0",
   "metadata": {},
   "outputs": [],
   "source": [
    "experiment = 'ResNet152_AugBaseBlur_Adam_CosineLR01_BS64'"
   ]
  },
  {
   "cell_type": "code",
   "execution_count": 57,
   "id": "2a033641-24ce-496d-b8eb-a4c47c81cf46",
   "metadata": {},
   "outputs": [],
   "source": [
    "net = models.resnet152(pretrained=True).to(DEVICE)\n",
    "lr = 0.01\n",
    "num_epochs = 20\n",
    "\n",
    "optimizer = optim.Adam(net.parameters(), lr)\n",
    "criterion = nn.CrossEntropyLoss()\n",
    "scheduler = CosineAnnealingLR(optimizer, T_max=int(len(trainset)/batch_size + 1)*num_epochs)"
   ]
  },
  {
   "cell_type": "code",
   "execution_count": 58,
   "id": "1e90f86c-bdcc-4e79-a0bb-4e614eff1d4f",
   "metadata": {},
   "outputs": [],
   "source": [
    "def run_epoch(epoch, is_train):\n",
    "  \"\"\"\n",
    "  Training and evaluaton loop over samples\n",
    "  Args:\n",
    "      train_mode (bool): True for train mode\n",
    "  \"\"\"\n",
    "  if is_train:\n",
    "      net.train()\n",
    "      loader = trainloader\n",
    "      print(\"Training epoch: \", epoch + 1, \"/\", num_epochs)\n",
    "  else:\n",
    "      net.eval()\n",
    "      loader = valloader\n",
    "      print('Validation')\n",
    "      \n",
    "  running_loss = 0.0\n",
    "  correct = 0.0\n",
    "  total = 0.0\n",
    "\n",
    "  for i, data in enumerate(loader):\n",
    "      images, labels, _= data\n",
    "      images, labels = images.cuda(), labels.cuda()\n",
    "      outputs = net(images)\n",
    "      loss = criterion(outputs, labels)\n",
    "      \n",
    "      if is_train:\n",
    "          optimizer.zero_grad()\n",
    "          loss.backward()\n",
    "          optimizer.step()\n",
    "          scheduler.step()\n",
    "\n",
    "      running_loss += loss.item()\n",
    "      total += images.data.size(0)\n",
    "\n",
    "      _, predicted = torch.max(outputs.data, 1)\n",
    "      correct += (predicted == labels.data).sum()\n",
    "  \n",
    "  lr = scheduler.optimizer.param_groups[0]['lr']\n",
    "  print('Loss: {:.3f}, accuracy: {:.3f}, lr: {}'.format(running_loss / (i + 1), correct / total * 100.0, lr))"
   ]
  },
  {
   "cell_type": "code",
   "execution_count": 59,
   "id": "85191a40-7d74-4628-9256-07fc9d804dfa",
   "metadata": {},
   "outputs": [
    {
     "name": "stdout",
     "output_type": "stream",
     "text": [
      "Training epoch:  1 / 20\n",
      "Loss: 3.337, accuracy: 19.486, lr: 0.009938441702975682\n",
      "Validation\n",
      "Loss: 3.639, accuracy: 34.277, lr: 0.009938441702975682\n",
      "----------------------\n",
      "Training epoch:  2 / 20\n",
      "Loss: 1.886, accuracy: 47.846, lr: 0.009755282581475774\n",
      "Validation\n",
      "Loss: 2.299, accuracy: 61.635, lr: 0.009755282581475774\n",
      "----------------------\n",
      "Training epoch:  3 / 20\n",
      "Loss: 1.035, accuracy: 70.290, lr: 0.009455032620941833\n",
      "Validation\n",
      "Loss: 2.681, accuracy: 71.069, lr: 0.009455032620941833\n",
      "----------------------\n",
      "Training epoch:  4 / 20\n",
      "Loss: 0.670, accuracy: 80.540, lr: 0.009045084971874747\n",
      "Validation\n",
      "Loss: 0.671, accuracy: 81.014, lr: 0.009045084971874747\n",
      "----------------------\n",
      "Training epoch:  5 / 20\n",
      "Loss: 0.479, accuracy: 85.914, lr: 0.00853553390593274\n",
      "Validation\n",
      "Loss: 1.454, accuracy: 85.731, lr: 0.00853553390593274\n",
      "----------------------\n",
      "Training epoch:  6 / 20\n",
      "Loss: 0.372, accuracy: 89.016, lr: 0.007938926261462361\n",
      "Validation\n",
      "Loss: 0.396, accuracy: 88.325, lr: 0.007938926261462361\n",
      "----------------------\n",
      "Training epoch:  7 / 20\n",
      "Loss: 0.289, accuracy: 91.244, lr: 0.0072699524986977355\n",
      "Validation\n",
      "Loss: 4.734, accuracy: 89.269, lr: 0.0072699524986977355\n",
      "----------------------\n",
      "Training epoch:  8 / 20\n",
      "Loss: 0.277, accuracy: 91.555, lr: 0.006545084971874734\n",
      "Validation\n",
      "Loss: 0.249, accuracy: 92.610, lr: 0.006545084971874734\n",
      "----------------------\n",
      "Training epoch:  9 / 20\n",
      "Loss: 0.199, accuracy: 93.971, lr: 0.005782172325201145\n",
      "Validation\n",
      "Loss: 0.242, accuracy: 93.711, lr: 0.005782172325201145\n",
      "----------------------\n",
      "Training epoch:  10 / 20\n",
      "Loss: 0.166, accuracy: 94.945, lr: 0.004999999999999997\n",
      "Validation\n",
      "Loss: 0.206, accuracy: 94.143, lr: 0.004999999999999997\n",
      "----------------------\n",
      "Training epoch:  11 / 20\n",
      "Loss: 0.132, accuracy: 95.779, lr: 0.004217827674798831\n",
      "Validation\n",
      "Loss: 0.391, accuracy: 93.947, lr: 0.004217827674798831\n",
      "----------------------\n",
      "Training epoch:  12 / 20\n",
      "Loss: 0.107, accuracy: 96.522, lr: 0.003454915028125253\n",
      "Validation\n",
      "Loss: 0.185, accuracy: 95.401, lr: 0.003454915028125253\n",
      "----------------------\n",
      "Training epoch:  13 / 20\n",
      "Loss: 0.083, accuracy: 97.256, lr: 0.0027300475013022525\n",
      "Validation\n",
      "Loss: 0.280, accuracy: 95.519, lr: 0.0027300475013022525\n",
      "----------------------\n",
      "Training epoch:  14 / 20\n",
      "Loss: 0.057, accuracy: 98.152, lr: 0.002061073738537622\n",
      "Validation\n",
      "Loss: 0.297, accuracy: 96.148, lr: 0.002061073738537622\n",
      "----------------------\n",
      "Training epoch:  15 / 20\n",
      "Loss: 0.042, accuracy: 98.694, lr: 0.0014644660940672564\n",
      "Validation\n",
      "Loss: 1.391, accuracy: 95.362, lr: 0.0014644660940672564\n",
      "----------------------\n",
      "Training epoch:  16 / 20\n",
      "Loss: 0.030, accuracy: 98.982, lr: 0.0009549150281252607\n",
      "Validation\n",
      "Loss: 0.977, accuracy: 95.715, lr: 0.0009549150281252607\n",
      "----------------------\n",
      "Training epoch:  17 / 20\n",
      "Loss: 0.029, accuracy: 99.144, lr: 0.0005449673790581593\n",
      "Validation\n",
      "Loss: 1.451, accuracy: 96.226, lr: 0.0005449673790581593\n",
      "----------------------\n",
      "Training epoch:  18 / 20\n",
      "Loss: 0.022, accuracy: 99.318, lr: 0.00024471741852423115\n",
      "Validation\n",
      "Loss: 2.177, accuracy: 96.384, lr: 0.00024471741852423115\n",
      "----------------------\n",
      "Training epoch:  19 / 20\n",
      "Loss: 0.015, accuracy: 99.546, lr: 6.155829702431139e-05\n",
      "Validation\n",
      "Loss: 3.337, accuracy: 96.344, lr: 6.155829702431139e-05\n",
      "----------------------\n",
      "Training epoch:  20 / 20\n",
      "Loss: 0.014, accuracy: 99.646, lr: 0.0\n",
      "Validation\n",
      "Loss: 2.380, accuracy: 96.423, lr: 0.0\n",
      "----------------------\n",
      "Finished training! Enjoy your results!\n"
     ]
    }
   ],
   "source": [
    "for epoch in range(num_epochs):\n",
    "  #training\n",
    "  run_epoch(epoch, is_train=True) \n",
    "\n",
    "  #validation\n",
    "  with torch.no_grad():\n",
    "      run_epoch(epoch, is_train=False) \n",
    "\n",
    "  print('----------------------')\n",
    "\n",
    "print('Finished training! Enjoy your results!')"
   ]
  },
  {
   "cell_type": "code",
   "execution_count": 60,
   "id": "aca7d42b-bd8d-4805-99f6-5b04893cea3d",
   "metadata": {},
   "outputs": [
    {
     "data": {
      "application/vnd.jupyter.widget-view+json": {
       "model_id": "b0b6c92111e44916a9b2e6cf13adfc48",
       "version_major": 2,
       "version_minor": 0
      },
      "text/plain": [
       "  0%|          | 0/118 [00:00<?, ?it/s]"
      ]
     },
     "metadata": {},
     "output_type": "display_data"
    }
   ],
   "source": [
    "predictions = {}\n",
    "for batch_idx, (data, filenames) in enumerate(tqdm(testloader)):\n",
    "    # Get data to Cuda/MPS\n",
    "    data = data.to(device=DEVICE)\n",
    "    scores = net(data)\n",
    "\n",
    "    for filename, score in zip(filenames, scores):\n",
    "        predictions[filename] = score.argmax().item()\n",
    "preds_df = pd.DataFrame(predictions.items(), columns=['filename', 'class_number'])\n",
    "preds_df.to_csv(f'./outputs/predictions_{experiment}.csv', index=False)"
   ]
  },
  {
   "cell_type": "code",
   "execution_count": null,
   "id": "2ccf0364-d03a-46d6-9be3-df778e44bab9",
   "metadata": {},
   "outputs": [],
   "source": []
  }
 ],
 "metadata": {
  "kernelspec": {
   "display_name": "Python 3 (ipykernel)",
   "language": "python",
   "name": "python3"
  },
  "language_info": {
   "codemirror_mode": {
    "name": "ipython",
    "version": 3
   },
   "file_extension": ".py",
   "mimetype": "text/x-python",
   "name": "python",
   "nbconvert_exporter": "python",
   "pygments_lexer": "ipython3",
   "version": "3.11.7"
  }
 },
 "nbformat": 4,
 "nbformat_minor": 5
}
