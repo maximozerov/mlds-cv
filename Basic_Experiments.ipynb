{
 "cells": [
  {
   "cell_type": "code",
   "execution_count": 10,
   "id": "9808a915-6fbf-462d-adc8-ad0586bb816f",
   "metadata": {},
   "outputs": [],
   "source": [
    "import pandas as pd\n",
    "import numpy as np\n",
    "\n",
    "import torch\n",
    "import torchvision.transforms as T\n",
    "from torch.utils.data import Dataset, DataLoader\n",
    "\n",
    "import os\n",
    "import shutil\n",
    "from PIL import Image\n",
    "from sklearn.model_selection import train_test_split\n",
    "from tqdm.notebook import tqdm"
   ]
  },
  {
   "cell_type": "code",
   "execution_count": 3,
   "id": "697a4398-a2ec-4b52-a85b-11a057ec43b6",
   "metadata": {},
   "outputs": [],
   "source": [
    "TRAIN_ANNOTATIONS = 'data/train_ann.csv' # path to file with classes annotations for train images\n",
    "TRAIN_PATH = 'data/train' # path to training dataset\n",
    "TEST_PATH = 'data/test' # path to test dataset for preditions"
   ]
  },
  {
   "cell_type": "code",
   "execution_count": 4,
   "id": "601805f9-29d4-402f-b2c4-d8833e630653",
   "metadata": {},
   "outputs": [],
   "source": [
    "annotations = pd.read_csv(TRAIN_ANNOTATIONS)"
   ]
  },
  {
   "cell_type": "code",
   "execution_count": 5,
   "id": "189f3e00-d541-4485-9d5b-8c5191bb9be7",
   "metadata": {},
   "outputs": [],
   "source": [
    "assert annotations['class'].nunique()==196 # check if all classes are in train"
   ]
  },
  {
   "cell_type": "code",
   "execution_count": null,
   "id": "56d0ed33-af0d-4b85-9f2e-47cdc273932d",
   "metadata": {},
   "outputs": [],
   "source": []
  }
 ],
 "metadata": {
  "kernelspec": {
   "display_name": "Python 3 (ipykernel)",
   "language": "python",
   "name": "python3"
  },
  "language_info": {
   "codemirror_mode": {
    "name": "ipython",
    "version": 3
   },
   "file_extension": ".py",
   "mimetype": "text/x-python",
   "name": "python",
   "nbconvert_exporter": "python",
   "pygments_lexer": "ipython3",
   "version": "3.11.7"
  }
 },
 "nbformat": 4,
 "nbformat_minor": 5
}
